{
 "metadata": {
  "name": ""
 },
 "nbformat": 3,
 "nbformat_minor": 0,
 "worksheets": [
  {
   "cells": [
    {
     "cell_type": "markdown",
     "metadata": {},
     "source": [
      "# Gensim example\n",
      "\n",
      "* The [gensim tutorial](http://radimrehurek.com/gensim/tut1.html) shows you many ways of doing things...and gives reasons and explanations.\n",
      "* This notebook gives a step-by-step cookbook that will work if have a directory structure with flat files"
     ]
    },
    {
     "cell_type": "markdown",
     "metadata": {},
     "source": [
      "---\n",
      "\n",
      "## Set up\n",
      "\n",
      "---"
     ]
    },
    {
     "cell_type": "code",
     "collapsed": false,
     "input": [
      "import os\n",
      "\n",
      "import pandas as pd\n",
      "import matplotlib.pylab as plt\n",
      "\n",
      "#import logging\n",
      "#logging.basicConfig(format='%(asctime)s : %(levelname)s : %(message)s', level=logging.INFO)\n",
      "from gensim import corpora, models, similarities\n",
      "import gensim\n",
      "\n",
      "from jrl_utils.src import nlp\n",
      "from declass.declass import text_processors, filefilter, gensim_helpers"
     ],
     "language": "python",
     "metadata": {},
     "outputs": [],
     "prompt_number": 238
    },
    {
     "cell_type": "code",
     "collapsed": false,
     "input": [
      "reload(text_processors)\n",
      "reload(filefilter)\n",
      "reload(gensim_helpers)"
     ],
     "language": "python",
     "metadata": {},
     "outputs": [
      {
       "metadata": {},
       "output_type": "pyout",
       "prompt_number": 253,
       "text": [
        "<module 'declass.declass.gensim_helpers' from '/home/langmore/lib/declass/declass/gensim_helpers.py'>"
       ]
      }
     ],
     "prompt_number": 253
    },
    {
     "cell_type": "code",
     "collapsed": false,
     "input": [
      "###############################################################################           \n",
      "# Paths                                                                                   \n",
      "###############################################################################           \n",
      "# I use environment variables to set my base paths\n",
      "DATA = os.environ['DATA']                                                                 \n",
      "ME = os.environ['ME']                                                                     \n",
      "MYDATA = os.path.join(DATA, ME, 'ddrs-01')                                           \n",
      "RAW = os.path.join(MYDATA, 'raw')                                                         \n",
      "PROCESSED = os.path.join(MYDATA, 'processed')\n",
      "\n",
      "# You only need to set these paths...any way you can\n",
      "metafile_path = os.path.join(RAW, 'ddrs_meta.csv')\n",
      "text_base_path = os.path.join(RAW, 'ddrs')\n",
      "corpus_path = os.path.join(PROCESSED, 'corpus', 'ddrs-gensim.svmlight')"
     ],
     "language": "python",
     "metadata": {},
     "outputs": [],
     "prompt_number": 254
    },
    {
     "cell_type": "markdown",
     "metadata": {},
     "source": [
      "---\n",
      "\n",
      "## Making a dictionary and a corpus\n",
      "\n",
      "* In gensim, a *dictionary* stores the mapping between strings (e.g. the words in text) and their integer representation (tokenid).  This can be accessed via `dictionary.token2id`\n",
      "* The dictionary is a basic data structure that is used in many places in gensim\n",
      "* In gensim, a *corpus* is an object that streams *bag of word* representations of documents\n",
      "* In gensim, the bag of words are always lists of pairs $$[(tokenid_1, value_1),...,(tokenid_k, value_k)]$$\n",
      "\n",
      "---"
     ]
    },
    {
     "cell_type": "code",
     "collapsed": false,
     "input": [
      "# The tokenizer turns strings of text into lists of tokens, e.g. ['hi', 'bye']\n",
      "tokenizer = text_processors.TokenizerBasic()"
     ],
     "language": "python",
     "metadata": {},
     "outputs": [],
     "prompt_number": 255
    },
    {
     "cell_type": "code",
     "collapsed": false,
     "input": [
      "# Define a TokenStreamer over a set of paths\n",
      "# This will read text from each path and return tokens\n",
      "path_iter = filefilter.get_paths_iter(text_base_path)\n",
      "token_stream = text_processors.TokenStreamer(tokenizer, paths=path_iter, limit=50)"
     ],
     "language": "python",
     "metadata": {},
     "outputs": [],
     "prompt_number": 256
    },
    {
     "cell_type": "code",
     "collapsed": false,
     "input": [
      "dictionary = corpora.Dictionary(token_stream)\n",
      "print dictionary"
     ],
     "language": "python",
     "metadata": {},
     "outputs": [
      {
       "output_type": "stream",
       "stream": "stdout",
       "text": [
        "Dictionary(1979 unique tokens)\n"
       ]
      }
     ],
     "prompt_number": 257
    },
    {
     "cell_type": "code",
     "collapsed": false,
     "input": [
      "# Remove some words from the dict\n",
      "low_freq_ids = [tokenid for tokenid, docfreq in dictionary.dfs.iteritems() if docfreq < 5]\n",
      "dictionary.filter_tokens(low_freq_ids)"
     ],
     "language": "python",
     "metadata": {},
     "outputs": [],
     "prompt_number": 258
    },
    {
     "cell_type": "code",
     "collapsed": false,
     "input": [
      "# Compactify and save\n",
      "dictionary.compactify()\n",
      "dictionary.save(os.path.join(PROCESSED, 'dict', 'ddrs.dict'))\n",
      "print dictionary"
     ],
     "language": "python",
     "metadata": {},
     "outputs": [
      {
       "output_type": "stream",
       "stream": "stdout",
       "text": [
        "Dictionary(131 unique tokens)\n"
       ]
      }
     ],
     "prompt_number": 259
    },
    {
     "cell_type": "code",
     "collapsed": false,
     "input": [
      "# Create and then serialize (save to disk in a compact format) a corpus\n",
      "corpus = gensim_helpers.TextFileCorpus(tokenizer, dictionary, base_path=text_base_path, limit=150)\n",
      "corpora.SvmLightCorpus.serialize(corpus_path, corpus)"
     ],
     "language": "python",
     "metadata": {},
     "outputs": [],
     "prompt_number": 260
    },
    {
     "cell_type": "code",
     "collapsed": false,
     "input": [
      "# Load the corpus from disk \n",
      "# You should start all analysis with this step\n",
      "corpus = corpora.SvmLightCorpus(corpus_path)"
     ],
     "language": "python",
     "metadata": {},
     "outputs": [],
     "prompt_number": 261
    },
    {
     "cell_type": "markdown",
     "metadata": {},
     "source": [
      "## Do some EDA on the dictionary\n",
      "\n",
      "* You could also modify the dictionary here"
     ]
    },
    {
     "cell_type": "code",
     "collapsed": false,
     "input": [
      "id2token = dict(dictionary.items())  # dictionary.id2token is not populated by default!!!\n",
      "words = pd.DataFrame(\n",
      "                {id2token[tokenid]: [tokenid, docfreq] \n",
      "                 for tokenid, docfreq in dictionary.dfs.iteritems()},\n",
      "                index=['tokenid', 'docfreq']).T"
     ],
     "language": "python",
     "metadata": {},
     "outputs": [],
     "prompt_number": 228
    },
    {
     "cell_type": "code",
     "collapsed": false,
     "input": [
      "words.sort_index(by='docfreq', ascending=False).head()"
     ],
     "language": "python",
     "metadata": {},
     "outputs": [
      {
       "html": [
        "<div style=\"max-height:1000px;max-width:1500px;overflow:auto;\">\n",
        "<table border=\"1\" class=\"dataframe\">\n",
        "  <thead>\n",
        "    <tr style=\"text-align: right;\">\n",
        "      <th></th>\n",
        "      <th>tokenid</th>\n",
        "      <th>docfreq</th>\n",
        "    </tr>\n",
        "  </thead>\n",
        "  <tbody>\n",
        "    <tr>\n",
        "      <th>secret</th>\n",
        "      <td> 112163</td>\n",
        "      <td> 325339</td>\n",
        "    </tr>\n",
        "    <tr>\n",
        "      <th>library</th>\n",
        "      <td>  58077</td>\n",
        "      <td> 274797</td>\n",
        "    </tr>\n",
        "    <tr>\n",
        "      <th>copy</th>\n",
        "      <td> 143669</td>\n",
        "      <td> 270727</td>\n",
        "    </tr>\n",
        "    <tr>\n",
        "      <th>such</th>\n",
        "      <td>  48759</td>\n",
        "      <td> 193413</td>\n",
        "    </tr>\n",
        "    <tr>\n",
        "      <th>more</th>\n",
        "      <td>   2709</td>\n",
        "      <td> 189259</td>\n",
        "    </tr>\n",
        "  </tbody>\n",
        "</table>\n",
        "</div>"
       ],
       "metadata": {},
       "output_type": "pyout",
       "prompt_number": 229,
       "text": [
        "         tokenid  docfreq\n",
        "secret    112163   325339\n",
        "library    58077   274797\n",
        "copy      143669   270727\n",
        "such       48759   193413\n",
        "more        2709   189259"
       ]
      }
     ],
     "prompt_number": 229
    },
    {
     "cell_type": "code",
     "collapsed": false,
     "input": [
      "# Log plot of distribution shows rapidly decaying tail\n",
      "words.docfreq.apply(np.log10).hist(bins=200)"
     ],
     "language": "python",
     "metadata": {},
     "outputs": [
      {
       "metadata": {},
       "output_type": "pyout",
       "prompt_number": 230,
       "text": [
        "<matplotlib.axes.AxesSubplot at 0x81648d0>"
       ]
      },
      {
       "metadata": {},
       "output_type": "display_data",
       "png": "[encoded data removed]",
       "text": [
        "<matplotlib.figure.Figure at 0x30c4950>"
       ]
      }
     ],
     "prompt_number": 230
    },
    {
     "cell_type": "markdown",
     "metadata": {},
     "source": [
      "## LSI"
     ]
    },
    {
     "cell_type": "code",
     "collapsed": false,
     "input": [
      "# Load the corpus from disk \n",
      "# You should start all analysis with this step\n",
      "corpus = corpora.SvmLightCorpus(corpus_path)"
     ],
     "language": "python",
     "metadata": {},
     "outputs": [],
     "prompt_number": 231
    },
    {
     "cell_type": "code",
     "collapsed": false,
     "input": [
      "lsi = models.LsiModel(corpus, id2word=dictionary, num_topics=5)"
     ],
     "language": "python",
     "metadata": {},
     "outputs": [],
     "prompt_number": 232
    },
    {
     "cell_type": "code",
     "collapsed": false,
     "input": [
      "lsi.print_topics(2)"
     ],
     "language": "python",
     "metadata": {},
     "outputs": [
      {
       "metadata": {},
       "output_type": "pyout",
       "prompt_number": 233,
       "text": [
        "['0.272*\"disarmament\" + 0.250*\"new\" + 0.242*\"secret\" + 0.188*\"committee\" + 0.176*\"soviet\" + 0.170*\"confidential\" + 0.170*\"general\" + 0.166*\"united\" + 0.163*\"tel\" + 0.160*\"soviets\"',\n",
        " '0.186*\"secret\" + 0.175*\"jcs\" + 0.172*\"forces\" + 0.161*\"copy\" + -0.151*\"disarmament\" + 0.142*\"communist\" + 0.140*\"action\" + 0.134*\"top\" + 0.128*\"un\" + -0.126*\"york\"']"
       ]
      }
     ],
     "prompt_number": 233
    },
    {
     "cell_type": "markdown",
     "metadata": {},
     "source": [
      "## LDA"
     ]
    },
    {
     "cell_type": "code",
     "collapsed": false,
     "input": [
      "num_topics = 10\n",
      "num_words = len(dictionary.items())\n",
      "alpha = None #np.log(2 + np.arange(num_topics))\n",
      "eta = None #np.log(2 + np.arange(num_words))\n",
      "lda = models.LdaModel(corpus, id2word=dictionary, num_topics=num_topics, passes=10, alpha=alpha, eta=eta, chunksize=1000)"
     ],
     "language": "python",
     "metadata": {},
     "outputs": [],
     "prompt_number": 234
    },
    {
     "cell_type": "code",
     "collapsed": false,
     "input": [
      "for i in range(num_topics):\n",
      "    print\n",
      "    print \"topic\", i\n",
      "    print lda.print_topic(i, topn=6)"
     ],
     "language": "python",
     "metadata": {},
     "outputs": [
      {
       "output_type": "stream",
       "stream": "stdout",
       "text": [
        "\n",
        "topic 0\n",
        "0.001*north + 0.001*vietnam + 0.001*vietnamese + 0.001*secret + 0.001*chinese + 0.001*fire\n",
        "\n",
        "topic 1\n",
        "0.001*sterling + 0.001*bis + 0.001*credit + 0.001*text + 0.001*reserve + 0.000*illegible\n",
        "\n",
        "topic 2\n",
        "0.000*morning + 0.000*ky + 0.000*radford + 0.000*coup + 0.000*copies + 0.000*rebels\n",
        "\n",
        "topic 3\n",
        "0.000*programs + 0.000*people + 0.000*popular + 0.000*operations + 0.000*policy + 0.000*incident\n",
        "\n",
        "topic 4\n",
        "0.000*estimate + 0.000*discusses + 0.000*snie + 0.000*reactions + 0.000*help + 0.000*airfields\n",
        "\n",
        "topic 5\n",
        "0.005*secret + 0.004*disarmament + 0.004*new + 0.003*committee + 0.003*general + 0.003*confidential"
       ]
      },
      {
       "output_type": "stream",
       "stream": "stdout",
       "text": [
        "\n",
        "\n",
        "topic 6\n",
        "0.000*endc + 0.000*hill + 0.000*continues + 0.000*socialist + 0.000*publicly + 0.000*eighteen\n",
        "\n",
        "topic 7\n",
        "0.000*universities + 0.000*leading + 0.000*paid + 0.000*academic + 0.000*comparable + 0.000*panel\n",
        "\n",
        "topic 8\n",
        "0.002*jcs + 0.002*message + 0.001*copy + 0.001*secret + 0.001*page + 0.001*un\n",
        "\n",
        "topic 9\n",
        "0.000*cuba + 0.000*coins + 0.000*govt + 0.000*guarantees + 0.000*programs + 0.000*csa\n"
       ]
      }
     ],
     "prompt_number": 237
    }
   ],
   "metadata": {}
  }
 ]
}