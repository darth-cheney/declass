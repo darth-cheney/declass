{
 "metadata": {
  "name": ""
 },
 "nbformat": 3,
 "nbformat_minor": 0,
 "worksheets": [
  {
   "cells": [
    {
     "cell_type": "markdown",
     "metadata": {},
     "source": [
      "# Gensim example\n",
      "\n",
      "* The [gensim tutorial](http://radimrehurek.com/gensim/tut1.html) shows you many ways of doing things...and gives reasons and explanations.\n",
      "* This notebook gives a step-by-step cookbook that will work if have a directory structure with flat files"
     ]
    },
    {
     "cell_type": "markdown",
     "metadata": {},
     "source": [
      "---\n",
      "\n",
      "## Set up\n",
      "\n",
      "---"
     ]
    },
    {
     "cell_type": "code",
     "collapsed": false,
     "input": [
      "import os\n",
      "\n",
      "import pandas as pd\n",
      "import matplotlib.pylab as plt\n",
      "\n",
      "#import logging\n",
      "#logging.basicConfig(format='%(asctime)s : %(levelname)s : %(message)s', level=logging.INFO)\n",
      "from gensim import corpora, models, similarities\n",
      "import gensim\n",
      "\n",
      "from jrl_utils.src import nlp\n",
      "from declass.declass import text_processors, filefilter, gensim_helpers"
     ],
     "language": "python",
     "metadata": {},
     "outputs": [],
     "prompt_number": 1
    },
    {
     "cell_type": "code",
     "collapsed": false,
     "input": [
      "reload(text_processors)\n",
      "reload(filefilter)\n",
      "reload(gensim_helpers)"
     ],
     "language": "python",
     "metadata": {},
     "outputs": [
      {
       "metadata": {},
       "output_type": "pyout",
       "prompt_number": 2,
       "text": [
        "<module 'declass.declass.gensim_helpers' from '/home/langmore/lib/declass/declass/gensim_helpers.pyc'>"
       ]
      }
     ],
     "prompt_number": 2
    },
    {
     "cell_type": "code",
     "collapsed": false,
     "input": [
      "###############################################################################           \n",
      "# Paths                                                                                   \n",
      "###############################################################################           \n",
      "# I use environment variables to set my base paths\n",
      "DATA = os.environ['DATA']                                                                 \n",
      "ME = os.environ['ME']                                                                     \n",
      "MYDATA = os.path.join(DATA, ME, 'ddrs-01')                                           \n",
      "RAW = os.path.join(MYDATA, 'raw')                                                         \n",
      "PROCESSED = os.path.join(MYDATA, 'processed')\n",
      "\n",
      "# You only need to set these paths...any way you can\n",
      "metafile_path = os.path.join(RAW, 'ddrs_meta.csv')\n",
      "text_base_path = os.path.join(RAW, 'ddrs')\n",
      "corpus_path = os.path.join(PROCESSED, 'corpus', 'ddrs-gensim.svmlight')"
     ],
     "language": "python",
     "metadata": {},
     "outputs": [],
     "prompt_number": 3
    },
    {
     "cell_type": "markdown",
     "metadata": {},
     "source": [
      "---\n",
      "\n",
      "## Making a simple corpus\n",
      "\n",
      "---"
     ]
    },
    {
     "cell_type": "code",
     "collapsed": false,
     "input": [
      "tokenizer = text_processors.TokenizerBasic()"
     ],
     "language": "python",
     "metadata": {},
     "outputs": [],
     "prompt_number": 4
    },
    {
     "cell_type": "code",
     "collapsed": false,
     "input": [
      "# Get 100 paths from base_path\n",
      "path_iter = filefilter.get_paths_iter(text_base_path)\n",
      "token_stream = text_processors.TokenStreamer(tokenizer, paths=path_iter, limit=100)"
     ],
     "language": "python",
     "metadata": {},
     "outputs": [],
     "prompt_number": 5
    },
    {
     "cell_type": "code",
     "collapsed": false,
     "input": [
      "dictionary = corpora.Dictionary(token_stream)\n",
      "print dictionary"
     ],
     "language": "python",
     "metadata": {},
     "outputs": [
      {
       "output_type": "stream",
       "stream": "stdout",
       "text": [
        "Dictionary(4608 unique tokens)\n"
       ]
      }
     ],
     "prompt_number": 6
    },
    {
     "cell_type": "code",
     "collapsed": false,
     "input": [
      "# Remove some words from the dict\n",
      "low_freq_ids = [tokenid for tokenid, docfreq in dictionary.dfs.iteritems() if docfreq < 5]\n",
      "dictionary.filter_tokens(low_freq_ids)"
     ],
     "language": "python",
     "metadata": {},
     "outputs": [],
     "prompt_number": 7
    },
    {
     "cell_type": "code",
     "collapsed": false,
     "input": [
      "# Compactify and save\n",
      "dictionary.compactify()\n",
      "dictionary.save(os.path.join(PROCESSED, 'dict', 'ddrs.dict'))\n",
      "print dictionary"
     ],
     "language": "python",
     "metadata": {},
     "outputs": [
      {
       "output_type": "stream",
       "stream": "stdout",
       "text": [
        "Dictionary(308 unique tokens)\n"
       ]
      }
     ],
     "prompt_number": 8
    },
    {
     "cell_type": "code",
     "collapsed": false,
     "input": [
      "# Create and then serialize (save to disk in a compact format) a corpus\n",
      "corpus = gensim_helpers.TextFileCorpus(tokenizer, dictionary, base_path=text_base_path, limit=150)\n",
      "corpora.SvmLightCorpus.serialize(corpus_path, corpus)"
     ],
     "language": "python",
     "metadata": {},
     "outputs": [],
     "prompt_number": 9
    },
    {
     "cell_type": "code",
     "collapsed": false,
     "input": [
      "# Load the corpus from disk \n",
      "# You should start all analysis with this step\n",
      "corpus = corpora.SvmLightCorpus(corpus_path)"
     ],
     "language": "python",
     "metadata": {},
     "outputs": [],
     "prompt_number": 10
    },
    {
     "cell_type": "markdown",
     "metadata": {},
     "source": [
      "## Do some EDA on the dictionary\n",
      "\n",
      "* You could also modify the dictionary here"
     ]
    },
    {
     "cell_type": "code",
     "collapsed": false,
     "input": [
      "id2token = dict(dictionary.items())  # dictionary.id2token is not populated by default!!!\n",
      "words = pd.DataFrame(\n",
      "                {id2token[tokenid]: [tokenid, docfreq] \n",
      "                 for tokenid, docfreq in dictionary.dfs.iteritems()},\n",
      "                index=['tokenid', 'docfreq']).T"
     ],
     "language": "python",
     "metadata": {},
     "outputs": [],
     "prompt_number": 11
    },
    {
     "cell_type": "code",
     "collapsed": false,
     "input": [
      "words.head()"
     ],
     "language": "python",
     "metadata": {},
     "outputs": [
      {
       "html": [
        "<div style=\"max-height:1000px;max-width:1500px;overflow:auto;\">\n",
        "<table border=\"1\" class=\"dataframe\">\n",
        "  <thead>\n",
        "    <tr style=\"text-align: right;\">\n",
        "      <th></th>\n",
        "      <th>tokenid</th>\n",
        "      <th>docfreq</th>\n",
        "    </tr>\n",
        "  </thead>\n",
        "  <tbody>\n",
        "    <tr>\n",
        "      <th>ACTION</th>\n",
        "      <td> 206</td>\n",
        "      <td> 13</td>\n",
        "    </tr>\n",
        "    <tr>\n",
        "      <th>ADDITIONAL</th>\n",
        "      <td>  23</td>\n",
        "      <td>  5</td>\n",
        "    </tr>\n",
        "    <tr>\n",
        "      <th>AGREEMENT</th>\n",
        "      <td> 132</td>\n",
        "      <td>  5</td>\n",
        "    </tr>\n",
        "    <tr>\n",
        "      <th>AIR</th>\n",
        "      <td> 243</td>\n",
        "      <td>  6</td>\n",
        "    </tr>\n",
        "    <tr>\n",
        "      <th>AIRCRAFT</th>\n",
        "      <td> 246</td>\n",
        "      <td>  9</td>\n",
        "    </tr>\n",
        "  </tbody>\n",
        "</table>\n",
        "</div>"
       ],
       "metadata": {},
       "output_type": "pyout",
       "prompt_number": 12,
       "text": [
        "            tokenid  docfreq\n",
        "ACTION          206       13\n",
        "ADDITIONAL       23        5\n",
        "AGREEMENT       132        5\n",
        "AIR             243        6\n",
        "AIRCRAFT        246        9"
       ]
      }
     ],
     "prompt_number": 12
    },
    {
     "cell_type": "code",
     "collapsed": false,
     "input": [
      "words.docfreq.apply(np.log10).hist(bins=200)"
     ],
     "language": "python",
     "metadata": {},
     "outputs": [
      {
       "metadata": {},
       "output_type": "pyout",
       "prompt_number": 13,
       "text": [
        "<matplotlib.axes.AxesSubplot at 0x375e5d0>"
       ]
      },
      {
       "metadata": {},
       "output_type": "display_data",
       "png": "[encoded data removed]",
       "text": [
        "<matplotlib.figure.Figure at 0x375e290>"
       ]
      }
     ],
     "prompt_number": 13
    },
    {
     "cell_type": "markdown",
     "metadata": {},
     "source": [
      "## LSI"
     ]
    },
    {
     "cell_type": "code",
     "collapsed": false,
     "input": [
      "# Load the corpus from disk \n",
      "# You should start all analysis with this step\n",
      "corpus = corpora.SvmLightCorpus(corpus_path)"
     ],
     "language": "python",
     "metadata": {},
     "outputs": [],
     "prompt_number": 25
    },
    {
     "cell_type": "code",
     "collapsed": false,
     "input": [
      "lsi = models.LsiModel(corpus, id2word=dictionary, num_topics=5)"
     ],
     "language": "python",
     "metadata": {},
     "outputs": [],
     "prompt_number": 35
    },
    {
     "cell_type": "code",
     "collapsed": false,
     "input": [
      "lsi.print_topics(2)"
     ],
     "language": "python",
     "metadata": {},
     "outputs": [
      {
       "metadata": {},
       "output_type": "pyout",
       "prompt_number": 46,
       "text": [
        "['-0.408*\"SECRET\" + -0.272*\"United\" + -0.221*\"States\" + -0.199*\"Soviet\" + -0.182*\"countries\" + -0.173*\"Soviets\" + -0.157*\"General\" + -0.152*\"American\" + -0.149*\"proposal\" + -0.146*\"new\"',\n",
        " '0.293*\"JCS\" + 0.235*\"MESSAGE\" + 0.221*\"AIRCRAFT\" + 0.200*\"SECRET\" + 0.195*\"UN\" + 0.181*\"COPY\" + 0.163*\"TRAINING\" + -0.154*\"proposal\" + 0.142*\"EQUIPMENT\" + -0.140*\"countries\"']"
       ]
      }
     ],
     "prompt_number": 46
    },
    {
     "cell_type": "markdown",
     "metadata": {},
     "source": [
      "## LDA"
     ]
    },
    {
     "cell_type": "code",
     "collapsed": false,
     "input": [
      "lda = models.LdaModel(corpus, id2word=dictionary, num_topics=10)"
     ],
     "language": "python",
     "metadata": {},
     "outputs": [],
     "prompt_number": 38
    },
    {
     "cell_type": "code",
     "collapsed": false,
     "input": [
      "for i in range(2):\n",
      "    print\n",
      "    print \"topic\", i\n",
      "    print lda.print_topic(i)"
     ],
     "language": "python",
     "metadata": {},
     "outputs": [
      {
       "output_type": "stream",
       "stream": "stdout",
       "text": [
        "\n",
        "topic 0\n",
        "0.035*SECRET + 0.034*General + 0.028*proposal + 0.026*American + 0.023*Soviets + 0.020*Soviet + 0.019*countries + 0.019*United + 0.018*Commission + 0.016*States\n",
        "\n",
        "topic 1\n",
        "0.038*SECRET + 0.027*President + 0.023*COPY + 0.020*JCS + 0.018*such + 0.017*Secretary + 0.016*economic + 0.016*policy + 0.015*Date + 0.014*Communist\n"
       ]
      }
     ],
     "prompt_number": 47
    }
   ],
   "metadata": {}
  }
 ]
}