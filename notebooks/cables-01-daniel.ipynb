{
 "metadata": {
  "name": ""
 },
 "nbformat": 3,
 "nbformat_minor": 0,
 "worksheets": [
  {
   "cells": [
    {
     "cell_type": "code",
     "collapsed": false,
     "input": [
      "import os\n",
      "\n",
      "import pandas as pd\n",
      "import matplotlib.pylab as plt\n",
      "from sklearn.svm import OneClassSVM\n",
      "from sklearn.covariance import EmpiricalCovariance, MinCovDet\n",
      "from numpy import linalg\n",
      "from sklearn.ensemble import RandomForestClassifier\n",
      "from sklearn import preprocessing\n",
      "\n",
      "\n",
      "from rosetta.text import text_processors, filefilter, gensim_helpers,\\\n",
      "    streamers, vw_helpers\n"
     ],
     "language": "python",
     "metadata": {},
     "outputs": [
      {
       "output_type": "stream",
       "stream": "stderr",
       "text": [
        "/Users/danielkrasner/anaconda/lib/python2.7/site-packages/scipy/lib/_util.py:35: DeprecationWarning: Module scipy.linalg.blas.fblas is deprecated, use scipy.linalg.blas instead\n",
        "  DeprecationWarning)\n",
        "/Users/danielkrasner/anaconda/lib/python2.7/site-packages/scipy/lib/_util.py:35: DeprecationWarning: Module scipy.linalg.blas.fblas is deprecated, use scipy.linalg.blas instead\n",
        "  DeprecationWarning)\n",
        "/Users/danielkrasner/anaconda/lib/python2.7/site-packages/scipy/lib/_util.py:35: DeprecationWarning: Module scipy.linalg.blas.fblas is deprecated, use scipy.linalg.blas instead\n",
        "  DeprecationWarning)\n",
        "/Users/danielkrasner/anaconda/lib/python2.7/site-packages/scipy/lib/_util.py:35: DeprecationWarning: Module scipy.linalg.blas.fblas is deprecated, use scipy.linalg.blas instead\n",
        "  DeprecationWarning)\n",
        "/Users/danielkrasner/anaconda/lib/python2.7/site-packages/scipy/lib/_util.py:35: DeprecationWarning: Module scipy.linalg.blas.fblas is deprecated, use scipy.linalg.blas instead\n",
        "  DeprecationWarning)\n"
       ]
      }
     ],
     "prompt_number": 1
    },
    {
     "cell_type": "code",
     "collapsed": false,
     "input": [
      "pd.set_option('max_rows', 100)"
     ],
     "language": "python",
     "metadata": {},
     "outputs": [],
     "prompt_number": 2
    },
    {
     "cell_type": "code",
     "collapsed": false,
     "input": [
      "# Every time you change the source code you need to reload it\n",
      "reload(text_processors)\n",
      "reload(filefilter)\n",
      "reload(streamers)\n",
      "reload(vw_helpers)"
     ],
     "language": "python",
     "metadata": {},
     "outputs": [
      {
       "metadata": {},
       "output_type": "pyout",
       "prompt_number": 3,
       "text": [
        "<module 'rosetta.text.vw_helpers' from '/Users/danielkrasner/anaconda/lib/python2.7/site-packages/rosetta/text/vw_helpers.pyc'>"
       ]
      }
     ],
     "prompt_number": 3
    },
    {
     "cell_type": "code",
     "collapsed": false,
     "input": [
      "# Set paths         \n",
      "# I use environment variables to set my base paths\n",
      "DATA = os.environ['DATA']                                                                 \n",
      "ME = os.environ['ME']                                                                     \n",
      "MYDATA = os.path.join(DATA, ME, 'declass')\n",
      "CABLES = os.path.join(MYDATA, 'cables-full-01') \n",
      "RAW = os.path.join(CABLES, 'raw')                                                         \n",
      "PROCESSED = os.path.join(CABLES, 'processed')\n",
      "META = os.path.join(CABLES,'meta')\n",
      "\n",
      "# You only need to set these paths below...any way you can\n",
      "metafile_path = os.path.join(META, 'meta.csv')\n",
      "text_base_path = os.path.join(RAW, 'bodyfiles')  # Read files made with the \"nofoot\" option\n",
      "sfile_path = os.path.join(PROCESSED, 'cables-full.vw')\n",
      "filtered_sfile_path = os.path.join(PROCESSED, 'cables-full-filtered.vw')\n",
      "sff_path = os.path.join(PROCESSED, 'sff.pkl')"
     ],
     "language": "python",
     "metadata": {},
     "outputs": [],
     "prompt_number": 3
    },
    {
     "cell_type": "code",
     "collapsed": false,
     "input": [
      "meta = pd.read_csv(metafile_path, sep='|').set_index('doc_id').drop('doc_nbr', axis=1)  # doc_nbr == doc_id\n",
      "meta = meta[meta.has_text == 1]"
     ],
     "language": "python",
     "metadata": {},
     "outputs": [
      {
       "output_type": "stream",
       "stream": "stderr",
       "text": [
        "/Users/danielkrasner/anaconda/lib/python2.7/site-packages/pandas/io/parsers.py:1050: DtypeWarning: Columns (22) have mixed types. Specify dtype option on import or set low_memory=False.\n",
        "  data = self._reader.read(nrows)\n"
       ]
      }
     ],
     "prompt_number": 4
    },
    {
     "cell_type": "code",
     "collapsed": false,
     "input": [
      "meta.shape\n"
     ],
     "language": "python",
     "metadata": {},
     "outputs": [
      {
       "metadata": {},
       "output_type": "pyout",
       "prompt_number": 5,
       "text": [
        "(1120074, 25)"
       ]
      }
     ],
     "prompt_number": 5
    },
    {
     "cell_type": "code",
     "collapsed": false,
     "input": [
      "# There were some duplicate indices....figure out what is going on later\n",
      "meta['index'] = meta.index\n",
      "meta = meta.drop_duplicates(cols='index')\n",
      "meta = meta.drop('index', axis=1)"
     ],
     "language": "python",
     "metadata": {},
     "outputs": [],
     "prompt_number": 6
    },
    {
     "cell_type": "code",
     "collapsed": false,
     "input": [
      "meta['from__to'] = meta.msgfrom + '__' + meta.msgto\n",
      "meta['other'] = meta.from__to.str.replace('STATE', '').str.replace('__', '')"
     ],
     "language": "python",
     "metadata": {},
     "outputs": [],
     "prompt_number": 7
    },
    {
     "cell_type": "markdown",
     "metadata": {},
     "source": [
      "##Initial look at meta\n"
     ]
    },
    {
     "cell_type": "code",
     "collapsed": false,
     "input": [
      "msgfrom = meta['msgfrom']"
     ],
     "language": "python",
     "metadata": {},
     "outputs": [],
     "prompt_number": 13
    },
    {
     "cell_type": "code",
     "collapsed": false,
     "input": [
      "msgfrom_counts = msgfrom.value_counts()"
     ],
     "language": "python",
     "metadata": {},
     "outputs": [],
     "prompt_number": 36
    },
    {
     "cell_type": "code",
     "collapsed": false,
     "input": [
      "#cut off infrequent counts\n",
      "cut_off = 1000\n",
      "msgfrom_counts = msgfrom_counts[msgfrom_counts>cut_off]"
     ],
     "language": "python",
     "metadata": {},
     "outputs": [],
     "prompt_number": 29
    },
    {
     "cell_type": "code",
     "collapsed": true,
     "input": [
      "msgfrom_counts[msgfrom_counts>10000].plot(kind='bar', title='Cable Count by MSGFROM', figsize=(20,10))"
     ],
     "language": "python",
     "metadata": {},
     "outputs": [
      {
       "metadata": {},
       "output_type": "pyout",
       "prompt_number": 53,
       "text": [
        "<matplotlib.axes.AxesSubplot at 0x11c1e2710>"
       ]
      },
      {
       "metadata": {
        "png": {
         "height": 688,
         "width": 1171
        }
       },
       "output_type": "display_data",
       "png": "[encoded data removed]",
       "text": [
        "<matplotlib.figure.Figure at 0x14056e2d0>"
       ]
      }
     ],
     "prompt_number": 53
    },
    {
     "cell_type": "code",
     "collapsed": false,
     "input": [
      "msgfrom_class_groups = meta[meta.msgfrom>cut_off].groupby(['msgfrom', 'origclass'])"
     ],
     "language": "python",
     "metadata": {},
     "outputs": [],
     "prompt_number": 62
    },
    {
     "cell_type": "code",
     "collapsed": false,
     "input": [
      "def secret_class(msgfrom_names):\n",
      "    \"\"\"\n",
      "    returns a series of number of secret cables per name in msgfrom_names\n",
      "    \"\"\"\n",
      "    class_series = pd.Series()\n",
      "    for name in msgfrom_names:\n",
      "        counts = meta[meta.msgfrom == name].origclass.value_counts()\n",
      "        try:\n",
      "            class_series[name] = counts['SECRET']\n",
      "        except KeyError:\n",
      "            print name\n",
      "    return class_series\n",
      "        \n",
      "    \n",
      "    \n",
      "    "
     ],
     "language": "python",
     "metadata": {},
     "outputs": [],
     "prompt_number": 82
    },
    {
     "cell_type": "code",
     "collapsed": true,
     "input": [
      "#count the number of secret cables by msgfrom name\n",
      "secret_counts = secret_class(msgfrom_counts.keys())"
     ],
     "language": "python",
     "metadata": {},
     "outputs": [
      {
       "output_type": "stream",
       "stream": "stdout",
       "text": [
        "MTN GENEVA\n",
        "JOHANNESBURG"
       ]
      },
      {
       "output_type": "stream",
       "stream": "stdout",
       "text": [
        "\n",
        "MONTERREY"
       ]
      },
      {
       "output_type": "stream",
       "stream": "stdout",
       "text": [
        "\n",
        "CASABLANCA"
       ]
      },
      {
       "output_type": "stream",
       "stream": "stdout",
       "text": [
        "\n",
        "BANJUL"
       ]
      },
      {
       "output_type": "stream",
       "stream": "stdout",
       "text": [
        "\n",
        "BELFAST"
       ]
      },
      {
       "output_type": "stream",
       "stream": "stdout",
       "text": [
        "\n",
        "OSAKA KOBE"
       ]
      },
      {
       "output_type": "stream",
       "stream": "stdout",
       "text": [
        "\n",
        "HALIFAX"
       ]
      },
      {
       "output_type": "stream",
       "stream": "stdout",
       "text": [
        "\n",
        "HAMILTON"
       ]
      },
      {
       "output_type": "stream",
       "stream": "stdout",
       "text": [
        "\n",
        "DURBAN"
       ]
      },
      {
       "output_type": "stream",
       "stream": "stdout",
       "text": [
        "\n",
        "VANCOUVER"
       ]
      },
      {
       "output_type": "stream",
       "stream": "stdout",
       "text": [
        "\n",
        "WINNIPEG"
       ]
      },
      {
       "output_type": "stream",
       "stream": "stdout",
       "text": [
        "\n",
        "DOUALA"
       ]
      },
      {
       "output_type": "stream",
       "stream": "stdout",
       "text": [
        "\n",
        "TORONTO"
       ]
      },
      {
       "output_type": "stream",
       "stream": "stdout",
       "text": [
        "\n",
        "FLORENCE"
       ]
      },
      {
       "output_type": "stream",
       "stream": "stdout",
       "text": [
        "\n",
        "DUSSELDORF"
       ]
      },
      {
       "output_type": "stream",
       "stream": "stdout",
       "text": [
        "\n",
        "IBADAN"
       ]
      },
      {
       "output_type": "stream",
       "stream": "stdout",
       "text": [
        "\n",
        "NAPLES"
       ]
      },
      {
       "output_type": "stream",
       "stream": "stdout",
       "text": [
        "\n",
        "CALI"
       ]
      },
      {
       "output_type": "stream",
       "stream": "stdout",
       "text": [
        "\n",
        "MEDELLIN"
       ]
      },
      {
       "output_type": "stream",
       "stream": "stdout",
       "text": [
        "\n",
        "LYON"
       ]
      },
      {
       "output_type": "stream",
       "stream": "stdout",
       "text": [
        "\n",
        "GUADALAJARA"
       ]
      },
      {
       "output_type": "stream",
       "stream": "stdout",
       "text": [
        "\n",
        "SEVILLE"
       ]
      },
      {
       "output_type": "stream",
       "stream": "stdout",
       "text": [
        "\n",
        "PALERMO"
       ]
      },
      {
       "output_type": "stream",
       "stream": "stdout",
       "text": [
        "\n",
        "BARCELONA"
       ]
      },
      {
       "output_type": "stream",
       "stream": "stdout",
       "text": [
        "\n",
        "AMSTERDAM"
       ]
      },
      {
       "output_type": "stream",
       "stream": "stdout",
       "text": [
        "\n",
        "NICE"
       ]
      },
      {
       "output_type": "stream",
       "stream": "stdout",
       "text": [
        "\n",
        "HERMOSILLO"
       ]
      },
      {
       "output_type": "stream",
       "stream": "stdout",
       "text": [
        "\n",
        "MAZATLAN"
       ]
      },
      {
       "output_type": "stream",
       "stream": "stdout",
       "text": [
        "\n",
        "CALGARY"
       ]
      },
      {
       "output_type": "stream",
       "stream": "stdout",
       "text": [
        "\n",
        "BRISBANE"
       ]
      },
      {
       "output_type": "stream",
       "stream": "stdout",
       "text": [
        "\n",
        "TIJUANA"
       ]
      },
      {
       "output_type": "stream",
       "stream": "stdout",
       "text": [
        "\n",
        "BREMEN"
       ]
      },
      {
       "output_type": "stream",
       "stream": "stdout",
       "text": [
        "\n",
        "QUEBEC"
       ]
      },
      {
       "output_type": "stream",
       "stream": "stdout",
       "text": [
        "\n",
        "OPORTO"
       ]
      },
      {
       "output_type": "stream",
       "stream": "stdout",
       "text": [
        "\n",
        "GENOA"
       ]
      },
      {
       "output_type": "stream",
       "stream": "stdout",
       "text": [
        "\n",
        "TURIN"
       ]
      },
      {
       "output_type": "stream",
       "stream": "stdout",
       "text": [
        "\n",
        "EDINBURGH"
       ]
      },
      {
       "output_type": "stream",
       "stream": "stdout",
       "text": [
        "\n",
        "FUKUOKA"
       ]
      },
      {
       "output_type": "stream",
       "stream": "stdout",
       "text": [
        "\n",
        "PERTH"
       ]
      },
      {
       "output_type": "stream",
       "stream": "stdout",
       "text": [
        "\n",
        "ZANZIBAR"
       ]
      },
      {
       "output_type": "stream",
       "stream": "stdout",
       "text": [
        "\n",
        "AUCKLAND"
       ]
      },
      {
       "output_type": "stream",
       "stream": "stdout",
       "text": [
        "\n",
        "MARSEILLE"
       ]
      },
      {
       "output_type": "stream",
       "stream": "stdout",
       "text": [
        "\n",
        "ROTTERDAM"
       ]
      },
      {
       "output_type": "stream",
       "stream": "stdout",
       "text": [
        "\n",
        "BORDEAUX"
       ]
      },
      {
       "output_type": "stream",
       "stream": "stdout",
       "text": [
        "\n",
        "LILONGWE"
       ]
      },
      {
       "output_type": "stream",
       "stream": "stdout",
       "text": [
        "\n",
        "TRIESTE"
       ]
      },
      {
       "output_type": "stream",
       "stream": "stdout",
       "text": [
        "\n",
        "MERIDA"
       ]
      },
      {
       "output_type": "stream",
       "stream": "stdout",
       "text": [
        "\n",
        "PORTO ALEGRE"
       ]
      },
      {
       "output_type": "stream",
       "stream": "stdout",
       "text": [
        "\n",
        "SAPPORO"
       ]
      },
      {
       "output_type": "stream",
       "stream": "stdout",
       "text": [
        "\n",
        "FORT LAMY"
       ]
      },
      {
       "output_type": "stream",
       "stream": "stdout",
       "text": [
        "\n",
        "BELEM"
       ]
      },
      {
       "output_type": "stream",
       "stream": "stdout",
       "text": [
        "\n",
        "RECIFE"
       ]
      },
      {
       "output_type": "stream",
       "stream": "stdout",
       "text": [
        "\n",
        "ST JOHNS, NEWFOUNDLAND"
       ]
      },
      {
       "output_type": "stream",
       "stream": "stdout",
       "text": [
        "\n",
        "CIUDAD JUAREZ"
       ]
      },
      {
       "output_type": "stream",
       "stream": "stdout",
       "text": [
        "\n",
        "BISSAU"
       ]
      },
      {
       "output_type": "stream",
       "stream": "stdout",
       "text": [
        "\n",
        "GOTEBORG"
       ]
      },
      {
       "output_type": "stream",
       "stream": "stdout",
       "text": [
        "\n",
        "ST JOHNS"
       ]
      },
      {
       "output_type": "stream",
       "stream": "stdout",
       "text": [
        "\n",
        "TORREMOLINOS"
       ]
      },
      {
       "output_type": "stream",
       "stream": "stdout",
       "text": [
        "\n",
        "KHORRAMSHAHR"
       ]
      },
      {
       "output_type": "stream",
       "stream": "stdout",
       "text": [
        "\n",
        "BILBAO"
       ]
      },
      {
       "output_type": "stream",
       "stream": "stdout",
       "text": [
        "\n",
        "CEBU"
       ]
      },
      {
       "output_type": "stream",
       "stream": "stdout",
       "text": [
        "\n",
        "NUEVO LAREDO"
       ]
      },
      {
       "output_type": "stream",
       "stream": "stdout",
       "text": [
        "\n",
        "PESHAWAR"
       ]
      },
      {
       "output_type": "stream",
       "stream": "stdout",
       "text": [
        "\n",
        "MATAMOROS"
       ]
      },
      {
       "output_type": "stream",
       "stream": "stdout",
       "text": [
        "\n",
        "SALVADOR, BRAZIL"
       ]
      },
      {
       "output_type": "stream",
       "stream": "stdout",
       "text": [
        "\n",
        "MARACAIBO"
       ]
      },
      {
       "output_type": "stream",
       "stream": "stdout",
       "text": [
        "\n",
        "ST JOHNS (NEWFOUNDLAND)"
       ]
      },
      {
       "output_type": "stream",
       "stream": "stdout",
       "text": [
        "\n",
        "LIVERPOOL"
       ]
      },
      {
       "output_type": "stream",
       "stream": "stdout",
       "text": [
        "\n",
        "SALVADOR"
       ]
      },
      {
       "output_type": "stream",
       "stream": "stdout",
       "text": [
        "\n",
        "JIDDA JOINT"
       ]
      },
      {
       "output_type": "stream",
       "stream": "stdout",
       "text": [
        "\n",
        "MOSCOW EUR"
       ]
      },
      {
       "output_type": "stream",
       "stream": "stdout",
       "text": [
        "\n",
        "POZNAN"
       ]
      },
      {
       "output_type": "stream",
       "stream": "stdout",
       "text": [
        "\n",
        "NHA TRANG"
       ]
      },
      {
       "output_type": "stream",
       "stream": "stdout",
       "text": [
        "\n",
        "RFC PARIS"
       ]
      },
      {
       "output_type": "stream",
       "stream": "stdout",
       "text": [
        "\n",
        "ATLANTA"
       ]
      },
      {
       "output_type": "stream",
       "stream": "stdout",
       "text": [
        "\n",
        "SHIRAZ"
       ]
      },
      {
       "output_type": "stream",
       "stream": "stdout",
       "text": [
        "\n",
        "STRASBURG"
       ]
      },
      {
       "output_type": "stream",
       "stream": "stdout",
       "text": [
        "\n",
        "BATHURST"
       ]
      },
      {
       "output_type": "stream",
       "stream": "stdout",
       "text": [
        "\n",
        "NEW DELHI JOINT"
       ]
      },
      {
       "output_type": "stream",
       "stream": "stdout",
       "text": [
        "\n",
        "ABIDJAN AF"
       ]
      },
      {
       "output_type": "stream",
       "stream": "stdout",
       "text": [
        "\n",
        "KRAKOW"
       ]
      },
      {
       "output_type": "stream",
       "stream": "stdout",
       "text": [
        "\n",
        "SALVADOR (BRAZIL)"
       ]
      },
      {
       "output_type": "stream",
       "stream": "stdout",
       "text": [
        "\n",
        "LAGOS AF"
       ]
      },
      {
       "output_type": "stream",
       "stream": "stdout",
       "text": [
        "\n",
        "NAIROBI AF"
       ]
      },
      {
       "output_type": "stream",
       "stream": "stdout",
       "text": [
        "\n",
        "PANAMA JOINT"
       ]
      },
      {
       "output_type": "stream",
       "stream": "stdout",
       "text": [
        "\n",
        "SECRETARY IN BONN"
       ]
      },
      {
       "output_type": "stream",
       "stream": "stdout",
       "text": [
        "\n",
        "TOKYO JOINT"
       ]
      },
      {
       "output_type": "stream",
       "stream": "stdout",
       "text": [
        "\n",
        "ACCRA AF"
       ]
      },
      {
       "output_type": "stream",
       "stream": "stdout",
       "text": [
        "\n",
        "SEOUL EA"
       ]
      },
      {
       "output_type": "stream",
       "stream": "stdout",
       "text": [
        "\n",
        "BUENOS AIRES JOINT"
       ]
      },
      {
       "output_type": "stream",
       "stream": "stdout",
       "text": [
        "\n",
        "PRETORIA AF"
       ]
      },
      {
       "output_type": "stream",
       "stream": "stdout",
       "text": [
        "\n",
        "YAOUNDE AF"
       ]
      },
      {
       "output_type": "stream",
       "stream": "stdout",
       "text": [
        "\n",
        "ADDIS ABABA AF"
       ]
      },
      {
       "output_type": "stream",
       "stream": "stdout",
       "text": [
        "\n",
        "SECRETARY LOS ANGELES"
       ]
      },
      {
       "output_type": "stream",
       "stream": "stdout",
       "text": [
        "\n",
        "MONROVIA AF"
       ]
      },
      {
       "output_type": "stream",
       "stream": "stdout",
       "text": [
        "\n",
        "KABUL NEA"
       ]
      },
      {
       "output_type": "stream",
       "stream": "stdout",
       "text": [
        "\n",
        "MOSCOW JOINT"
       ]
      },
      {
       "output_type": "stream",
       "stream": "stdout",
       "text": [
        "\n",
        "CANBERRA EA"
       ]
      },
      {
       "output_type": "stream",
       "stream": "stdout",
       "text": [
        "\n",
        "TOKYO EA"
       ]
      },
      {
       "output_type": "stream",
       "stream": "stdout",
       "text": [
        "\n",
        "DAKAR AF"
       ]
      },
      {
       "output_type": "stream",
       "stream": "stdout",
       "text": [
        "\n",
        "LONDON EUR"
       ]
      },
      {
       "output_type": "stream",
       "stream": "stdout",
       "text": [
        "\n",
        "PARIS JOINT"
       ]
      },
      {
       "output_type": "stream",
       "stream": "stdout",
       "text": [
        "\n",
        "BANGUI AF"
       ]
      },
      {
       "output_type": "stream",
       "stream": "stdout",
       "text": [
        "\n",
        "REYKJAVIK JOINT"
       ]
      },
      {
       "output_type": "stream",
       "stream": "stdout",
       "text": [
        "\n",
        "KIGALI JOINT"
       ]
      },
      {
       "output_type": "stream",
       "stream": "stdout",
       "text": [
        "\n",
        "PARIS EUR"
       ]
      },
      {
       "output_type": "stream",
       "stream": "stdout",
       "text": [
        "\n",
        "SECRETARY GRAFENAU"
       ]
      },
      {
       "output_type": "stream",
       "stream": "stdout",
       "text": [
        "\n",
        "STATE OES"
       ]
      },
      {
       "output_type": "stream",
       "stream": "stdout",
       "text": [
        "\n",
        "KINSHASA JOINT"
       ]
      },
      {
       "output_type": "stream",
       "stream": "stdout",
       "text": [
        "\n",
        "LA PAZ JOINT"
       ]
      },
      {
       "output_type": "stream",
       "stream": "stdout",
       "text": [
        "\n",
        "NDJAMENA AF"
       ]
      },
      {
       "output_type": "stream",
       "stream": "stdout",
       "text": [
        "\n",
        "QUITO JOINT"
       ]
      },
      {
       "output_type": "stream",
       "stream": "stdout",
       "text": [
        "\n",
        "SECRETARY LUXEMBOURG"
       ]
      },
      {
       "output_type": "stream",
       "stream": "stdout",
       "text": [
        "\n",
        "NDJAMEAN"
       ]
      },
      {
       "output_type": "stream",
       "stream": "stdout",
       "text": [
        "\n",
        "PARIS USOECD"
       ]
      },
      {
       "output_type": "stream",
       "stream": "stdout",
       "text": [
        "\n",
        "VIENNA JOINT"
       ]
      },
      {
       "output_type": "stream",
       "stream": "stdout",
       "text": [
        "\n",
        "CARACAS ARA"
       ]
      },
      {
       "output_type": "stream",
       "stream": "stdout",
       "text": [
        "\n",
        "EB"
       ]
      },
      {
       "output_type": "stream",
       "stream": "stdout",
       "text": [
        "\n",
        "BELGRADE JOINT"
       ]
      },
      {
       "output_type": "stream",
       "stream": "stdout",
       "text": [
        "\n",
        "MADRID JOINT"
       ]
      },
      {
       "output_type": "stream",
       "stream": "stdout",
       "text": [
        "\n",
        "RANGOON JOINT"
       ]
      },
      {
       "output_type": "stream",
       "stream": "stdout",
       "text": [
        "\n",
        "NIAMEY AF"
       ]
      },
      {
       "output_type": "stream",
       "stream": "stdout",
       "text": [
        "\n",
        "SECRETARY      SECRETARY AIRCRAFT"
       ]
      },
      {
       "output_type": "stream",
       "stream": "stdout",
       "text": [
        "\n",
        "SECRETARY ABOARD AIR FORCE ONE"
       ]
      },
      {
       "output_type": "stream",
       "stream": "stdout",
       "text": [
        "\n",
        "CANBERRA JOINT"
       ]
      },
      {
       "output_type": "stream",
       "stream": "stdout",
       "text": [
        "\n",
        "WELLINGTON EA"
       ]
      },
      {
       "output_type": "stream",
       "stream": "stdout",
       "text": [
        "\n",
        "OECD PARIS JOINT"
       ]
      },
      {
       "output_type": "stream",
       "stream": "stdout",
       "text": [
        "\n",
        "BAMAKO AF"
       ]
      },
      {
       "output_type": "stream",
       "stream": "stdout",
       "text": [
        "\n",
        "MONTEVIDEO JOINT"
       ]
      },
      {
       "output_type": "stream",
       "stream": "stdout",
       "text": [
        "\n",
        "KINSHASA AF"
       ]
      },
      {
       "output_type": "stream",
       "stream": "stdout",
       "text": [
        "\n",
        "LIMA JOINT"
       ]
      },
      {
       "output_type": "stream",
       "stream": "stdout",
       "text": [
        "\n",
        "LAHORE JOINT"
       ]
      },
      {
       "output_type": "stream",
       "stream": "stdout",
       "text": [
        "\n",
        "NAIROBI JOINT"
       ]
      },
      {
       "output_type": "stream",
       "stream": "stdout",
       "text": [
        "\n",
        "LUSAKA JOINT"
       ]
      },
      {
       "output_type": "stream",
       "stream": "stdout",
       "text": [
        "\n",
        "VIENNA EUR"
       ]
      },
      {
       "output_type": "stream",
       "stream": "stdout",
       "text": [
        "\n",
        "AMMAN      SECRETARY"
       ]
      },
      {
       "output_type": "stream",
       "stream": "stdout",
       "text": [
        "\n",
        "STATE COM"
       ]
      },
      {
       "output_type": "stream",
       "stream": "stdout",
       "text": [
        "\n",
        "ANKARA EUR"
       ]
      },
      {
       "output_type": "stream",
       "stream": "stdout",
       "text": [
        "\n",
        "LOURENCO MARQUES AF"
       ]
      },
      {
       "output_type": "stream",
       "stream": "stdout",
       "text": [
        "\n",
        "SECRETARY SEATTLE"
       ]
      },
      {
       "output_type": "stream",
       "stream": "stdout",
       "text": [
        "\n",
        "JAKARTA EA"
       ]
      },
      {
       "output_type": "stream",
       "stream": "stdout",
       "text": [
        "\n",
        "CARACAS JOINT"
       ]
      },
      {
       "output_type": "stream",
       "stream": "stdout",
       "text": [
        "\n",
        "KUALA LUMPUR JOINT"
       ]
      },
      {
       "output_type": "stream",
       "stream": "stdout",
       "text": [
        "\n",
        "SAN SALVADOR JOINT"
       ]
      },
      {
       "output_type": "stream",
       "stream": "stdout",
       "text": [
        "\n",
        "TANANARIVE AF"
       ]
      },
      {
       "output_type": "stream",
       "stream": "stdout",
       "text": [
        "\n",
        "BONN JOINT"
       ]
      },
      {
       "output_type": "stream",
       "stream": "stdout",
       "text": [
        "\n",
        "BONN EUR"
       ]
      },
      {
       "output_type": "stream",
       "stream": "stdout",
       "text": [
        "\n",
        "SAN JOSE ARA"
       ]
      },
      {
       "output_type": "stream",
       "stream": "stdout",
       "text": [
        "\n",
        "CAIRO JOINT"
       ]
      },
      {
       "output_type": "stream",
       "stream": "stdout",
       "text": [
        "\n",
        "SAIGON JOINT"
       ]
      },
      {
       "output_type": "stream",
       "stream": "stdout",
       "text": [
        "\n",
        "FREETOWN AF"
       ]
      },
      {
       "output_type": "stream",
       "stream": "stdout",
       "text": [
        "\n",
        "PEKING EA"
       ]
      },
      {
       "output_type": "stream",
       "stream": "stdout",
       "text": [
        "\n",
        "SECRETARY THE HAGUE"
       ]
      },
      {
       "output_type": "stream",
       "stream": "stdout",
       "text": [
        "\n",
        "SECRETARY ROME"
       ]
      },
      {
       "output_type": "stream",
       "stream": "stdout",
       "text": [
        "\n",
        "FREETOWN JOINT"
       ]
      },
      {
       "output_type": "stream",
       "stream": "stdout",
       "text": [
        "\n",
        "SECRETARY IN LUSAKA"
       ]
      },
      {
       "output_type": "stream",
       "stream": "stdout",
       "text": [
        "\n",
        "KATHMANDU NEA"
       ]
      },
      {
       "output_type": "stream",
       "stream": "stdout",
       "text": [
        "\n",
        "MOGADISCIO AF"
       ]
      },
      {
       "output_type": "stream",
       "stream": "stdout",
       "text": [
        "\n",
        "BERN JOINT"
       ]
      },
      {
       "output_type": "stream",
       "stream": "stdout",
       "text": [
        "\n",
        "MEXICALI"
       ]
      },
      {
       "output_type": "stream",
       "stream": "stdout",
       "text": [
        "\n",
        "NDJAMENA JOINT"
       ]
      },
      {
       "output_type": "stream",
       "stream": "stdout",
       "text": [
        "\n",
        "BANJUL JOINT"
       ]
      },
      {
       "output_type": "stream",
       "stream": "stdout",
       "text": [
        "\n",
        "SECRETARY KABUL"
       ]
      },
      {
       "output_type": "stream",
       "stream": "stdout",
       "text": [
        "\n",
        "ATHENS EUR"
       ]
      },
      {
       "output_type": "stream",
       "stream": "stdout",
       "text": [
        "\n",
        "KIGALI AF"
       ]
      },
      {
       "output_type": "stream",
       "stream": "stdout",
       "text": [
        "\n",
        "CALCUTTA JOINT"
       ]
      },
      {
       "output_type": "stream",
       "stream": "stdout",
       "text": [
        "\n",
        "DUBLIN EUR"
       ]
      },
      {
       "output_type": "stream",
       "stream": "stdout",
       "text": [
        "\n",
        "COPENHAGEN JOINT"
       ]
      },
      {
       "output_type": "stream",
       "stream": "stdout",
       "text": [
        "\n",
        "LOME AF"
       ]
      },
      {
       "output_type": "stream",
       "stream": "stdout",
       "text": [
        "\n",
        "BEIRUT OR-M"
       ]
      },
      {
       "output_type": "stream",
       "stream": "stdout",
       "text": [
        "\n",
        "TUNIS JOINT"
       ]
      },
      {
       "output_type": "stream",
       "stream": "stdout",
       "text": [
        "\n",
        "OECD"
       ]
      },
      {
       "output_type": "stream",
       "stream": "stdout",
       "text": [
        "\n",
        "OUAGADOUGOU JOINT"
       ]
      },
      {
       "output_type": "stream",
       "stream": "stdout",
       "text": [
        "\n",
        "GEORGETOWN JOINT"
       ]
      },
      {
       "output_type": "stream",
       "stream": "stdout",
       "text": [
        "\n",
        "BLANTYRE AF"
       ]
      },
      {
       "output_type": "stream",
       "stream": "stdout",
       "text": [
        "\n",
        "BEIRUT NEA"
       ]
      },
      {
       "output_type": "stream",
       "stream": "stdout",
       "text": [
        "\n",
        "SECRETARY IN KINSHASA"
       ]
      },
      {
       "output_type": "stream",
       "stream": "stdout",
       "text": [
        "\n",
        "SECRETARY MANILA"
       ]
      },
      {
       "output_type": "stream",
       "stream": "stdout",
       "text": [
        "\n",
        "KHARTOUM AF"
       ]
      },
      {
       "output_type": "stream",
       "stream": "stdout",
       "text": [
        "\n",
        "DJAKARTA"
       ]
      },
      {
       "output_type": "stream",
       "stream": "stdout",
       "text": [
        "\n",
        "SOFIA EUR"
       ]
      },
      {
       "output_type": "stream",
       "stream": "stdout",
       "text": [
        "\n",
        "PRAGUE EUR"
       ]
      },
      {
       "output_type": "stream",
       "stream": "stdout",
       "text": [
        "\n",
        "MANAMA JOINT"
       ]
      },
      {
       "output_type": "stream",
       "stream": "stdout",
       "text": [
        "\n",
        "ASMARA JOINT"
       ]
      },
      {
       "output_type": "stream",
       "stream": "stdout",
       "text": [
        "\n",
        "ABU DHABI NEA"
       ]
      },
      {
       "output_type": "stream",
       "stream": "stdout",
       "text": [
        "\n",
        "OTTAWA EUR"
       ]
      },
      {
       "output_type": "stream",
       "stream": "stdout",
       "text": [
        "\n",
        "BRASILIA JOINT"
       ]
      },
      {
       "output_type": "stream",
       "stream": "stdout",
       "text": [
        "\n",
        "TE CHIANG MAI"
       ]
      },
      {
       "output_type": "stream",
       "stream": "stdout",
       "text": [
        "\n",
        "SECRETARY IN LOS ANGELES"
       ]
      },
      {
       "output_type": "stream",
       "stream": "stdout",
       "text": [
        "\n",
        "COLOMBO NEA"
       ]
      },
      {
       "output_type": "stream",
       "stream": "stdout",
       "text": [
        "\n",
        "PRETORIA JOINT"
       ]
      },
      {
       "output_type": "stream",
       "stream": "stdout",
       "text": [
        "\n",
        "REYKJAVIK EUR"
       ]
      },
      {
       "output_type": "stream",
       "stream": "stdout",
       "text": [
        "\n",
        "MONROVIA JOINT"
       ]
      },
      {
       "output_type": "stream",
       "stream": "stdout",
       "text": [
        "\n",
        "STATE INT"
       ]
      },
      {
       "output_type": "stream",
       "stream": "stdout",
       "text": [
        "\n",
        "US MISSION EC BRUSSELS"
       ]
      },
      {
       "output_type": "stream",
       "stream": "stdout",
       "text": [
        "\n",
        "USNISSION NATO"
       ]
      },
      {
       "output_type": "stream",
       "stream": "stdout",
       "text": [
        "\n",
        "STATE VO"
       ]
      },
      {
       "output_type": "stream",
       "stream": "stdout",
       "text": [
        "\n",
        "RABAT JOINT"
       ]
      },
      {
       "output_type": "stream",
       "stream": "stdout",
       "text": [
        "\n",
        "STOCKHOLM EUR"
       ]
      },
      {
       "output_type": "stream",
       "stream": "stdout",
       "text": [
        "\n",
        "ORM"
       ]
      },
      {
       "output_type": "stream",
       "stream": "stdout",
       "text": [
        "\n",
        "BANGUI JOINT"
       ]
      },
      {
       "output_type": "stream",
       "stream": "stdout",
       "text": [
        "\n",
        "SINGAPORE EA"
       ]
      },
      {
       "output_type": "stream",
       "stream": "stdout",
       "text": [
        "\n",
        "HONG KONG EA"
       ]
      },
      {
       "output_type": "stream",
       "stream": "stdout",
       "text": [
        "\n",
        "GENEVA JOINT"
       ]
      },
      {
       "output_type": "stream",
       "stream": "stdout",
       "text": [
        "\n",
        "AMCONGEN PALERMO"
       ]
      },
      {
       "output_type": "stream",
       "stream": "stdout",
       "text": [
        "\n",
        "COTONOU AF"
       ]
      },
      {
       "output_type": "stream",
       "stream": "stdout",
       "text": [
        "\n",
        "AMCONGEN FRANKFURT"
       ]
      },
      {
       "output_type": "stream",
       "stream": "stdout",
       "text": [
        "\n",
        "AMEMBSSY TOKYO"
       ]
      },
      {
       "output_type": "stream",
       "stream": "stdout",
       "text": [
        "\n",
        "THE HAGUE EUR"
       ]
      },
      {
       "output_type": "stream",
       "stream": "stdout",
       "text": [
        "\n",
        "LONDON JOINT"
       ]
      },
      {
       "output_type": "stream",
       "stream": "stdout",
       "text": [
        "\n",
        "KUWAIT NEA"
       ]
      },
      {
       "output_type": "stream",
       "stream": "stdout",
       "text": [
        "\n",
        "SECRETARY LOS ANGELOS"
       ]
      },
      {
       "output_type": "stream",
       "stream": "stdout",
       "text": [
        "\n",
        "SECRETARY AIRCARFT"
       ]
      },
      {
       "output_type": "stream",
       "stream": "stdout",
       "text": [
        "\n",
        "SECRETARY ALEXANDRA"
       ]
      },
      {
       "output_type": "stream",
       "stream": "stdout",
       "text": [
        "\n",
        "DAR ES SALAAM AF"
       ]
      },
      {
       "output_type": "stream",
       "stream": "stdout",
       "text": [
        "\n",
        "LOURENCO MARQUES JOINT"
       ]
      },
      {
       "output_type": "stream",
       "stream": "stdout",
       "text": [
        "\n",
        "PORT LOUIS AF"
       ]
      },
      {
       "output_type": "stream",
       "stream": "stdout",
       "text": [
        "\n",
        "VIENTIANE EA"
       ]
      },
      {
       "output_type": "stream",
       "stream": "stdout",
       "text": [
        "\n",
        "ROME EUR"
       ]
      },
      {
       "output_type": "stream",
       "stream": "stdout",
       "text": [
        "\n",
        "PORT MORESBY EA"
       ]
      },
      {
       "output_type": "stream",
       "stream": "stdout",
       "text": [
        "\n",
        "GABORONE AF"
       ]
      },
      {
       "output_type": "stream",
       "stream": "stdout",
       "text": [
        "\n",
        "PARIS IO"
       ]
      },
      {
       "output_type": "stream",
       "stream": "stdout",
       "text": [
        "\n",
        "OES"
       ]
      },
      {
       "output_type": "stream",
       "stream": "stdout",
       "text": [
        "\n",
        "SECTO SECRETARY BRUSSELS"
       ]
      },
      {
       "output_type": "stream",
       "stream": "stdout",
       "text": [
        "\n",
        "AMCONGEN GOTEBORG"
       ]
      },
      {
       "output_type": "stream",
       "stream": "stdout",
       "text": [
        "\n",
        "DACCA JOINT"
       ]
      },
      {
       "output_type": "stream",
       "stream": "stdout",
       "text": [
        "\n",
        "LONDON      SECRETARY"
       ]
      },
      {
       "output_type": "stream",
       "stream": "stdout",
       "text": [
        "\n",
        "BUJUMBURA AF"
       ]
      },
      {
       "output_type": "stream",
       "stream": "stdout",
       "text": [
        "\n",
        "OUAGADOUGOU AF"
       ]
      },
      {
       "output_type": "stream",
       "stream": "stdout",
       "text": [
        "\n",
        "COM"
       ]
      },
      {
       "output_type": "stream",
       "stream": "stdout",
       "text": [
        "\n",
        "OSLO JOINT"
       ]
      },
      {
       "output_type": "stream",
       "stream": "stdout",
       "text": [
        "\n",
        "LAGOS JOINT"
       ]
      },
      {
       "output_type": "stream",
       "stream": "stdout",
       "text": [
        "\n",
        "SAO PAULO JOINT"
       ]
      },
      {
       "output_type": "stream",
       "stream": "stdout",
       "text": [
        "\n",
        "SS NEA IO STATE"
       ]
      },
      {
       "output_type": "stream",
       "stream": "stdout",
       "text": [
        "\n",
        "ST JOHN"
       ]
      },
      {
       "output_type": "stream",
       "stream": "stdout",
       "text": [
        "\n",
        "KUALA LUMPUR EA"
       ]
      },
      {
       "output_type": "stream",
       "stream": "stdout",
       "text": [
        "\n",
        "BELGRADE EUR"
       ]
      },
      {
       "output_type": "stream",
       "stream": "stdout",
       "text": [
        "\n",
        "TEHRAN JOINT"
       ]
      },
      {
       "output_type": "stream",
       "stream": "stdout",
       "text": [
        "\n",
        "n/a n/a"
       ]
      },
      {
       "output_type": "stream",
       "stream": "stdout",
       "text": [
        "\n",
        "TEL AVIV JOINT"
       ]
      },
      {
       "output_type": "stream",
       "stream": "stdout",
       "text": [
        "\n",
        "MBABANE AF"
       ]
      },
      {
       "output_type": "stream",
       "stream": "stdout",
       "text": [
        "\n",
        "KABUL JOINT"
       ]
      },
      {
       "output_type": "stream",
       "stream": "stdout",
       "text": [
        "\n",
        "US MISSION BERLIN"
       ]
      },
      {
       "output_type": "stream",
       "stream": "stdout",
       "text": [
        "\n",
        "SECRETARY IN CARACAS"
       ]
      },
      {
       "output_type": "stream",
       "stream": "stdout",
       "text": [
        "\n",
        "SECRETARY SECRETARY AIRCRAFT NAIROBI"
       ]
      },
      {
       "output_type": "stream",
       "stream": "stdout",
       "text": [
        "\n",
        "STATE WASHDC"
       ]
      },
      {
       "output_type": "stream",
       "stream": "stdout",
       "text": [
        "\n",
        "DEAUVILLE"
       ]
      },
      {
       "output_type": "stream",
       "stream": "stdout",
       "text": [
        "\n",
        "BERLIN EUR"
       ]
      },
      {
       "output_type": "stream",
       "stream": "stdout",
       "text": [
        "\n",
        "BERN EUR"
       ]
      },
      {
       "output_type": "stream",
       "stream": "stdout",
       "text": [
        "\n",
        "CARACAS SS"
       ]
      },
      {
       "output_type": "stream",
       "stream": "stdout",
       "text": [
        "\n",
        "THESSALONKI"
       ]
      },
      {
       "output_type": "stream",
       "stream": "stdout",
       "text": [
        "\n",
        "BARRANQUILLA"
       ]
      },
      {
       "output_type": "stream",
       "stream": "stdout",
       "text": [
        "\n",
        "BANGKOK EA"
       ]
      },
      {
       "output_type": "stream",
       "stream": "stdout",
       "text": [
        "\n",
        "SANA NEA"
       ]
      },
      {
       "output_type": "stream",
       "stream": "stdout",
       "text": [
        "\n",
        "NEWFANE"
       ]
      },
      {
       "output_type": "stream",
       "stream": "stdout",
       "text": [
        "\n",
        "SECRETRY ZURICH"
       ]
      },
      {
       "output_type": "stream",
       "stream": "stdout",
       "text": [
        "\n",
        "BAMAKO JOINT"
       ]
      },
      {
       "output_type": "stream",
       "stream": "stdout",
       "text": [
        "\n",
        "RABAT NEA"
       ]
      },
      {
       "output_type": "stream",
       "stream": "stdout",
       "text": [
        "\n",
        "ALEXANDRIA      SECRETARY"
       ]
      },
      {
       "output_type": "stream",
       "stream": "stdout",
       "text": [
        "\n",
        "USMIISION NATO"
       ]
      },
      {
       "output_type": "stream",
       "stream": "stdout",
       "text": [
        "\n",
        "BRIDGETOWN ARA"
       ]
      },
      {
       "output_type": "stream",
       "stream": "stdout",
       "text": [
        "\n",
        "SURABAYA EA"
       ]
      },
      {
       "output_type": "stream",
       "stream": "stdout",
       "text": [
        "\n",
        "AMCON KARACHI PAKISTAN"
       ]
      },
      {
       "output_type": "stream",
       "stream": "stdout",
       "text": [
        "\n",
        "JOINT      PHNOM PENH"
       ]
      },
      {
       "output_type": "stream",
       "stream": "stdout",
       "text": [
        "\n",
        "STATE INR"
       ]
      },
      {
       "output_type": "stream",
       "stream": "stdout",
       "text": [
        "\n",
        "SALZBURG      SECRETARY"
       ]
      },
      {
       "output_type": "stream",
       "stream": "stdout",
       "text": [
        "\n",
        "STATE BELGRADE"
       ]
      },
      {
       "output_type": "stream",
       "stream": "stdout",
       "text": [
        "\n",
        "NATO BRUSSELS PER"
       ]
      },
      {
       "output_type": "stream",
       "stream": "stdout",
       "text": [
        "\n",
        "TEL AVIV NEA"
       ]
      },
      {
       "output_type": "stream",
       "stream": "stdout",
       "text": [
        "\n",
        "SECRETARY JERUSALEM ALEXANDRIA"
       ]
      },
      {
       "output_type": "stream",
       "stream": "stdout",
       "text": [
        "\n",
        "BAMAKO HEW"
       ]
      },
      {
       "output_type": "stream",
       "stream": "stdout",
       "text": [
        "\n",
        "OTTAWA HALIFAX"
       ]
      },
      {
       "output_type": "stream",
       "stream": "stdout",
       "text": [
        "\n",
        "AMCONGEN ISTANBUL"
       ]
      },
      {
       "output_type": "stream",
       "stream": "stdout",
       "text": [
        "\n",
        "PARIS       II GENEVA G. . WOOTTON N-"
       ]
      },
      {
       "output_type": "stream",
       "stream": "stdout",
       "text": [
        "\n",
        "SUMISSION OECD PARIS"
       ]
      },
      {
       "output_type": "stream",
       "stream": "stdout",
       "text": [
        "\n",
        "AMEBASSY TEL AVIV"
       ]
      },
      {
       "output_type": "stream",
       "stream": "stdout",
       "text": [
        "\n",
        "KINGSTON JOINT"
       ]
      },
      {
       "output_type": "stream",
       "stream": "stdout",
       "text": [
        "\n",
        "PESHAWAR OR-M"
       ]
      },
      {
       "output_type": "stream",
       "stream": "stdout",
       "text": [
        "\n",
        "ULAANBAATAR"
       ]
      },
      {
       "output_type": "stream",
       "stream": "stdout",
       "text": [
        "\n",
        "L INRD"
       ]
      },
      {
       "output_type": "stream",
       "stream": "stdout",
       "text": [
        "\n",
        "AMEMBASSY BUCHAREST"
       ]
      },
      {
       "output_type": "stream",
       "stream": "stdout",
       "text": [
        "\n",
        "STATE EUR BUCHAREST"
       ]
      },
      {
       "output_type": "stream",
       "stream": "stdout",
       "text": [
        "\n",
        "TOKYO PEKING"
       ]
      },
      {
       "output_type": "stream",
       "stream": "stdout",
       "text": [
        "\n",
        "NAIROBI     TOSOMIASIS CONTROL TS MEETINGS,"
       ]
      },
      {
       "output_type": "stream",
       "stream": "stdout",
       "text": [
        "\n",
        "BRUSSELS JOINT"
       ]
      },
      {
       "output_type": "stream",
       "stream": "stdout",
       "text": [
        "\n",
        "SS ITF"
       ]
      },
      {
       "output_type": "stream",
       "stream": "stdout",
       "text": [
        "\n",
        "ROME JOINT"
       ]
      },
      {
       "output_type": "stream",
       "stream": "stdout",
       "text": [
        "\n",
        "YAOUNDE SY"
       ]
      },
      {
       "output_type": "stream",
       "stream": "stdout",
       "text": [
        "\n",
        "LUBUMBASHI AF"
       ]
      },
      {
       "output_type": "stream",
       "stream": "stdout",
       "text": [
        "\n",
        "PARIS SS"
       ]
      },
      {
       "output_type": "stream",
       "stream": "stdout",
       "text": [
        "\n",
        "SECSTATE WASLDC"
       ]
      },
      {
       "output_type": "stream",
       "stream": "stdout",
       "text": [
        "\n",
        "USISSION GENEVA"
       ]
      },
      {
       "output_type": "stream",
       "stream": "stdout",
       "text": [
        "\n",
        "ISMISSION NATO"
       ]
      },
      {
       "output_type": "stream",
       "stream": "stdout",
       "text": [
        "\n",
        "ISTANBUL EUR"
       ]
      },
      {
       "output_type": "stream",
       "stream": "stdout",
       "text": [
        "\n",
        "TUNIS AF"
       ]
      },
      {
       "output_type": "stream",
       "stream": "stdout",
       "text": [
        "\n",
        "SECRETARY DALLAS"
       ]
      },
      {
       "output_type": "stream",
       "stream": "stdout",
       "text": [
        "\n",
        "AMMBASSY JAKARTA"
       ]
      },
      {
       "output_type": "stream",
       "stream": "stdout",
       "text": [
        "\n",
        "AMCON      \ufffd\ufffd\ufffd\ufffd\ufffd\ufffd\ufffd\ufffdT    \ufffd\ufffd\ufffd\ufffd\ufffd\ufffd\ufffd\ufffdT BELFAST"
       ]
      },
      {
       "output_type": "stream",
       "stream": "stdout",
       "text": [
        "\n",
        "COM EUR STATE SS"
       ]
      },
      {
       "output_type": "stream",
       "stream": "stdout",
       "text": [
        "\n",
        "SEOUL . FIELD"
       ]
      },
      {
       "output_type": "stream",
       "stream": "stdout",
       "text": [
        "\n",
        "NASSAU CU"
       ]
      },
      {
       "output_type": "stream",
       "stream": "stdout",
       "text": [
        "\n",
        "SANTA ISABEL"
       ]
      },
      {
       "output_type": "stream",
       "stream": "stdout",
       "text": [
        "\n",
        "JOINT      SAIGON"
       ]
      },
      {
       "output_type": "stream",
       "stream": "stdout",
       "text": [
        "\n",
        "TANANARIVER"
       ]
      },
      {
       "output_type": "stream",
       "stream": "stdout",
       "text": [
        "\n",
        "EC BRUSSELS JOINT"
       ]
      },
      {
       "output_type": "stream",
       "stream": "stdout",
       "text": [
        "\n",
        "SS OPR STATE"
       ]
      },
      {
       "output_type": "stream",
       "stream": "stdout",
       "text": [
        "\n",
        "SS AF PM STATE"
       ]
      },
      {
       "output_type": "stream",
       "stream": "stdout",
       "text": [
        "\n",
        "LONDON H"
       ]
      },
      {
       "output_type": "stream",
       "stream": "stdout",
       "text": [
        "\n",
        "AMEMBASSY LIBREVILLE LIBREVILLE"
       ]
      },
      {
       "output_type": "stream",
       "stream": "stdout",
       "text": [
        "\n",
        "STATE ROME"
       ]
      },
      {
       "output_type": "stream",
       "stream": "stdout",
       "text": [
        "\n",
        "USMI SION GENEVA"
       ]
      },
      {
       "output_type": "stream",
       "stream": "stdout",
       "text": [
        "\n",
        "LONDON SS"
       ]
      },
      {
       "output_type": "stream",
       "stream": "stdout",
       "text": [
        "\n",
        "SCA SCS STATE"
       ]
      },
      {
       "output_type": "stream",
       "stream": "stdout",
       "text": [
        "\n",
        "SECRETARY AIRCRAFT USDEL SECRETARY AIRCRAFT SECRETARY"
       ]
      },
      {
       "output_type": "stream",
       "stream": "stdout",
       "text": [
        "\n",
        "CHMUSLO RABAT MOROCCO/CC"
       ]
      },
      {
       "output_type": "stream",
       "stream": "stdout",
       "text": [
        "\n",
        "AMMAN OR-P"
       ]
      },
      {
       "output_type": "stream",
       "stream": "stdout",
       "text": [
        "\n",
        "PRS SS STATE"
       ]
      },
      {
       "output_type": "stream",
       "stream": "stdout",
       "text": [
        "\n",
        "SECTO BUCHAREST SECRETARY"
       ]
      },
      {
       "output_type": "stream",
       "stream": "stdout",
       "text": [
        "\n",
        "SCCT"
       ]
      },
      {
       "output_type": "stream",
       "stream": "stdout",
       "text": [
        "\n",
        "SS A"
       ]
      },
      {
       "output_type": "stream",
       "stream": "stdout",
       "text": [
        "\n",
        "SECRETARY IN JAMAICA SECRETARY OCHO RIOS"
       ]
      },
      {
       "output_type": "stream",
       "stream": "stdout",
       "text": [
        "\n",
        "NAIROBI L ARGENTINA, S VES ND,"
       ]
      },
      {
       "output_type": "stream",
       "stream": "stdout",
       "text": [
        "\n",
        "ES EA"
       ]
      },
      {
       "output_type": "stream",
       "stream": "stdout",
       "text": [
        "\n",
        "TUNIS NEA"
       ]
      },
      {
       "output_type": "stream",
       "stream": "stdout",
       "text": [
        "\n",
        "USUN"
       ]
      },
      {
       "output_type": "stream",
       "stream": "stdout",
       "text": [
        "\n",
        "BRIDGETOWN JOINT"
       ]
      },
      {
       "output_type": "stream",
       "stream": "stdout",
       "text": [
        "\n",
        "BANGKOK      LIMA"
       ]
      },
      {
       "output_type": "stream",
       "stream": "stdout",
       "text": [
        "\n",
        "STATE SMI"
       ]
      },
      {
       "output_type": "stream",
       "stream": "stdout",
       "text": [
        "\n",
        "SECRETARY SECRETARY IN BONN"
       ]
      },
      {
       "output_type": "stream",
       "stream": "stdout",
       "text": [
        "\n",
        "DAMASCUS OC"
       ]
      },
      {
       "output_type": "stream",
       "stream": "stdout",
       "text": [
        "\n",
        "USUN NEW YORK IO"
       ]
      },
      {
       "output_type": "stream",
       "stream": "stdout",
       "text": [
        "\n",
        "NAIROBI     ORK"
       ]
      },
      {
       "output_type": "stream",
       "stream": "stdout",
       "text": [
        "\n",
        "SY"
       ]
      },
      {
       "output_type": "stream",
       "stream": "stdout",
       "text": [
        "\n",
        "PARIS TY a0007.t"
       ]
      },
      {
       "output_type": "stream",
       "stream": "stdout",
       "text": [
        "\n",
        "OUAGADOUGOU CU"
       ]
      },
      {
       "output_type": "stream",
       "stream": "stdout",
       "text": [
        "\n",
        "AHO"
       ]
      },
      {
       "output_type": "stream",
       "stream": "stdout",
       "text": [
        "\n",
        "LIMA INR"
       ]
      },
      {
       "output_type": "stream",
       "stream": "stdout",
       "text": [
        "\n",
        "OKYO TOKYO"
       ]
      },
      {
       "output_type": "stream",
       "stream": "stdout",
       "text": [
        "\n",
        "PARIS      THESSALONIKI"
       ]
      },
      {
       "output_type": "stream",
       "stream": "stdout",
       "text": [
        "\n",
        "VALLETTA JOINT"
       ]
      },
      {
       "output_type": "stream",
       "stream": "stdout",
       "text": [
        "\n",
        "SECRETARY BOSTON LOS ANGELES"
       ]
      },
      {
       "output_type": "stream",
       "stream": "stdout",
       "text": [
        "\n",
        "SECSTATE WASHDC KUALA LUMPUR"
       ]
      },
      {
       "output_type": "stream",
       "stream": "stdout",
       "text": [
        "\n",
        "NICOSIA EUR"
       ]
      },
      {
       "output_type": "stream",
       "stream": "stdout",
       "text": [
        "\n",
        "OECD PARIS AF"
       ]
      },
      {
       "output_type": "stream",
       "stream": "stdout",
       "text": [
        "\n",
        "JOINT      MOGADISCIO"
       ]
      },
      {
       "output_type": "stream",
       "stream": "stdout",
       "text": [
        "\n",
        "MUNICH JOINT"
       ]
      },
      {
       "output_type": "stream",
       "stream": "stdout",
       "text": [
        "\n",
        "STATE S/P"
       ]
      },
      {
       "output_type": "stream",
       "stream": "stdout",
       "text": [
        "\n",
        "BUDAPEST EUR"
       ]
      },
      {
       "output_type": "stream",
       "stream": "stdout",
       "text": [
        "\n",
        "AMEMBASSY RANGOON"
       ]
      },
      {
       "output_type": "stream",
       "stream": "stdout",
       "text": [
        "\n",
        "SEOUL ??   h AILORS/GERMENT WORKERS ERENCE NS"
       ]
      },
      {
       "output_type": "stream",
       "stream": "stdout",
       "text": [
        "\n",
        "SECRETARY IN NEW YORK SECRETARY USUN NEW YORK NEW YORK"
       ]
      },
      {
       "output_type": "stream",
       "stream": "stdout",
       "text": [
        "\n",
        "TAIPEI EA"
       ]
      },
      {
       "output_type": "stream",
       "stream": "stdout",
       "text": [
        "\n",
        "STATE CPR"
       ]
      },
      {
       "output_type": "stream",
       "stream": "stdout",
       "text": [
        "\n",
        "JAMAICA SECRETARY OCHO RIOS"
       ]
      },
      {
       "output_type": "stream",
       "stream": "stdout",
       "text": [
        "\n",
        "PA"
       ]
      },
      {
       "output_type": "stream",
       "stream": "stdout",
       "text": [
        "\n",
        "PC"
       ]
      },
      {
       "output_type": "stream",
       "stream": "stdout",
       "text": [
        "\n",
        "BELIZE JOINT"
       ]
      },
      {
       "output_type": "stream",
       "stream": "stdout",
       "text": [
        "\n",
        "SECTO BRUSSELS SECRETRARY"
       ]
      },
      {
       "output_type": "stream",
       "stream": "stdout",
       "text": [
        "\n",
        "TRIPOLI JOINT"
       ]
      },
      {
       "output_type": "stream",
       "stream": "stdout",
       "text": [
        "\n",
        "H PM NEA SS"
       ]
      },
      {
       "output_type": "stream",
       "stream": "stdout",
       "text": [
        "\n",
        "NAIROBI    "
       ]
      },
      {
       "output_type": "stream",
       "stream": "stdout",
       "text": [
        "\n",
        "NAIROBI   H"
       ]
      },
      {
       "output_type": "stream",
       "stream": "stdout",
       "text": [
        "\n",
        "BAMAKO      JOINT"
       ]
      },
      {
       "output_type": "stream",
       "stream": "stdout",
       "text": [
        "\n",
        "DHAKA"
       ]
      },
      {
       "output_type": "stream",
       "stream": "stdout",
       "text": [
        "\n",
        "BAGHDAD DRC"
       ]
      },
      {
       "output_type": "stream",
       "stream": "stdout",
       "text": [
        "\n",
        "AMEMBASSY MANILA"
       ]
      },
      {
       "output_type": "stream",
       "stream": "stdout",
       "text": [
        "\n",
        "PARIS VY"
       ]
      },
      {
       "output_type": "stream",
       "stream": "stdout",
       "text": [
        "\n",
        "MTN DEL GENEVA"
       ]
      },
      {
       "output_type": "stream",
       "stream": "stdout",
       "text": [
        "\n",
        "SAN JOSE ARA STATE"
       ]
      },
      {
       "output_type": "stream",
       "stream": "stdout",
       "text": [
        "\n",
        "ALASKA"
       ]
      },
      {
       "output_type": "stream",
       "stream": "stdout",
       "text": [
        "\n",
        "VO"
       ]
      },
      {
       "output_type": "stream",
       "stream": "stdout",
       "text": [
        "\n",
        "JOINT      VIENNA"
       ]
      },
      {
       "output_type": "stream",
       "stream": "stdout",
       "text": [
        "\n",
        "DAKAR      SECRETARY"
       ]
      },
      {
       "output_type": "stream",
       "stream": "stdout",
       "text": [
        "\n",
        "SS ARA"
       ]
      },
      {
       "output_type": "stream",
       "stream": "stdout",
       "text": [
        "\n",
        "KABUL EA"
       ]
      },
      {
       "output_type": "stream",
       "stream": "stdout",
       "text": [
        "\n",
        "OES/SCI"
       ]
      },
      {
       "output_type": "stream",
       "stream": "stdout",
       "text": [
        "\n",
        "STATE OPIC"
       ]
      },
      {
       "output_type": "stream",
       "stream": "stdout",
       "text": [
        "\n",
        "BUCHAREST EUR"
       ]
      },
      {
       "output_type": "stream",
       "stream": "stdout",
       "text": [
        "\n",
        "DACCA NEA"
       ]
      },
      {
       "output_type": "stream",
       "stream": "stdout",
       "text": [
        "\n",
        "MAPUTO JOINT"
       ]
      },
      {
       "output_type": "stream",
       "stream": "stdout",
       "text": [
        "\n",
        "SECRETARY AIRCRAFT MILWAUKEE SECRETARY AIRCRAFT"
       ]
      },
      {
       "output_type": "stream",
       "stream": "stdout",
       "text": [
        "\n",
        "AMMBASSY NOUAKCHOTT"
       ]
      },
      {
       "output_type": "stream",
       "stream": "stdout",
       "text": [
        "\n",
        "THE HAGUE JOINT"
       ]
      },
      {
       "output_type": "stream",
       "stream": "stdout",
       "text": [
        "\n",
        "INS ROME"
       ]
      },
      {
       "output_type": "stream",
       "stream": "stdout",
       "text": [
        "\n",
        "ITF"
       ]
      },
      {
       "output_type": "stream",
       "stream": "stdout",
       "text": [
        "\n",
        "STATE EB BRUSSELS"
       ]
      },
      {
       "output_type": "stream",
       "stream": "stdout",
       "text": [
        "\n",
        "PARIS AF"
       ]
      },
      {
       "output_type": "stream",
       "stream": "stdout",
       "text": [
        "\n",
        "SAN JOSEH"
       ]
      },
      {
       "output_type": "stream",
       "stream": "stdout",
       "text": [
        "\n",
        "STATE BRUSSELS"
       ]
      },
      {
       "output_type": "stream",
       "stream": "stdout",
       "text": [
        "\n",
        "SECRETARY HELSINKI HELSINKI"
       ]
      },
      {
       "output_type": "stream",
       "stream": "stdout",
       "text": [
        "\n",
        "L      STATE"
       ]
      },
      {
       "output_type": "stream",
       "stream": "stdout",
       "text": [
        "\n",
        "SAIGON JEC PARIS"
       ]
      },
      {
       "output_type": "stream",
       "stream": "stdout",
       "text": [
        "\n",
        "AMZMBASSY ISLAMABAD"
       ]
      },
      {
       "output_type": "stream",
       "stream": "stdout",
       "text": [
        "\n",
        "ATHENS JOINT"
       ]
      },
      {
       "output_type": "stream",
       "stream": "stdout",
       "text": [
        "\n",
        "PARIS ATE"
       ]
      },
      {
       "output_type": "stream",
       "stream": "stdout",
       "text": [
        "\n",
        "ALGIERS NEA"
       ]
      },
      {
       "output_type": "stream",
       "stream": "stdout",
       "text": [
        "\n",
        "PORT AU PRINCE JOINT"
       ]
      },
      {
       "output_type": "stream",
       "stream": "stdout",
       "text": [
        "\n",
        "BOGOTA      JOINT"
       ]
      },
      {
       "output_type": "stream",
       "stream": "stdout",
       "text": [
        "\n",
        "AMEMBASSS MONROVIA"
       ]
      },
      {
       "output_type": "stream",
       "stream": "stdout",
       "text": [
        "\n",
        "ADDIS ABABA JOINT"
       ]
      },
      {
       "output_type": "stream",
       "stream": "stdout",
       "text": [
        "\n",
        "USMISSITT NATO"
       ]
      },
      {
       "output_type": "stream",
       "stream": "stdout",
       "text": [
        "\n",
        "ES IO NEA"
       ]
      },
      {
       "output_type": "stream",
       "stream": "stdout",
       "text": [
        "\n",
        "STATE EUR CU"
       ]
      },
      {
       "output_type": "stream",
       "stream": "stdout",
       "text": [
        "\n",
        "IAEA VIENNA JOINT"
       ]
      },
      {
       "output_type": "stream",
       "stream": "stdout",
       "text": [
        "\n",
        "AMEMBASS LUSAKA"
       ]
      },
      {
       "output_type": "stream",
       "stream": "stdout",
       "text": [
        "\n",
        "SECRETARY SECRETARY STATE SECRETARY AIRCRAFT"
       ]
      },
      {
       "output_type": "stream",
       "stream": "stdout",
       "text": [
        "\n",
        "PARIS ROME"
       ]
      },
      {
       "output_type": "stream",
       "stream": "stdout",
       "text": [
        "\n",
        "HAMILTON EUR"
       ]
      },
      {
       "output_type": "stream",
       "stream": "stdout",
       "text": [
        "\n",
        "ST JOHNS NEWFOUNDLAND"
       ]
      },
      {
       "output_type": "stream",
       "stream": "stdout",
       "text": [
        "\n",
        "DORADO SECRETARY"
       ]
      },
      {
       "output_type": "stream",
       "stream": "stdout",
       "text": [
        "\n",
        "STATE EA PM"
       ]
      },
      {
       "output_type": "stream",
       "stream": "stdout",
       "text": [
        "\n",
        "ISLAMABAD JOINT"
       ]
      },
      {
       "output_type": "stream",
       "stream": "stdout",
       "text": [
        "\n",
        "NOUAKCHOTT AF"
       ]
      },
      {
       "output_type": "stream",
       "stream": "stdout",
       "text": [
        "\n",
        "DORADO      SECRETARY"
       ]
      },
      {
       "output_type": "stream",
       "stream": "stdout",
       "text": [
        "\n",
        "KABUL FRANKFURT"
       ]
      },
      {
       "output_type": "stream",
       "stream": "stdout",
       "text": [
        "\n",
        "JERUSALEM SECRETARY ALEXANDRIA"
       ]
      },
      {
       "output_type": "stream",
       "stream": "stdout",
       "text": [
        "\n",
        "ENGR TA/H PERS TA/STS AGRIC TRSY CHRON"
       ]
      },
      {
       "output_type": "stream",
       "stream": "stdout",
       "text": [
        "\n",
        "USDEL SECRETARY SECRETARY DORADO"
       ]
      },
      {
       "output_type": "stream",
       "stream": "stdout",
       "text": [
        "\n",
        "NAPLES EUR"
       ]
      },
      {
       "output_type": "stream",
       "stream": "stdout",
       "text": [
        "\n",
        "SINAI OC"
       ]
      },
      {
       "output_type": "stream",
       "stream": "stdout",
       "text": [
        "\n",
        "A"
       ]
      },
      {
       "output_type": "stream",
       "stream": "stdout",
       "text": [
        "\n",
        "WARSAW SECRETARY"
       ]
      },
      {
       "output_type": "stream",
       "stream": "stdout",
       "text": [
        "\n",
        "AMEMBAASSY SOFIA"
       ]
      },
      {
       "output_type": "stream",
       "stream": "stdout",
       "text": [
        "\n",
        "COLOMBO JOINT"
       ]
      },
      {
       "output_type": "stream",
       "stream": "stdout",
       "text": [
        "\n",
        "H"
       ]
      },
      {
       "output_type": "stream",
       "stream": "stdout",
       "text": [
        "\n",
        "SANTO DOMINGO JOINT"
       ]
      },
      {
       "output_type": "stream",
       "stream": "stdout",
       "text": [
        "\n",
        "ECRETARY MONROVIA"
       ]
      },
      {
       "output_type": "stream",
       "stream": "stdout",
       "text": [
        "\n",
        "SINAI JOINT"
       ]
      },
      {
       "output_type": "stream",
       "stream": "stdout",
       "text": [
        "\n",
        "MEXICO SS"
       ]
      },
      {
       "output_type": "stream",
       "stream": "stdout",
       "text": [
        "\n",
        "JOINT      SANTIAGO"
       ]
      },
      {
       "output_type": "stream",
       "stream": "stdout",
       "text": [
        "\n",
        "AMEMBWSY TAIPEI"
       ]
      },
      {
       "output_type": "stream",
       "stream": "stdout",
       "text": [
        "\n",
        "SAN JUAN (PUERTO RICO)"
       ]
      },
      {
       "output_type": "stream",
       "stream": "stdout",
       "text": [
        "\n",
        "US MISSSION NATO"
       ]
      },
      {
       "output_type": "stream",
       "stream": "stdout",
       "text": [
        "\n",
        "COPENHAGEN EUR"
       ]
      },
      {
       "output_type": "stream",
       "stream": "stdout",
       "text": [
        "\n",
        "BUJUMBURA NAIROBI"
       ]
      },
      {
       "output_type": "stream",
       "stream": "stdout",
       "text": [
        "\n",
        "SS STR"
       ]
      },
      {
       "output_type": "stream",
       "stream": "stdout",
       "text": [
        "\n",
        "WELLINGTON JOINT"
       ]
      },
      {
       "output_type": "stream",
       "stream": "stdout",
       "text": [
        "\n",
        "SECRETARY DORADO SECRETATY"
       ]
      },
      {
       "output_type": "stream",
       "stream": "stdout",
       "text": [
        "\n",
        "LIBREVILLE JOINT"
       ]
      },
      {
       "output_type": "stream",
       "stream": "stdout",
       "text": [
        "\n",
        "PORT MORESBY JOINT"
       ]
      },
      {
       "output_type": "stream",
       "stream": "stdout",
       "text": [
        "\n",
        "ABIDJAN JOINT"
       ]
      },
      {
       "output_type": "stream",
       "stream": "stdout",
       "text": [
        "\n",
        "SECRETARY AIRCRAFT SECRETARY KINSHASA"
       ]
      },
      {
       "output_type": "stream",
       "stream": "stdout",
       "text": [
        "\n",
        "MONROVIA NAIROBI"
       ]
      },
      {
       "output_type": "stream",
       "stream": "stdout",
       "text": [
        "\n",
        "AMEXBASSY MOSCOW"
       ]
      },
      {
       "output_type": "stream",
       "stream": "stdout",
       "text": [
        "\n",
        "MAMANA BAHRAIN"
       ]
      },
      {
       "output_type": "stream",
       "stream": "stdout",
       "text": [
        "\n",
        "SECRETARY JERUSALEUM"
       ]
      },
      {
       "output_type": "stream",
       "stream": "stdout",
       "text": [
        "\n",
        "SECRETARY AIRCRAFT SECRETARY LONDON"
       ]
      },
      {
       "output_type": "stream",
       "stream": "stdout",
       "text": [
        "\n",
        "WARSAW JOINT"
       ]
      },
      {
       "output_type": "stream",
       "stream": "stdout",
       "text": [
        "\n",
        "JOINT      REYKJAVIK"
       ]
      },
      {
       "output_type": "stream",
       "stream": "stdout",
       "text": [
        "\n",
        "LISBON EUR"
       ]
      },
      {
       "output_type": "stream",
       "stream": "stdout",
       "text": [
        "\n",
        "NAIROBI NCE OFFICER TORY ORT ON"
       ]
      },
      {
       "output_type": "stream",
       "stream": "stdout",
       "text": [
        "\n",
        "AMEMBASRY LAGOS"
       ]
      },
      {
       "output_type": "stream",
       "stream": "stdout",
       "text": [
        "\n",
        "MANAGUA SS"
       ]
      },
      {
       "output_type": "stream",
       "stream": "stdout",
       "text": [
        "\n",
        "AMEMBASSR NOUAKCHOTT"
       ]
      },
      {
       "output_type": "stream",
       "stream": "stdout",
       "text": [
        "\n",
        "AMEMBSSY COLOMBO"
       ]
      },
      {
       "output_type": "stream",
       "stream": "stdout",
       "text": [
        "\n",
        "ATHENS TASCA"
       ]
      },
      {
       "output_type": "stream",
       "stream": "stdout",
       "text": [
        "\n",
        "L"
       ]
      },
      {
       "output_type": "stream",
       "stream": "stdout",
       "text": [
        "\n",
        "STATE FBO"
       ]
      },
      {
       "output_type": "stream",
       "stream": "stdout",
       "text": [
        "\n",
        "MEXICO H"
       ]
      },
      {
       "output_type": "stream",
       "stream": "stdout",
       "text": [
        "\n",
        "STATE SCS"
       ]
      },
      {
       "output_type": "stream",
       "stream": "stdout",
       "text": [
        "\n",
        "BELGRADE H"
       ]
      },
      {
       "output_type": "stream",
       "stream": "stdout",
       "text": [
        "\n",
        "IO"
       ]
      },
      {
       "output_type": "stream",
       "stream": "stdout",
       "text": [
        "\n",
        "BONN OC"
       ]
      },
      {
       "output_type": "stream",
       "stream": "stdout",
       "text": [
        "\n",
        "AXEMBASSY LUSAKA"
       ]
      },
      {
       "output_type": "stream",
       "stream": "stdout",
       "text": [
        "\n",
        "AMEMBASSY BANGUI BANGUI"
       ]
      },
      {
       "output_type": "stream",
       "stream": "stdout",
       "text": [
        "\n",
        "BELIZE CU"
       ]
      },
      {
       "output_type": "stream",
       "stream": "stdout",
       "text": [
        "\n",
        "OECD PARIS EUR"
       ]
      },
      {
       "output_type": "stream",
       "stream": "stdout",
       "text": [
        "\n",
        "TE SAPPORA"
       ]
      },
      {
       "output_type": "stream",
       "stream": "stdout",
       "text": [
        "\n",
        "USNATO, ZURICH"
       ]
      },
      {
       "output_type": "stream",
       "stream": "stdout",
       "text": [
        "\n",
        "HELSINKI EUR"
       ]
      },
      {
       "output_type": "stream",
       "stream": "stdout",
       "text": [
        "\n",
        "MUNICH EUR"
       ]
      },
      {
       "output_type": "stream",
       "stream": "stdout",
       "text": [
        "\n",
        "BOGOTA JOINT"
       ]
      },
      {
       "output_type": "stream",
       "stream": "stdout",
       "text": [
        "\n",
        "STATE ERDA"
       ]
      },
      {
       "output_type": "stream",
       "stream": "stdout",
       "text": [
        "\n",
        "AT"
       ]
      },
      {
       "output_type": "stream",
       "stream": "stdout",
       "text": [
        "\n",
        "AMAFVVZCZ"
       ]
      },
      {
       "output_type": "stream",
       "stream": "stdout",
       "text": [
        "\n",
        "- TFITZPATRICK (INFO)"
       ]
      },
      {
       "output_type": "stream",
       "stream": "stdout",
       "text": [
        "\n",
        "HAVANA"
       ]
      },
      {
       "output_type": "stream",
       "stream": "stdout",
       "text": [
        "\n",
        "STATE SECTO"
       ]
      },
      {
       "output_type": "stream",
       "stream": "stdout",
       "text": [
        "\n",
        "USIMSSION USUN NY"
       ]
      },
      {
       "output_type": "stream",
       "stream": "stdout",
       "text": [
        "\n",
        "AMCONSUL DURBAN DURBAN"
       ]
      },
      {
       "output_type": "stream",
       "stream": "stdout",
       "text": [
        "\n",
        "DOD      JOINT      STATE"
       ]
      },
      {
       "output_type": "stream",
       "stream": "stdout",
       "text": [
        "\n",
        "STATE ST"
       ]
      },
      {
       "output_type": "stream",
       "stream": "stdout",
       "text": [
        "\n",
        "USMUSSION EC BRUSSELS"
       ]
      },
      {
       "output_type": "stream",
       "stream": "stdout",
       "text": [
        "\n",
        "SECRETARY AIRCRAFT SECRETARY AIRCRAFT NEW YORK"
       ]
      },
      {
       "output_type": "stream",
       "stream": "stdout",
       "text": [
        "\n",
        "MEXICO      SECRETARY"
       ]
      },
      {
       "output_type": "stream",
       "stream": "stdout",
       "text": [
        "\n",
        "PARIS X  \ufffd\ufffd\ufffd\ufffd\ufffd\ufffd\ufffd\ufffd\ufffd\ufffd\ufffd\ufffd\ufffd\ufffd\ufffd\ufffd8 IONS; AID TO EGYPT INISTRY RGUES"
       ]
      },
      {
       "output_type": "stream",
       "stream": "stdout",
       "text": [
        "\n",
        "LOME JOINT"
       ]
      },
      {
       "output_type": "stream",
       "stream": "stdout",
       "text": [
        "\n",
        "BUCHAREST SS STATE"
       ]
      },
      {
       "output_type": "stream",
       "stream": "stdout",
       "text": [
        "\n",
        "LENINGRAD SS"
       ]
      },
      {
       "output_type": "stream",
       "stream": "stdout",
       "text": [
        "\n",
        "OECD PARIS USOECD PARIS"
       ]
      },
      {
       "output_type": "stream",
       "stream": "stdout",
       "text": [
        "\n",
        "AMEMASSY NAIROBI"
       ]
      },
      {
       "output_type": "stream",
       "stream": "stdout",
       "text": [
        "\n",
        "EC RUSSELS"
       ]
      },
      {
       "output_type": "stream",
       "stream": "stdout",
       "text": [
        "\n",
        "GENEVA US MISSION GENEVA"
       ]
      },
      {
       "output_type": "stream",
       "stream": "stdout",
       "text": [
        "\n",
        "DLOS"
       ]
      },
      {
       "output_type": "stream",
       "stream": "stdout",
       "text": [
        "\n",
        "NAIROBIO"
       ]
      },
      {
       "output_type": "stream",
       "stream": "stdout",
       "text": [
        "\n",
        "SINGAPORE JOINT"
       ]
      },
      {
       "output_type": "stream",
       "stream": "stdout",
       "text": [
        "\n",
        "CAIRO OR-M"
       ]
      },
      {
       "output_type": "stream",
       "stream": "stdout",
       "text": [
        "\n",
        "OECD PARIS PARIS"
       ]
      },
      {
       "output_type": "stream",
       "stream": "stdout",
       "text": [
        "\n",
        "AMEMBSSSY COLOMBO"
       ]
      },
      {
       "output_type": "stream",
       "stream": "stdout",
       "text": [
        "\n",
        "DEA TOKYO"
       ]
      },
      {
       "output_type": "stream",
       "stream": "stdout",
       "text": [
        "\n",
        "USEEC BRUSSELS"
       ]
      },
      {
       "output_type": "stream",
       "stream": "stdout",
       "text": [
        "\n",
        "NEA CAIRO"
       ]
      },
      {
       "output_type": "stream",
       "stream": "stdout",
       "text": [
        "\n",
        "BUCHAREST SECRETARY"
       ]
      },
      {
       "output_type": "stream",
       "stream": "stdout",
       "text": [
        "\n",
        "EC BRUSSELS BRUSSELS"
       ]
      },
      {
       "output_type": "stream",
       "stream": "stdout",
       "text": [
        "\n",
        "BRUSSELS EUR"
       ]
      },
      {
       "output_type": "stream",
       "stream": "stdout",
       "text": [
        "\n",
        "AMEMOASSY BANGKOK"
       ]
      },
      {
       "output_type": "stream",
       "stream": "stdout",
       "text": [
        "\n",
        "SS NEA STATE IO"
       ]
      },
      {
       "output_type": "stream",
       "stream": "stdout",
       "text": [
        "\n",
        "GENEVA      LIMA"
       ]
      },
      {
       "output_type": "stream",
       "stream": "stdout",
       "text": [
        "\n",
        "JOINT      KIGALI"
       ]
      },
      {
       "output_type": "stream",
       "stream": "stdout",
       "text": [
        "\n",
        "OSLO EUR"
       ]
      },
      {
       "output_type": "stream",
       "stream": "stdout",
       "text": [
        "\n",
        "WARSAW EUR"
       ]
      },
      {
       "output_type": "stream",
       "stream": "stdout",
       "text": [
        "\n",
        "SECRETARY ALEXANDERIA"
       ]
      },
      {
       "output_type": "stream",
       "stream": "stdout",
       "text": [
        "\n",
        "SS SNM STATE S"
       ]
      },
      {
       "output_type": "stream",
       "stream": "stdout",
       "text": [
        "\n",
        "AMEMBAYSY BUJUMBURA"
       ]
      },
      {
       "output_type": "stream",
       "stream": "stdout",
       "text": [
        "\n",
        "USMISS*ON NATO"
       ]
      },
      {
       "output_type": "stream",
       "stream": "stdout",
       "text": [
        "\n",
        "D"
       ]
      },
      {
       "output_type": "stream",
       "stream": "stdout",
       "text": [
        "\n",
        "SECSTATE WASHDC ARA"
       ]
      },
      {
       "output_type": "stream",
       "stream": "stdout",
       "text": [
        "\n",
        "COM EB"
       ]
      },
      {
       "output_type": "stream",
       "stream": "stdout",
       "text": [
        "\n",
        "USLO"
       ]
      },
      {
       "output_type": "stream",
       "stream": "stdout",
       "text": [
        "\n",
        "NAIROBI     AND NAIROBI N T ALLOCATION"
       ]
      },
      {
       "output_type": "stream",
       "stream": "stdout",
       "text": [
        "\n",
        "NAIROBI  ??h NKEPERS LOAN INTERGOVERNMENTAL ATION"
       ]
      },
      {
       "output_type": "stream",
       "stream": "stdout",
       "text": [
        "\n",
        "USMMISSION NATO"
       ]
      },
      {
       "output_type": "stream",
       "stream": "stdout",
       "text": [
        "\n",
        "PARIS SECRETARY"
       ]
      },
      {
       "output_type": "stream",
       "stream": "stdout",
       "text": [
        "\n",
        "KHARTOUM JOINT"
       ]
      },
      {
       "output_type": "stream",
       "stream": "stdout",
       "text": [
        "\n",
        "ASMARA AF"
       ]
      },
      {
       "output_type": "stream",
       "stream": "stdout",
       "text": [
        "\n",
        "QUITO ARA"
       ]
      },
      {
       "output_type": "stream",
       "stream": "stdout",
       "text": [
        "\n",
        "SEOUL INANCES AND DETENTION OF S R ERS"
       ]
      },
      {
       "output_type": "stream",
       "stream": "stdout",
       "text": [
        "\n",
        "AMEMBASEY TOKYO"
       ]
      },
      {
       "output_type": "stream",
       "stream": "stdout",
       "text": [
        "\n",
        "STATE JOINT DOD"
       ]
      },
      {
       "output_type": "stream",
       "stream": "stdout",
       "text": [
        "\n",
        "NATO BRUSSELS EUR"
       ]
      },
      {
       "output_type": "stream",
       "stream": "stdout",
       "text": [
        "\n",
        "STATE WELLINGTON"
       ]
      },
      {
       "output_type": "stream",
       "stream": "stdout",
       "text": [
        "\n",
        "AMEBASSY ATHENS"
       ]
      },
      {
       "output_type": "stream",
       "stream": "stdout",
       "text": [
        "\n",
        "THESSALONIMI"
       ]
      },
      {
       "output_type": "stream",
       "stream": "stdout",
       "text": [
        "\n",
        "USMSISION NATO"
       ]
      },
      {
       "output_type": "stream",
       "stream": "stdout",
       "text": [
        "\n",
        "MAEMBASSY TOKYO"
       ]
      },
      {
       "output_type": "stream",
       "stream": "stdout",
       "text": [
        "\n",
        "ROME OC"
       ]
      },
      {
       "output_type": "stream",
       "stream": "stdout",
       "text": [
        "\n",
        "BEIRUT ABIDJAN"
       ]
      },
      {
       "output_type": "stream",
       "stream": "stdout",
       "text": [
        "\n",
        "ACAPULCO      SECRETARY"
       ]
      },
      {
       "output_type": "stream",
       "stream": "stdout",
       "text": [
        "\n",
        "USMISSKON USUN NY"
       ]
      },
      {
       "output_type": "stream",
       "stream": "stdout",
       "text": [
        "\n",
        "SECRETARY AIR CRAFT"
       ]
      },
      {
       "output_type": "stream",
       "stream": "stdout",
       "text": [
        "\n",
        "MONTREAL IO"
       ]
      },
      {
       "output_type": "stream",
       "stream": "stdout",
       "text": [
        "\n",
        "NAIROBI  }8"
       ]
      },
      {
       "output_type": "stream",
       "stream": "stdout",
       "text": [
        "\n",
        "SEOUL       UL BLY EOUL ASE: LAW"
       ]
      },
      {
       "output_type": "stream",
       "stream": "stdout",
       "text": [
        "\n",
        "SECSTATE WASHDC EUR"
       ]
      },
      {
       "output_type": "stream",
       "stream": "stdout",
       "text": [
        "\n",
        "PARIS SUMPTION STATISTICS N REN) YORK,"
       ]
      },
      {
       "output_type": "stream",
       "stream": "stdout",
       "text": [
        "\n",
        "COA"
       ]
      },
      {
       "output_type": "stream",
       "stream": "stdout",
       "text": [
        "\n",
        "FREETOWN      JOINT"
       ]
      },
      {
       "output_type": "stream",
       "stream": "stdout",
       "text": [
        "\n",
        "U S MISSION GENEVA"
       ]
      },
      {
       "output_type": "stream",
       "stream": "stdout",
       "text": [
        "\n",
        "ECRETARY AIRCRAFT SECRETARY"
       ]
      },
      {
       "output_type": "stream",
       "stream": "stdout",
       "text": [
        "\n",
        "USDEL SECRETARY SECRETARY AIR FORCE ONE"
       ]
      },
      {
       "output_type": "stream",
       "stream": "stdout",
       "text": [
        "\n",
        "SS L STATE"
       ]
      },
      {
       "output_type": "stream",
       "stream": "stdout",
       "text": [
        "\n",
        "US MISSION USUN NY"
       ]
      },
      {
       "output_type": "stream",
       "stream": "stdout",
       "text": [
        "\n",
        "CANBERRA A"
       ]
      },
      {
       "output_type": "stream",
       "stream": "stdout",
       "text": [
        "\n",
        "USDEL ALEXANDRIA"
       ]
      },
      {
       "output_type": "stream",
       "stream": "stdout",
       "text": [
        "\n",
        "USSISSION USUN NY"
       ]
      },
      {
       "output_type": "stream",
       "stream": "stdout",
       "text": [
        "\n",
        "JAKARTA JOINT"
       ]
      },
      {
       "output_type": "stream",
       "stream": "stdout",
       "text": [
        "\n",
        "AID"
       ]
      },
      {
       "output_type": "stream",
       "stream": "stdout",
       "text": [
        "\n",
        "SS IO"
       ]
      },
      {
       "output_type": "stream",
       "stream": "stdout",
       "text": [
        "\n",
        "BRASILIA      SECRETARY"
       ]
      },
      {
       "output_type": "stream",
       "stream": "stdout",
       "text": [
        "\n",
        "PARIS h  ??H"
       ]
      },
      {
       "output_type": "stream",
       "stream": "stdout",
       "text": [
        "\n",
        "SECTO SECRETARY AIRCRAFT"
       ]
      },
      {
       "output_type": "stream",
       "stream": "stdout",
       "text": [
        "\n",
        "DEA JUS TOKYO"
       ]
      },
      {
       "output_type": "stream",
       "stream": "stdout",
       "text": [
        "\n",
        "GUATEMALA SS"
       ]
      },
      {
       "output_type": "stream",
       "stream": "stdout",
       "text": [
        "\n",
        "LAHORE      SECRETARY"
       ]
      },
      {
       "output_type": "stream",
       "stream": "stdout",
       "text": [
        "\n",
        "YAOUNDE JOINT"
       ]
      },
      {
       "output_type": "stream",
       "stream": "stdout",
       "text": [
        "\n",
        "EB ST"
       ]
      },
      {
       "output_type": "stream",
       "stream": "stdout",
       "text": [
        "\n",
        "SECSTATE WASHDC SECRETARY"
       ]
      },
      {
       "output_type": "stream",
       "stream": "stdout",
       "text": [
        "\n",
        "NAIROBI TY"
       ]
      },
      {
       "output_type": "stream",
       "stream": "stdout",
       "text": [
        "\n",
        "RECIFE OR-M"
       ]
      },
      {
       "output_type": "stream",
       "stream": "stdout",
       "text": [
        "\n",
        "ROME L"
       ]
      },
      {
       "output_type": "stream",
       "stream": "stdout",
       "text": [
        "\n",
        "EC BRUSEELS"
       ]
      },
      {
       "output_type": "stream",
       "stream": "stdout",
       "text": [
        "\n",
        "GEORGETOWN OR-M"
       ]
      },
      {
       "output_type": "stream",
       "stream": "stdout",
       "text": [
        "\n",
        "DAMASCUS JOINT"
       ]
      },
      {
       "output_type": "stream",
       "stream": "stdout",
       "text": [
        "\n",
        "STATE D"
       ]
      },
      {
       "output_type": "stream",
       "stream": "stdout",
       "text": [
        "\n",
        "BUDAPEST OR-M"
       ]
      },
      {
       "output_type": "stream",
       "stream": "stdout",
       "text": [
        "\n",
        "LENINGRAD EUR"
       ]
      },
      {
       "output_type": "stream",
       "stream": "stdout",
       "text": [
        "\n",
        "USDEL SECRETARY AIRCRAFT SECRETARY AIRCRAFT SECRETARY"
       ]
      },
      {
       "output_type": "stream",
       "stream": "stdout",
       "text": [
        "\n",
        "NAIROBI AUG DTG AUG OL"
       ]
      },
      {
       "output_type": "stream",
       "stream": "stdout",
       "text": [
        "\n",
        "AMEMBWSSY NAIROBI"
       ]
      },
      {
       "output_type": "stream",
       "stream": "stdout",
       "text": [
        "\n",
        "BOGOTA ARA"
       ]
      },
      {
       "output_type": "stream",
       "stream": "stdout",
       "text": [
        "\n",
        "SECRETARY IN AMMMAN"
       ]
      },
      {
       "output_type": "stream",
       "stream": "stdout",
       "text": [
        "\n",
        "MEXICO CITY"
       ]
      },
      {
       "output_type": "stream",
       "stream": "stdout",
       "text": [
        "\n",
        "A MADRID"
       ]
      },
      {
       "output_type": "stream",
       "stream": "stdout",
       "text": [
        "\n",
        "JIDDA NEA"
       ]
      },
      {
       "output_type": "stream",
       "stream": "stdout",
       "text": [
        "\n",
        "MOGADISCIO JOINT"
       ]
      },
      {
       "output_type": "stream",
       "stream": "stdout",
       "text": [
        "\n",
        "TEL AVIV DAMASCUS"
       ]
      },
      {
       "output_type": "stream",
       "stream": "stdout",
       "text": [
        "\n",
        "STATE OIC"
       ]
      },
      {
       "output_type": "stream",
       "stream": "stdout",
       "text": [
        "\n",
        "STRASBOURG STRASBURG"
       ]
      },
      {
       "output_type": "stream",
       "stream": "stdout",
       "text": [
        "\n",
        "ISLAMABAD NEA"
       ]
      },
      {
       "output_type": "stream",
       "stream": "stdout",
       "text": [
        "\n",
        "TRSY"
       ]
      },
      {
       "output_type": "stream",
       "stream": "stdout",
       "text": [
        "\n",
        "STAT EA"
       ]
      },
      {
       "output_type": "stream",
       "stream": "stdout",
       "text": [
        "\n",
        "ANKARA SS"
       ]
      },
      {
       "output_type": "stream",
       "stream": "stdout",
       "text": [
        "\n",
        "SECRETARY DAR ES SALAAM SECRETARY AIRCRAFT"
       ]
      },
      {
       "output_type": "stream",
       "stream": "stdout",
       "text": [
        "\n",
        "USMISSIN GENEVA"
       ]
      },
      {
       "output_type": "stream",
       "stream": "stdout",
       "text": [
        "\n",
        "LUSAKA AF"
       ]
      },
      {
       "output_type": "stream",
       "stream": "stdout",
       "text": [
        "\n",
        "USMISSTION NATO"
       ]
      },
      {
       "output_type": "stream",
       "stream": "stdout",
       "text": [
        "\n",
        "AMEMBAESY KAMPALA"
       ]
      },
      {
       "output_type": "stream",
       "stream": "stdout",
       "text": [
        "\n",
        "KINGSTON FSI"
       ]
      },
      {
       "output_type": "stream",
       "stream": "stdout",
       "text": [
        "\n",
        "PARIS      SECRETARY"
       ]
      },
      {
       "output_type": "stream",
       "stream": "stdout",
       "text": [
        "\n",
        "NAIROBI NIA ITY"
       ]
      },
      {
       "output_type": "stream",
       "stream": "stdout",
       "text": [
        "\n",
        "GUATEMALA JOINT"
       ]
      },
      {
       "output_type": "stream",
       "stream": "stdout",
       "text": [
        "\n",
        "STATE TRSY"
       ]
      },
      {
       "output_type": "stream",
       "stream": "stdout",
       "text": [
        "\n",
        "PARIS SENIOR UNESCO POSTS ESS ESS"
       ]
      },
      {
       "output_type": "stream",
       "stream": "stdout",
       "text": [
        "\n",
        "NIAMEY AID"
       ]
      },
      {
       "output_type": "stream",
       "stream": "stdout",
       "text": [
        "\n",
        "UN MILITARY STAFF COMITE USUN NY"
       ]
      },
      {
       "output_type": "stream",
       "stream": "stdout",
       "text": [
        "\n",
        "SECRETARY SECRETARY AIRCRAFT EA"
       ]
      },
      {
       "output_type": "stream",
       "stream": "stdout",
       "text": [
        "\n",
        "MELBOURNE EA"
       ]
      },
      {
       "output_type": "stream",
       "stream": "stdout",
       "text": [
        "\n"
       ]
      }
     ],
     "prompt_number": 86
    },
    {
     "cell_type": "code",
     "collapsed": false,
     "input": [
      "#percent of cables which are secret\n",
      "perc_secret=secret_counts/msgfrom_counts[secret_counts.index]\n",
      "perc_secret = perc_secret[perc_secret!=1]"
     ],
     "language": "python",
     "metadata": {},
     "outputs": [],
     "prompt_number": 96
    },
    {
     "cell_type": "code",
     "collapsed": false,
     "input": [
      "key_names = [u'MOSCOW', u'GENEVA', u'PARIS', u'LONDON', u'TOKYO', u'TEHRAN', u'SANTIAGO']\n",
      "perc_secret[key_names].plot(kind='bar', figsize=(20,10))"
     ],
     "language": "python",
     "metadata": {},
     "outputs": [
      {
       "metadata": {},
       "output_type": "pyout",
       "prompt_number": 100,
       "text": [
        "<matplotlib.axes.AxesSubplot at 0x1413bb190>"
       ]
      },
      {
       "metadata": {
        "png": {
         "height": 632,
         "width": 1155
        }
       },
       "output_type": "display_data",
       "png": "[encoded data removed]",
       "text": [
        "<matplotlib.figure.Figure at 0x13eb35790>"
       ]
      }
     ],
     "prompt_number": 100
    },
    {
     "cell_type": "code",
     "collapsed": false,
     "input": [
      "meta[meta.msgfrom == msgfrom_counts.keys()[0]].origclass.value_counts()['SECRET']"
     ],
     "language": "python",
     "metadata": {},
     "outputs": [
      {
       "metadata": {},
       "output_type": "pyout",
       "prompt_number": 79,
       "text": [
        "20547"
       ]
      }
     ],
     "prompt_number": 79
    },
    {
     "cell_type": "markdown",
     "metadata": {},
     "source": [
      "#Create vw file for corpus\n",
      "\n"
     ]
    },
    {
     "cell_type": "code",
     "collapsed": false,
     "input": [
      "my_tokenizer = text_processors.TokenizerBasic()\n",
      "stream = streamers.TextFileStreamer(text_base_path=text_base_path, tokenizer=my_tokenizer)\n",
      "stream.to_vw(sfile_path, n_jobs=-1, raise_on_bad_id=False)"
     ],
     "language": "python",
     "metadata": {},
     "outputs": [],
     "prompt_number": 17
    },
    {
     "cell_type": "code",
     "collapsed": false,
     "input": [
      "### somewhere here run \n",
      "# rm -f *cache\n",
      "#vw --lda 80 --cache_file doc_tokens.cache --passes 10 -p prediction.dat --readable_model topics.dat --bit_precision 16 --lda_D 10000 --lda_rho 0.1 --lda_alpha 1 ../cables-full-01.vw\n"
     ],
     "language": "python",
     "metadata": {},
     "outputs": []
    },
    {
     "cell_type": "code",
     "collapsed": false,
     "input": [
      "formatter = text_processors.VWFormatter()\n",
      "sff = text_processors.SFileFilter(formatter)\n",
      "sff.load_sfile(sfile_path)"
     ],
     "language": "python",
     "metadata": {},
     "outputs": [
      {
       "ename": "IOError",
       "evalue": "[Errno 2] No such file or directory: '/Users/danielkrasner/DATA_master/prod/declass/cables-full-01/processed/cables-full.vw'",
       "output_type": "pyerr",
       "traceback": [
        "\u001b[0;31m---------------------------------------------------------------------------\u001b[0m\n\u001b[0;31mIOError\u001b[0m                                   Traceback (most recent call last)",
        "\u001b[0;32m<ipython-input-30-3ce4e3d3a3a3>\u001b[0m in \u001b[0;36m<module>\u001b[0;34m()\u001b[0m\n\u001b[1;32m      1\u001b[0m \u001b[0mformatter\u001b[0m \u001b[0;34m=\u001b[0m \u001b[0mtext_processors\u001b[0m\u001b[0;34m.\u001b[0m\u001b[0mVWFormatter\u001b[0m\u001b[0;34m(\u001b[0m\u001b[0;34m)\u001b[0m\u001b[0;34m\u001b[0m\u001b[0m\n\u001b[1;32m      2\u001b[0m \u001b[0msff\u001b[0m \u001b[0;34m=\u001b[0m \u001b[0mtext_processors\u001b[0m\u001b[0;34m.\u001b[0m\u001b[0mSFileFilter\u001b[0m\u001b[0;34m(\u001b[0m\u001b[0mformatter\u001b[0m\u001b[0;34m)\u001b[0m\u001b[0;34m\u001b[0m\u001b[0m\n\u001b[0;32m----> 3\u001b[0;31m \u001b[0msff\u001b[0m\u001b[0;34m.\u001b[0m\u001b[0mload_sfile\u001b[0m\u001b[0;34m(\u001b[0m\u001b[0msfile_path\u001b[0m\u001b[0;34m)\u001b[0m\u001b[0;34m\u001b[0m\u001b[0m\n\u001b[0m",
        "\u001b[0;32m/Users/danielkrasner/anaconda/lib/python2.7/site-packages/rosetta/text/text_processors.pyc\u001b[0m in \u001b[0;36mload_sfile\u001b[0;34m(self, sfile)\u001b[0m\n\u001b[1;32m    521\u001b[0m         \u001b[0;31m# Build token2id\u001b[0m\u001b[0;34m\u001b[0m\u001b[0;34m\u001b[0m\u001b[0m\n\u001b[1;32m    522\u001b[0m         token2id, token_score, doc_freq, num_docs = (\n\u001b[0;32m--> 523\u001b[0;31m             self._load_sfile_fwd(sfile))\n\u001b[0m\u001b[1;32m    524\u001b[0m \u001b[0;34m\u001b[0m\u001b[0m\n\u001b[1;32m    525\u001b[0m         \u001b[0mself\u001b[0m\u001b[0;34m.\u001b[0m\u001b[0mtoken2id\u001b[0m \u001b[0;34m=\u001b[0m \u001b[0mtoken2id\u001b[0m\u001b[0;34m\u001b[0m\u001b[0m\n",
        "\u001b[0;32m/Users/danielkrasner/anaconda/lib/python2.7/site-packages/rosetta/text/text_processors.pyc\u001b[0m in \u001b[0;36m_load_sfile_fwd\u001b[0;34m(self, sfile)\u001b[0m\n\u001b[1;32m    542\u001b[0m         \u001b[0mhash_fun\u001b[0m \u001b[0;34m=\u001b[0m \u001b[0mself\u001b[0m\u001b[0;34m.\u001b[0m\u001b[0m_get_hash_fun\u001b[0m\u001b[0;34m(\u001b[0m\u001b[0;34m)\u001b[0m\u001b[0;34m\u001b[0m\u001b[0m\n\u001b[1;32m    543\u001b[0m \u001b[0;34m\u001b[0m\u001b[0m\n\u001b[0;32m--> 544\u001b[0;31m         \u001b[0;32mwith\u001b[0m \u001b[0msmart_open\u001b[0m\u001b[0;34m(\u001b[0m\u001b[0msfile\u001b[0m\u001b[0;34m)\u001b[0m \u001b[0;32mas\u001b[0m \u001b[0mopen_file\u001b[0m\u001b[0;34m:\u001b[0m\u001b[0;34m\u001b[0m\u001b[0m\n\u001b[0m\u001b[1;32m    545\u001b[0m             \u001b[0;31m# Each line represents one document\u001b[0m\u001b[0;34m\u001b[0m\u001b[0;34m\u001b[0m\u001b[0m\n\u001b[1;32m    546\u001b[0m             \u001b[0;32mfor\u001b[0m \u001b[0mline\u001b[0m \u001b[0;32min\u001b[0m \u001b[0mopen_file\u001b[0m\u001b[0;34m:\u001b[0m\u001b[0;34m\u001b[0m\u001b[0m\n",
        "\u001b[0;32m/Users/danielkrasner/anaconda/lib/python2.7/site-packages/rosetta/common.pyc\u001b[0m in \u001b[0;36m__init__\u001b[0;34m(self, filename, *args)\u001b[0m\n\u001b[1;32m     52\u001b[0m         \"\"\"\n\u001b[1;32m     53\u001b[0m         \u001b[0;32mif\u001b[0m \u001b[0misinstance\u001b[0m\u001b[0;34m(\u001b[0m\u001b[0mfilename\u001b[0m\u001b[0;34m,\u001b[0m \u001b[0mbasestring\u001b[0m\u001b[0;34m)\u001b[0m\u001b[0;34m:\u001b[0m\u001b[0;34m\u001b[0m\u001b[0m\n\u001b[0;32m---> 54\u001b[0;31m             \u001b[0mself\u001b[0m\u001b[0;34m.\u001b[0m\u001b[0mfh\u001b[0m \u001b[0;34m=\u001b[0m \u001b[0mopen\u001b[0m\u001b[0;34m(\u001b[0m\u001b[0mfilename\u001b[0m\u001b[0;34m,\u001b[0m \u001b[0;34m*\u001b[0m\u001b[0margs\u001b[0m\u001b[0;34m)\u001b[0m\u001b[0;34m\u001b[0m\u001b[0m\n\u001b[0m\u001b[1;32m     55\u001b[0m             \u001b[0mself\u001b[0m\u001b[0;34m.\u001b[0m\u001b[0mclosing\u001b[0m \u001b[0;34m=\u001b[0m \u001b[0mTrue\u001b[0m\u001b[0;34m\u001b[0m\u001b[0m\n\u001b[1;32m     56\u001b[0m         \u001b[0;32melse\u001b[0m\u001b[0;34m:\u001b[0m\u001b[0;34m\u001b[0m\u001b[0m\n",
        "\u001b[0;31mIOError\u001b[0m: [Errno 2] No such file or directory: '/Users/danielkrasner/DATA_master/prod/declass/cables-full-01/processed/cables-full.vw'"
       ]
      }
     ],
     "prompt_number": 30
    },
    {
     "cell_type": "code",
     "collapsed": false,
     "input": [
      "sff.compactify()\n",
      "sff.save(PROCESSED + '/sff_basic.pkl')"
     ],
     "language": "python",
     "metadata": {},
     "outputs": [
      {
       "output_type": "stream",
       "stream": "stdout",
       "text": [
        "collisions = 0, vocab_size = 35056\n",
        "All collisions resolved\n",
        "Compactification done.  self.bit_precision_required = 16\n",
        "collisions = 0, vocab_size = 35056\n",
        "All collisions resolved"
       ]
      },
      {
       "output_type": "stream",
       "stream": "stdout",
       "text": [
        "\n"
       ]
      }
     ],
     "prompt_number": 401
    },
    {
     "cell_type": "code",
     "collapsed": false,
     "input": [
      "sff.to_frame().sort_index(by='doc_fraction', ascending=False).head(4)"
     ],
     "language": "python",
     "metadata": {},
     "outputs": [
      {
       "html": [
        "<div style=\"max-height:1000px;max-width:1500px;overflow:auto;\">\n",
        "<table border=\"1\" class=\"dataframe\">\n",
        "  <thead>\n",
        "    <tr style=\"text-align: right;\">\n",
        "      <th></th>\n",
        "      <th>doc_freq</th>\n",
        "      <th>token_score</th>\n",
        "      <th>doc_fraction</th>\n",
        "    </tr>\n",
        "    <tr>\n",
        "      <th>token</th>\n",
        "      <th></th>\n",
        "      <th></th>\n",
        "      <th></th>\n",
        "    </tr>\n",
        "  </thead>\n",
        "  <tbody>\n",
        "    <tr>\n",
        "      <th>gds</th>\n",
        "      <td> 216564</td>\n",
        "      <td> 218695</td>\n",
        "      <td> 0.193422</td>\n",
        "    </tr>\n",
        "    <tr>\n",
        "      <th>usmission</th>\n",
        "      <td> 204236</td>\n",
        "      <td> 314141</td>\n",
        "      <td> 0.182411</td>\n",
        "    </tr>\n",
        "    <tr>\n",
        "      <th>confidential</th>\n",
        "      <td> 204007</td>\n",
        "      <td> 907340</td>\n",
        "      <td> 0.182206</td>\n",
        "    </tr>\n",
        "    <tr>\n",
        "      <th>number</th>\n",
        "      <td> 200972</td>\n",
        "      <td> 239051</td>\n",
        "      <td> 0.179496</td>\n",
        "    </tr>\n",
        "  </tbody>\n",
        "</table>\n",
        "</div>"
       ],
       "metadata": {},
       "output_type": "pyout",
       "prompt_number": 415,
       "text": [
        "              doc_freq  token_score  doc_fraction\n",
        "token                                            \n",
        "gds             216564       218695      0.193422\n",
        "usmission       204236       314141      0.182411\n",
        "confidential    204007       907340      0.182206\n",
        "number          200972       239051      0.179496"
       ]
      }
     ],
     "prompt_number": 415
    },
    {
     "cell_type": "code",
     "collapsed": false,
     "input": [
      "sff = text_processors.SFileFilter.load(PROCESSED + '/sff_basic.pkl')\n",
      "print sff.vocab_size"
     ],
     "language": "python",
     "metadata": {},
     "outputs": [
      {
       "output_type": "stream",
       "stream": "stdout",
       "text": [
        "35056\n"
       ]
      }
     ],
     "prompt_number": 146
    },
    {
     "cell_type": "code",
     "collapsed": false,
     "input": [
      "sff.filter_extremes(doc_freq_min=100, doc_fraction_max=0.7)\n",
      "sff.compactify()\n",
      "sff.save(PROCESSED + '/sff.pkl')"
     ],
     "language": "python",
     "metadata": {},
     "outputs": [
      {
       "output_type": "stream",
       "stream": "stdout",
       "text": [
        "Removed 8/35056 tokens\n",
        "collisions = 0, vocab_size = 35048\n",
        "All collisions resolved\n",
        "Compactification done.  self.bit_precision_required = 16\n",
        "collisions = 0, vocab_size = 35048"
       ]
      },
      {
       "output_type": "stream",
       "stream": "stdout",
       "text": [
        "\n",
        "All collisions resolved\n"
       ]
      }
     ],
     "prompt_number": 147
    },
    {
     "cell_type": "markdown",
     "metadata": {},
     "source": [
      "## Get LDA results"
     ]
    },
    {
     "cell_type": "code",
     "collapsed": false,
     "input": [
      "lda = vw_helpers.LDAResults(PROCESSED + '/topics.dat', PROCESSED + '/prediction.dat', 80, PROCESSED + '/sff.pkl')"
     ],
     "language": "python",
     "metadata": {},
     "outputs": [],
     "prompt_number": 16
    },
    {
     "cell_type": "code",
     "collapsed": false,
     "input": [
      "topic_words = lda.pr_token_g_topic.loc['topic_12'].order(ascending=False).index[:10]\n",
      "lda.sfile_frame.loc[topic_words]"
     ],
     "language": "python",
     "metadata": {},
     "outputs": [
      {
       "html": [
        "<div style=\"max-height:1000px;max-width:1500px;overflow:auto;\">\n",
        "<table border=\"1\" class=\"dataframe\">\n",
        "  <thead>\n",
        "    <tr style=\"text-align: right;\">\n",
        "      <th></th>\n",
        "      <th>doc_freq</th>\n",
        "      <th>token_score</th>\n",
        "      <th>doc_fraction</th>\n",
        "    </tr>\n",
        "  </thead>\n",
        "  <tbody>\n",
        "    <tr>\n",
        "      <th>immediate</th>\n",
        "      <td> 170556</td>\n",
        "      <td> 302571</td>\n",
        "      <td> 0.152330</td>\n",
        "    </tr>\n",
        "    <tr>\n",
        "      <th>secretary</th>\n",
        "      <td> 123770</td>\n",
        "      <td> 247467</td>\n",
        "      <td> 0.110544</td>\n",
        "    </tr>\n",
        "    <tr>\n",
        "      <th>panama</th>\n",
        "      <td>  16298</td>\n",
        "      <td>  50507</td>\n",
        "      <td> 0.014556</td>\n",
        "    </tr>\n",
        "    <tr>\n",
        "      <th>madrid</th>\n",
        "      <td>  23228</td>\n",
        "      <td>  57186</td>\n",
        "      <td> 0.020746</td>\n",
        "    </tr>\n",
        "    <tr>\n",
        "      <th>flight</th>\n",
        "      <td>  35248</td>\n",
        "      <td>  52380</td>\n",
        "      <td> 0.031481</td>\n",
        "    </tr>\n",
        "    <tr>\n",
        "      <th>lima</th>\n",
        "      <td>  18211</td>\n",
        "      <td>  51894</td>\n",
        "      <td> 0.016265</td>\n",
        "    </tr>\n",
        "    <tr>\n",
        "      <th>assistant</th>\n",
        "      <td>  38646</td>\n",
        "      <td>  50713</td>\n",
        "      <td> 0.034516</td>\n",
        "    </tr>\n",
        "    <tr>\n",
        "      <th>secretary's</th>\n",
        "      <td>  22728</td>\n",
        "      <td>  39735</td>\n",
        "      <td> 0.020299</td>\n",
        "    </tr>\n",
        "    <tr>\n",
        "      <th>hours</th>\n",
        "      <td>  33313</td>\n",
        "      <td>  51549</td>\n",
        "      <td> 0.029753</td>\n",
        "    </tr>\n",
        "    <tr>\n",
        "      <th>time</th>\n",
        "      <td> 193240</td>\n",
        "      <td> 293254</td>\n",
        "      <td> 0.172590</td>\n",
        "    </tr>\n",
        "  </tbody>\n",
        "</table>\n",
        "</div>"
       ],
       "metadata": {},
       "output_type": "pyout",
       "prompt_number": 149,
       "text": [
        "             doc_freq  token_score  doc_fraction\n",
        "immediate      170556       302571      0.152330\n",
        "secretary      123770       247467      0.110544\n",
        "panama          16298        50507      0.014556\n",
        "madrid          23228        57186      0.020746\n",
        "flight          35248        52380      0.031481\n",
        "lima            18211        51894      0.016265\n",
        "assistant       38646        50713      0.034516\n",
        "secretary's     22728        39735      0.020299\n",
        "hours           33313        51549      0.029753\n",
        "time           193240       293254      0.172590"
       ]
      }
     ],
     "prompt_number": 149
    },
    {
     "cell_type": "code",
     "collapsed": false,
     "input": [
      "# Miklos topic number\n",
      "lda.pr_token_g_topic['miklos'].order(ascending=False).head(2)"
     ],
     "language": "python",
     "metadata": {},
     "outputs": [
      {
       "metadata": {},
       "output_type": "pyout",
       "prompt_number": 163,
       "text": [
        "topic_5    7.362417e-04\n",
        "topic_0    6.691381e-08\n",
        "Name: miklos, dtype: float64"
       ]
      }
     ],
     "prompt_number": 163
    },
    {
     "cell_type": "code",
     "collapsed": false,
     "input": [
      "# Tehran topic number\n",
      "lda.pr_token_g_topic['tehran'].order(ascending=False).head(2)"
     ],
     "language": "python",
     "metadata": {},
     "outputs": [
      {
       "metadata": {},
       "output_type": "pyout",
       "prompt_number": 166,
       "text": [
        "topic_5    2.447416e-02\n",
        "topic_0    6.690779e-08\n",
        "Name: tehran, dtype: float64"
       ]
      }
     ],
     "prompt_number": 166
    },
    {
     "cell_type": "code",
     "collapsed": false,
     "input": [
      "lda.pr_doc_g_topic['1974TEHRAN00881'].order(ascending=False).head(4)"
     ],
     "language": "python",
     "metadata": {},
     "outputs": [
      {
       "metadata": {},
       "output_type": "pyout",
       "prompt_number": 165,
       "text": [
        "topic_5     0.000002\n",
        "topic_3     0.000002\n",
        "topic_26    0.000001\n",
        "topic_10    0.000001\n",
        "Name: 1974TEHRAN00881, dtype: float64"
       ]
      }
     ],
     "prompt_number": 165
    },
    {
     "cell_type": "code",
     "collapsed": false,
     "input": [
      "lda.print_topics(20)"
     ],
     "language": "python",
     "metadata": {},
     "outputs": [
      {
       "output_type": "stream",
       "stream": "stdout",
       "text": [
        "========== Printing top 20 tokens in every topic==========\n",
        "------------------------------\n",
        "Topic name: topic_0.  P[topic_0] = 0.0079\n",
        "subj          0.259976\n",
        "action        0.113876\n",
        "here          0.092519\n",
        "bank          0.087032\n",
        "agency        0.042992\n",
        "send          0.035145\n",
        "free          0.032808\n",
        "except        0.024890\n",
        "background    0.017413\n",
        "population    0.015935\n",
        "banks         0.015433\n",
        "swiss         0.012963\n",
        "imf           0.012751\n",
        "requires      0.011118\n",
        "ibrd          0.010411\n",
        "evacuation    0.009501\n",
        "assets        0.008771\n",
        "zurich        0.007897\n",
        "advisory      0.007857\n",
        "freight       0.007216\n",
        "\n",
        "------------------------------\n",
        "Topic name: topic_1.  P[topic_1] = 0.0151\n",
        "one             0.135085\n",
        "two             0.130368\n",
        "agreement       0.117570\n",
        "made            0.114533\n",
        "both            0.059728\n",
        "services        0.026987\n",
        "proposals       0.021251\n",
        "another         0.018894\n",
        "ground          0.017627\n",
        "agreements      0.016489\n",
        "separate        0.016080\n",
        "ment            0.015357\n",
        "found           0.012674\n",
        "offered         0.012073\n",
        "specifically    0.012021\n",
        "sides           0.010849\n",
        "af              0.010275\n",
        "acceptable      0.009897\n",
        "sign            0.008966\n",
        "provision       0.008750\n",
        "\n",
        "------------------------------\n",
        "Topic name: topic_10.  P[topic_10] = 0.0117\n",
        "dr              0.067755\n",
        "schedule        0.043068\n",
        "research        0.034879\n",
        "sept            0.030503\n",
        "university      0.027290\n",
        "evening         0.021573\n",
        "senator         0.019793\n",
        "institute       0.019511\n",
        "arrangements    0.018408\n",
        "school          0.016972\n",
        "stay            0.016275\n",
        "science         0.015965\n",
        "appointment     0.015412\n",
        "friday          0.013929\n",
        "funding         0.013536\n",
        "robert          0.012906\n",
        "monday          0.012674\n",
        "names           0.012472\n",
        "appointments    0.012410\n",
        "car             0.010790\n",
        "\n",
        "------------------------------\n",
        "Topic name: topic_11.  P[topic_11] = 0.0104\n",
        "states         0.144747\n",
        "united         0.106311\n",
        "security       0.073745\n",
        "peace          0.038347\n",
        "america        0.029289\n",
        "follow         0.028600\n",
        "war            0.028312\n",
        "damascus       0.027803\n",
        "lusaka         0.022670\n",
        "asec           0.022409\n",
        "rso            0.017278\n",
        "usint          0.016475\n",
        "americans      0.014734\n",
        "jordan         0.014515\n",
        "aper           0.011311\n",
        "following      0.010737\n",
        "maintenance    0.010664\n",
        "extend         0.009650\n",
        "category       0.009446\n",
        "nixon          0.009405\n",
        "\n",
        "------------------------------\n",
        "Topic name: topic_12.  P[topic_12] = 0.0096\n",
        "soviet       0.133910\n",
        "moscow       0.128717\n",
        "october      0.090400\n",
        "joint        0.052875\n",
        "ussr         0.044190\n",
        "soviets      0.042493\n",
        "ur           0.027686\n",
        "mfa          0.025786\n",
        "refs         0.023871\n",
        "prague       0.021268\n",
        "budapest     0.016767\n",
        "receiving    0.015135\n",
        "leningrad    0.013889\n",
        "salt         0.012342\n",
        "hungarian    0.009674\n",
        "exchanges    0.009207\n",
        "cia          0.008516\n",
        "exact        0.008404\n",
        "stoessel     0.008016\n",
        "pollution    0.007882\n",
        "\n",
        "------------------------------\n",
        "Topic name: topic_13.  P[topic_13] = 0.0132\n",
        "london        0.114568\n",
        "bonn          0.083748\n",
        "rome          0.074385\n",
        "uk            0.051367\n",
        "frg           0.050235\n",
        "berlin        0.035972\n",
        "usmission     0.031757\n",
        "british       0.029836\n",
        "european      0.027203\n",
        "brussels      0.025023\n",
        "customs       0.021062\n",
        "europe        0.020660\n",
        "german        0.020644\n",
        "federal       0.018578\n",
        "west          0.018557\n",
        "action        0.018411\n",
        "italian       0.017201\n",
        "luxembourg    0.013325\n",
        "germany       0.013171\n",
        "gdr           0.012565\n",
        "\n",
        "------------------------------\n",
        "Topic name: topic_14.  P[topic_14] = 0.0076\n",
        "during          0.202326\n",
        "return          0.078581\n",
        "team            0.059070\n",
        "later           0.053469\n",
        "developments    0.032216\n",
        "persons         0.029733\n",
        "unless          0.028127\n",
        "highly          0.021860\n",
        "pending         0.021618\n",
        "recent          0.021408\n",
        "story           0.021370\n",
        "absence         0.020532\n",
        "gos             0.019165\n",
        "extension       0.018508\n",
        "william         0.017523\n",
        "headquarters    0.015985\n",
        "contrary        0.015661\n",
        "ocean           0.014030\n",
        "governor        0.013748\n",
        "touch           0.013448\n",
        "\n",
        "------------------------------\n",
        "Topic name: topic_15.  P[topic_15] = 0.0072\n",
        "office           0.120981\n",
        "issued           0.042231\n",
        "authorized       0.039783\n",
        "dated            0.038325\n",
        "release          0.034197\n",
        "copies           0.032419\n",
        "family           0.029537\n",
        "completed        0.026935\n",
        "authorization    0.023846\n",
        "student          0.022545\n",
        "justice          0.022396\n",
        "faa              0.019928\n",
        "subject          0.018555\n",
        "forwarded        0.018437\n",
        "pan              0.017096\n",
        "marine           0.016678\n",
        "street           0.014960\n",
        "richard          0.014920\n",
        "inc              0.014761\n",
        "compensation     0.014375\n",
        "\n",
        "------------------------------\n",
        "Topic name: topic_16.  P[topic_16] = 0.0100\n",
        "program       0.146572\n",
        "received      0.105482\n",
        "june          0.100696\n",
        "letter        0.080490\n",
        "date          0.068220\n",
        "tehran        0.055245\n",
        "data          0.048092\n",
        "iran          0.033579\n",
        "copy          0.031418\n",
        "fyi           0.026025\n",
        "receive       0.023408\n",
        "shipment      0.018275\n",
        "effects       0.015742\n",
        "requesting    0.014700\n",
        "personal      0.013937\n",
        "iranian       0.013164\n",
        "sending       0.012192\n",
        "managua       0.012064\n",
        "ir            0.010110\n",
        "license       0.008792\n",
        "\n",
        "------------------------------\n",
        "Topic name: topic_17.  P[topic_17] = 0.0104\n",
        "possible       0.128490\n",
        "support        0.113129\n",
        "stated         0.058371\n",
        "indicated      0.055189\n",
        "prepared       0.049928\n",
        "concerning     0.042683\n",
        "ankara         0.038908\n",
        "training       0.038442\n",
        "suggested      0.029660\n",
        "consider       0.025003\n",
        "view           0.024017\n",
        "discuss        0.020478\n",
        "opportunity    0.018574\n",
        "indicate       0.017981\n",
        "establish      0.016217\n",
        "explained      0.015803\n",
        "strongly       0.014764\n",
        "intended       0.014570\n",
        "ministerial    0.014210\n",
        "fonoff         0.013847\n",
        "\n",
        "------------------------------\n",
        "Topic name: topic_18.  P[topic_18] = 0.0086\n",
        "above        0.083548\n",
        "week         0.075092\n",
        "change       0.048211\n",
        "soon         0.047868\n",
        "finance      0.037564\n",
        "included     0.033657\n",
        "efin         0.032784\n",
        "amount       0.032650\n",
        "next         0.031589\n",
        "dollars      0.030946\n",
        "value        0.026262\n",
        "materials    0.023901\n",
        "payments     0.023374\n",
        "eaid         0.019745\n",
        "fuel         0.018655\n",
        "package      0.017462\n",
        "reduced      0.017112\n",
        "latest       0.016355\n",
        "dollar       0.016009\n",
        "debt         0.015057\n",
        "\n",
        "------------------------------\n",
        "Topic name: topic_19.  P[topic_19] = 0.0094\n",
        "amconsul       0.212991\n",
        "bogota         0.030245\n",
        "action         0.029489\n",
        "co             0.027058\n",
        "islamabad      0.026713\n",
        "kuala          0.024658\n",
        "pay            0.023824\n",
        "canberra       0.022470\n",
        "pakistan       0.020582\n",
        "charges        0.020539\n",
        "ford           0.019284\n",
        "lumpur         0.018889\n",
        "reporting      0.018798\n",
        "poss           0.017782\n",
        "dupe           0.017782\n",
        "consulate      0.014578\n",
        "australian     0.013299\n",
        "baghdad        0.013254\n",
        "performance    0.013100\n",
        "orders         0.012989\n",
        "\n",
        "------------------------------\n",
        "Topic name: topic_2.  P[topic_2] = 0.0074\n",
        "request           0.217636\n",
        "status            0.075084\n",
        "re                0.070811\n",
        "cost              0.049692\n",
        "hours             0.043728\n",
        "communications    0.027625\n",
        "transportation    0.027404\n",
        "presentation      0.024548\n",
        "confirm           0.023735\n",
        "eta               0.022495\n",
        "complete          0.020961\n",
        "smith             0.020656\n",
        "fiscal            0.020267\n",
        "suggestions       0.019296\n",
        "procedure         0.019021\n",
        "answer            0.018864\n",
        "pl                0.018767\n",
        "processing        0.015257\n",
        "hour              0.013576\n",
        "usis              0.013216\n",
        "\n",
        "------------------------------\n",
        "Topic name: topic_20.  P[topic_20] = 0.0069\n",
        "appreciate         0.102019\n",
        "jul                0.097796\n",
        "sent               0.083009\n",
        "action             0.060884\n",
        "set                0.056070\n",
        "representatives    0.048220\n",
        "offer              0.046433\n",
        "airport            0.045830\n",
        "departure          0.037225\n",
        "dakar              0.026659\n",
        "housing            0.022274\n",
        "cultural           0.021593\n",
        "arrived            0.021246\n",
        "residence          0.020892\n",
        "numbers            0.019450\n",
        "iso                0.018567\n",
        "forth              0.017516\n",
        "istanbul           0.016791\n",
        "acceptance         0.016255\n",
        "spring             0.012367\n",
        "\n",
        "------------------------------\n",
        "Topic name: topic_21.  P[topic_21] = 0.0145\n",
        "secretary       0.123603\n",
        "issue           0.055072\n",
        "views           0.038719\n",
        "discussions     0.036078\n",
        "talks           0.031539\n",
        "issues          0.031251\n",
        "bilateral       0.026649\n",
        "rights          0.026587\n",
        "approach        0.025764\n",
        "state           0.022279\n",
        "agree           0.021334\n",
        "concern         0.021122\n",
        "formal          0.016804\n",
        "seek            0.016443\n",
        "reductions      0.015696\n",
        "discussion      0.015289\n",
        "tosec           0.014806\n",
        "treatment       0.014638\n",
        "arrangements    0.014142\n",
        "italy           0.013836\n",
        "\n",
        "------------------------------\n",
        "Topic name: topic_22.  P[topic_22] = 0.0131\n",
        "current           0.100428\n",
        "bangkok           0.048357\n",
        "saigon            0.034554\n",
        "handling          0.033349\n",
        "restrictions      0.032686\n",
        "classification    0.025921\n",
        "phnom             0.022994\n",
        "notal             0.021027\n",
        "cincpac           0.020483\n",
        "penh              0.017298\n",
        "single            0.014779\n",
        "thailand          0.014004\n",
        "thai              0.013914\n",
        "unesco            0.013882\n",
        "vietnam           0.013573\n",
        "pins              0.013512\n",
        "vientiane         0.012815\n",
        "bangko            0.012814\n",
        "laos              0.011206\n",
        "th                0.010767\n",
        "\n",
        "------------------------------\n",
        "Topic name: topic_23.  P[topic_23] = 0.0098\n",
        "equipment    0.067802\n",
        "requests     0.045026\n",
        "day          0.038244\n",
        "loan         0.033669\n",
        "credit       0.031304\n",
        "items        0.028839\n",
        "financing    0.028485\n",
        "cases        0.027013\n",
        "etc          0.025482\n",
        "operation    0.023800\n",
        "plant        0.023796\n",
        "purchase     0.020932\n",
        "steel        0.016691\n",
        "delivery     0.016316\n",
        "eximbank     0.016074\n",
        "following    0.014811\n",
        "used         0.012614\n",
        "insurance    0.012597\n",
        "parts        0.012347\n",
        "outlined     0.012317\n",
        "\n",
        "------------------------------\n",
        "Topic name: topic_24.  P[topic_24] = 0.0094\n",
        "mexico          0.075553\n",
        "negotiations    0.075162\n",
        "port            0.045768\n",
        "caracas         0.034366\n",
        "speech          0.030738\n",
        "spain           0.026571\n",
        "reasons         0.022011\n",
        "mexican         0.020872\n",
        "responsible     0.019425\n",
        "action          0.017769\n",
        "reach           0.017267\n",
        "obtained        0.016407\n",
        "cited           0.015894\n",
        "came            0.014202\n",
        "venezuela       0.014118\n",
        "prince          0.012669\n",
        "kingston        0.012593\n",
        "gob             0.012169\n",
        "george          0.012141\n",
        "candidate       0.011445\n",
        "\n",
        "------------------------------\n",
        "Topic name: topic_25.  P[topic_25] = 0.0280\n",
        "use                0.318009\n",
        "official           0.315514\n",
        "limited            0.295370\n",
        "state              0.033974\n",
        "subject            0.015852\n",
        "textile            0.002952\n",
        "nationalization    0.001693\n",
        "creating           0.001665\n",
        "esso               0.001647\n",
        "decontrol          0.000987\n",
        "pouching           0.000985\n",
        "ministry's         0.000802\n",
        "tourist            0.000802\n",
        "countervailing     0.000781\n",
        "tation             0.000778\n",
        "campbell           0.000753\n",
        "decon              0.000750\n",
        "deptoff            0.000531\n",
        "gm                 0.000518\n",
        "bags               0.000487\n",
        "\n",
        "------------------------------\n",
        "Topic name: topic_26.  P[topic_26] = 0.0092\n",
        "reftel          0.166167\n",
        "please          0.123775\n",
        "available       0.093049\n",
        "dept            0.086590\n",
        "advise          0.077530\n",
        "oil             0.067854\n",
        "facilities      0.034165\n",
        "subject         0.029724\n",
        "passed          0.029115\n",
        "check           0.019787\n",
        "medical         0.018223\n",
        "original        0.017824\n",
        "english         0.017460\n",
        "st              0.016577\n",
        "listed          0.016036\n",
        "action          0.015931\n",
        "facility        0.010872\n",
        "availability    0.010358\n",
        "addressee       0.010023\n",
        "map             0.007968\n",
        "\n",
        "------------------------------\n",
        "Topic name: topic_27.  P[topic_27] = 0.0139\n",
        "confidential    0.448789\n",
        "gds             0.104591\n",
        "state           0.059762\n",
        "pfor            0.050723\n",
        "subject         0.038486\n",
        "told            0.037360\n",
        "conversation    0.018170\n",
        "fonmin          0.016110\n",
        "position        0.012052\n",
        "comment         0.011132\n",
        "presently       0.010822\n",
        "talk            0.009872\n",
        "limdis          0.009836\n",
        "reported        0.008815\n",
        "friendly        0.008690\n",
        "expressed       0.008155\n",
        "asked           0.006499\n",
        "dia             0.006201\n",
        "go              0.005400\n",
        "gon             0.004985\n",
        "\n",
        "------------------------------\n",
        "Topic name: topic_28.  P[topic_28] = 0.0085\n",
        "priority       0.283471\n",
        "requested      0.124085\n",
        "washington     0.122611\n",
        "york           0.056977\n",
        "arrival        0.051550\n",
        "assist         0.020458\n",
        "room           0.020040\n",
        "route          0.015139\n",
        "appreciated    0.013089\n",
        "bamako         0.012746\n",
        "saturday       0.012657\n",
        "santo          0.011928\n",
        "mt             0.010535\n",
        "usaid          0.010288\n",
        "au             0.009824\n",
        "afb            0.009701\n",
        "airline        0.009283\n",
        "desires        0.009131\n",
        "domingo        0.009045\n",
        "libreville     0.008801\n",
        "\n",
        "------------------------------\n",
        "Topic name: topic_29.  P[topic_29] = 0.0101\n",
        "nato          0.129940\n",
        "french        0.073277\n",
        "lisbon        0.048072\n",
        "paper         0.037140\n",
        "hague         0.032494\n",
        "france        0.031776\n",
        "usmission     0.024160\n",
        "usnato        0.022099\n",
        "brussels      0.018273\n",
        "portuguese    0.016565\n",
        "portugal      0.016084\n",
        "action        0.015346\n",
        "belgian       0.014315\n",
        "spokesman     0.013163\n",
        "dutch         0.011594\n",
        "po            0.010872\n",
        "fr            0.010710\n",
        "belgium       0.009765\n",
        "usnmr         0.009259\n",
        "study         0.009233\n",
        "\n",
        "------------------------------\n",
        "Topic name: topic_3.  P[topic_3] = 0.0061\n",
        "member        0.083108\n",
        "lima          0.057635\n",
        "addis         0.039554\n",
        "find          0.038151\n",
        "goj           0.034694\n",
        "action        0.026451\n",
        "ababa         0.025662\n",
        "intention     0.025414\n",
        "wellington    0.022191\n",
        "tour          0.021949\n",
        "feels         0.017745\n",
        "improve       0.016744\n",
        "econ          0.016691\n",
        "peru          0.016425\n",
        "oau           0.016419\n",
        "mogadiscio    0.014221\n",
        "fisheries     0.013954\n",
        "laws          0.012516\n",
        "somalia       0.012413\n",
        "somali        0.012232\n",
        "\n",
        "------------------------------\n",
        "Topic name: topic_30.  P[topic_30] = 0.0154\n",
        "percent       0.063435\n",
        "year          0.058215\n",
        "years         0.034526\n",
        "period        0.033524\n",
        "investment    0.025702\n",
        "projects      0.025190\n",
        "labor         0.021142\n",
        "social        0.020382\n",
        "over          0.018475\n",
        "form          0.018169\n",
        "capital       0.016214\n",
        "management    0.015374\n",
        "economy       0.013535\n",
        "currently     0.012452\n",
        "billion       0.012028\n",
        "figures       0.011256\n",
        "returned      0.010927\n",
        "estimate      0.010593\n",
        "sector        0.010476\n",
        "workers       0.010331\n",
        "\n",
        "------------------------------\n",
        "Topic name: topic_31.  P[topic_31] = 0.0077\n",
        "feb            0.095265\n",
        "aircraft       0.059073\n",
        "jakarta        0.046201\n",
        "singapore      0.041629\n",
        "signed         0.039314\n",
        "application    0.034748\n",
        "name           0.030485\n",
        "canadian       0.030133\n",
        "sale           0.022672\n",
        "submit         0.020742\n",
        "bill           0.019637\n",
        "negative       0.017378\n",
        "units          0.017306\n",
        "written        0.016010\n",
        "airlines       0.015837\n",
        "corporation    0.015385\n",
        "indonesian     0.014717\n",
        "eair           0.014402\n",
        "authority      0.013666\n",
        "action         0.012832\n",
        "\n",
        "------------------------------\n",
        "Topic name: topic_32.  P[topic_32] = 0.0162\n",
        "american      0.073070\n",
        "policy        0.060336\n",
        "relations     0.053817\n",
        "long          0.032242\n",
        "arab          0.026713\n",
        "union         0.024798\n",
        "belgrade      0.021947\n",
        "third         0.021676\n",
        "world         0.015092\n",
        "presence      0.013990\n",
        "middle        0.012651\n",
        "arms          0.012258\n",
        "communique    0.011502\n",
        "troops        0.010445\n",
        "toward        0.010109\n",
        "west          0.009345\n",
        "claim         0.008517\n",
        "recent        0.007937\n",
        "successful    0.007880\n",
        "giving        0.007772\n",
        "\n",
        "------------------------------\n",
        "Topic name: topic_33.  P[topic_33] = 0.0074\n",
        "director        0.118219\n",
        "working         0.085338\n",
        "approval        0.049231\n",
        "mentioned       0.047375\n",
        "officers        0.042412\n",
        "directly        0.037337\n",
        "reason          0.035170\n",
        "reportedly      0.035061\n",
        "csce            0.030866\n",
        "guatemala       0.024292\n",
        "independence    0.023361\n",
        "association     0.022482\n",
        "consular        0.022428\n",
        "never           0.017860\n",
        "independent     0.016512\n",
        "abroad          0.016093\n",
        "nine            0.015252\n",
        "protocol        0.015047\n",
        "department's    0.014974\n",
        "changed         0.014867\n",
        "\n",
        "------------------------------\n",
        "Topic name: topic_34.  P[topic_34] = 0.0063\n",
        "july          0.149958\n",
        "final         0.082207\n",
        "jun           0.066080\n",
        "regional      0.047450\n",
        "executive     0.045945\n",
        "dar           0.035133\n",
        "es            0.034928\n",
        "salaam        0.026435\n",
        "action        0.024959\n",
        "cuba          0.024954\n",
        "sufficient    0.022760\n",
        "begin         0.021560\n",
        "series        0.021162\n",
        "sisco         0.020817\n",
        "expects       0.017760\n",
        "target        0.016928\n",
        "physical      0.015373\n",
        "signing       0.015278\n",
        "quality       0.014905\n",
        "larger        0.014217\n",
        "\n",
        "------------------------------\n",
        "Topic name: topic_35.  P[topic_35] = 0.0159\n",
        "price          0.029483\n",
        "due            0.027574\n",
        "market         0.027437\n",
        "export         0.025121\n",
        "industry       0.024227\n",
        "production     0.023892\n",
        "prices         0.019655\n",
        "supply         0.019404\n",
        "products       0.017909\n",
        "tons           0.017175\n",
        "exports        0.016486\n",
        "import         0.015630\n",
        "food           0.015430\n",
        "imports        0.015367\n",
        "agriculture    0.012911\n",
        "capacity       0.012002\n",
        "domestic       0.011257\n",
        "heavy          0.010834\n",
        "increased      0.010677\n",
        "wheat          0.009461\n",
        "\n",
        "------------------------------\n",
        "Topic name: topic_36.  P[topic_36] = 0.0168\n",
        "geneva           0.088128\n",
        "group            0.079727\n",
        "proposal         0.046703\n",
        "draft            0.044744\n",
        "rep              0.039298\n",
        "usmission        0.030545\n",
        "chairman         0.026870\n",
        "consultations    0.022106\n",
        "del              0.022090\n",
        "agreed           0.019689\n",
        "secretariat      0.017846\n",
        "paragraph        0.016434\n",
        "reps             0.016356\n",
        "mbfr             0.015444\n",
        "text             0.015426\n",
        "meetings         0.015070\n",
        "usdel            0.013707\n",
        "submitted        0.013343\n",
        "declaration      0.012352\n",
        "read             0.011000\n",
        "\n",
        "------------------------------\n",
        "Topic name: topic_37.  P[topic_37] = 0.0119\n",
        "ref           0.460727\n",
        "action        0.121530\n",
        "subject       0.083386\n",
        "panama        0.031435\n",
        "confirmed     0.025510\n",
        "quito         0.023219\n",
        "health        0.018012\n",
        "pouched       0.015953\n",
        "transport     0.013416\n",
        "capability    0.009280\n",
        "contained     0.008757\n",
        "shipping      0.008259\n",
        "montevideo    0.007962\n",
        "airgram       0.007360\n",
        "ecuador       0.006838\n",
        "departed      0.006803\n",
        "mass          0.006673\n",
        "mining        0.006334\n",
        "guayaquil     0.006205\n",
        "paragraphs    0.004941\n",
        "\n",
        "------------------------------\n",
        "Topic name: topic_38.  P[topic_38] = 0.0068\n",
        "ambassador     0.196985\n",
        "usg            0.120766\n",
        "firm           0.072842\n",
        "scheduled      0.069258\n",
        "companies      0.047734\n",
        "subject        0.032782\n",
        "opic           0.031873\n",
        "embassy's      0.021114\n",
        "goa            0.020079\n",
        "ogen           0.017220\n",
        "honolulu       0.016381\n",
        "inspection     0.013779\n",
        "martin         0.013760\n",
        "ara            0.013716\n",
        "action         0.011758\n",
        "gaborone       0.010364\n",
        "replacement    0.010342\n",
        "einv           0.010183\n",
        "inquiries      0.009561\n",
        "extradition    0.009416\n",
        "\n",
        "------------------------------\n",
        "Topic name: topic_39.  P[topic_39] = 0.0070\n",
        "officials    0.139103\n",
        "plans        0.088985\n",
        "lagos        0.062619\n",
        "address      0.043196\n",
        "sales        0.036793\n",
        "algiers      0.032881\n",
        "transfer     0.030566\n",
        "bern         0.028114\n",
        "rabat        0.027424\n",
        "claims       0.026609\n",
        "petroleum    0.022911\n",
        "action       0.021129\n",
        "pouch        0.020822\n",
        "etrn         0.014153\n",
        "arr          0.013226\n",
        "uranium      0.012037\n",
        "ag           0.011968\n",
        "asst         0.011895\n",
        "nigeria      0.011195\n",
        "yaounde      0.010614\n",
        "\n",
        "------------------------------\n",
        "Topic name: topic_4.  P[topic_4] = 0.0111\n",
        "text           0.161533\n",
        "number         0.147434\n",
        "segment        0.124653\n",
        "mrn            0.109525\n",
        "telegram       0.090688\n",
        "error          0.079720\n",
        "unavailable    0.078919\n",
        "expand         0.052222\n",
        "encountered    0.049723\n",
        "file           0.036709\n",
        "reading        0.035264\n",
        "index          0.032323\n",
        "assador        0.000003\n",
        "gcallaway      0.000003\n",
        "aas            0.000002\n",
        "jlowenstein    0.000002\n",
        "prevalence     0.000002\n",
        "chalk          0.000002\n",
        "stanki         0.000002\n",
        "leniz          0.000002\n",
        "\n",
        "------------------------------\n",
        "Topic name: topic_40.  P[topic_40] = 0.0199\n",
        "military          0.052509\n",
        "air               0.046008\n",
        "against           0.043355\n",
        "control           0.027004\n",
        "defense           0.026264\n",
        "police            0.021941\n",
        "forces            0.020745\n",
        "posts             0.014259\n",
        "pint              0.013248\n",
        "narcotics         0.012839\n",
        "civil             0.012274\n",
        "day               0.011365\n",
        "army              0.010830\n",
        "sadat             0.010363\n",
        "gom               0.009659\n",
        "campaign          0.009591\n",
        "administrative    0.009032\n",
        "court             0.008581\n",
        "region            0.008472\n",
        "one               0.007734\n",
        "\n",
        "------------------------------\n",
        "Topic name: topic_41.  P[topic_41] = 0.0135\n",
        "international    0.097502\n",
        "economic         0.095710\n",
        "tokyo            0.085339\n",
        "article          0.054493\n",
        "development      0.050699\n",
        "cooperation      0.045047\n",
        "world            0.034390\n",
        "japan            0.028233\n",
        "organization     0.026098\n",
        "resources        0.021532\n",
        "nations          0.020763\n",
        "technology       0.018365\n",
        "qte              0.016823\n",
        "developing       0.016378\n",
        "organizations    0.015351\n",
        "human            0.014751\n",
        "ja               0.012802\n",
        "scientific       0.011955\n",
        "crisis           0.011448\n",
        "australia        0.010954\n",
        "\n",
        "------------------------------\n",
        "Topic name: topic_42.  P[topic_42] = 0.0094\n",
        "august         0.075232\n",
        "december       0.063499\n",
        "athens         0.051385\n",
        "pm             0.028264\n",
        "participate    0.028006\n",
        "cyprus         0.027915\n",
        "turkish        0.026363\n",
        "permit         0.023366\n",
        "proceed        0.022490\n",
        "documents      0.022114\n",
        "nicosia        0.022065\n",
        "notes          0.021991\n",
        "space          0.021672\n",
        "greek          0.019355\n",
        "turkey         0.019125\n",
        "recommend      0.017055\n",
        "exercise       0.015188\n",
        "greece         0.014919\n",
        "eur            0.014189\n",
        "flights        0.013559\n",
        "\n",
        "------------------------------\n",
        "Topic name: topic_43.  P[topic_43] = 0.0075\n",
        "informed      0.095492\n",
        "upon          0.072468\n",
        "each          0.067442\n",
        "power         0.059715\n",
        "city          0.047906\n",
        "goi           0.047266\n",
        "suggest       0.043929\n",
        "times         0.031921\n",
        "known         0.031015\n",
        "though        0.028706\n",
        "delay         0.027614\n",
        "following     0.022022\n",
        "assured       0.018103\n",
        "task          0.017255\n",
        "wife          0.017093\n",
        "man           0.016499\n",
        "person        0.014428\n",
        "tv            0.013534\n",
        "minutes       0.012387\n",
        "permission    0.011933\n",
        "\n",
        "------------------------------\n",
        "Topic name: topic_44.  P[topic_44] = 0.0114\n",
        "meeting        0.241650\n",
        "ec             0.091747\n",
        "commission     0.053613\n",
        "discussed      0.039778\n",
        "brussels       0.037813\n",
        "discussion     0.035007\n",
        "secretary's    0.028455\n",
        "useful         0.022715\n",
        "beginning      0.020333\n",
        "experts        0.018813\n",
        "session        0.018035\n",
        "matters        0.017772\n",
        "next           0.017354\n",
        "discuss        0.016868\n",
        "agenda         0.015051\n",
        "septel         0.014407\n",
        "plenary        0.013609\n",
        "code           0.012284\n",
        "preparation    0.011217\n",
        "propose        0.010928\n",
        "\n",
        "------------------------------\n",
        "Topic name: topic_45.  P[topic_45] = 0.0368\n",
        "now           0.041887\n",
        "more          0.037473\n",
        "up            0.031427\n",
        "situation     0.024691\n",
        "out           0.022866\n",
        "see           0.019233\n",
        "still         0.019033\n",
        "already       0.015083\n",
        "much          0.014786\n",
        "people        0.013896\n",
        "past          0.012446\n",
        "many          0.011805\n",
        "interested    0.011576\n",
        "come          0.011494\n",
        "best          0.011389\n",
        "areas         0.010771\n",
        "western       0.009820\n",
        "recent        0.009357\n",
        "move          0.009319\n",
        "down          0.008768\n",
        "\n",
        "------------------------------\n",
        "Topic name: topic_46.  P[topic_46] = 0.0177\n",
        "usun             0.079547\n",
        "conference       0.067353\n",
        "committee        0.060672\n",
        "un               0.055635\n",
        "usmission        0.034911\n",
        "aid              0.032528\n",
        "resolution       0.032295\n",
        "nuclear          0.025314\n",
        "item             0.022410\n",
        "york             0.022364\n",
        "session          0.021326\n",
        "general          0.020439\n",
        "vote             0.018658\n",
        "iaea             0.018612\n",
        "assembly         0.018038\n",
        "unga             0.017141\n",
        "amb              0.014387\n",
        "ny               0.011523\n",
        "nations          0.011160\n",
        "establishment    0.010230\n",
        "\n",
        "------------------------------\n",
        "Topic name: topic_47.  P[topic_47] = 0.0102\n",
        "president         0.147473\n",
        "following         0.093052\n",
        "pass              0.075378\n",
        "quote             0.067575\n",
        "hotel             0.060824\n",
        "unquote           0.038269\n",
        "repeat            0.033350\n",
        "representative    0.032639\n",
        "vice              0.029562\n",
        "attend            0.027383\n",
        "invitation        0.023370\n",
        "meetings          0.022511\n",
        "dinner            0.016084\n",
        "reception         0.015686\n",
        "pleased           0.014993\n",
        "stop              0.014471\n",
        "president's       0.014330\n",
        "aviation          0.013713\n",
        "invited           0.013295\n",
        "clearance         0.013207\n",
        "\n",
        "------------------------------\n",
        "Topic name: topic_48.  P[topic_48] = 0.0123\n",
        "cairo          0.074615\n",
        "beirut         0.055676\n",
        "personnel      0.040248\n",
        "kuwait         0.033215\n",
        "jidda          0.032653\n",
        "amman          0.020789\n",
        "abu            0.018985\n",
        "saudi          0.018359\n",
        "king           0.018271\n",
        "le             0.016189\n",
        "plo            0.016177\n",
        "lebanon        0.014515\n",
        "dhabi          0.013177\n",
        "khartoum       0.012934\n",
        "syrian         0.012636\n",
        "lebanese       0.012104\n",
        "syria          0.011631\n",
        "action         0.011105\n",
        "palestinian    0.010915\n",
        "al             0.010835\n",
        "\n",
        "------------------------------\n",
        "Topic name: topic_49.  P[topic_49] = 0.0094\n",
        "mission      0.101260\n",
        "dec          0.080881\n",
        "officer      0.067007\n",
        "mrs          0.062149\n",
        "staff        0.056448\n",
        "san          0.048024\n",
        "na           0.046765\n",
        "chief        0.046202\n",
        "john         0.028783\n",
        "jose         0.022357\n",
        "action       0.018875\n",
        "bureau       0.018494\n",
        "counselor    0.016261\n",
        "james        0.015679\n",
        "dcm          0.014945\n",
        "costa        0.014735\n",
        "attache      0.013284\n",
        "guard        0.012939\n",
        "salvador     0.012473\n",
        "coast        0.012370\n",
        "\n",
        "------------------------------\n",
        "Topic name: topic_5.  P[topic_5] = 0.0071\n",
        "nov             0.164297\n",
        "november        0.112964\n",
        "seoul           0.052796\n",
        "north           0.050957\n",
        "distribution    0.043517\n",
        "desired         0.041911\n",
        "material        0.037432\n",
        "korea           0.034827\n",
        "keep            0.033113\n",
        "internal        0.030276\n",
        "korean          0.028883\n",
        "access          0.024460\n",
        "rok             0.021395\n",
        "protection      0.020777\n",
        "failure         0.019322\n",
        "film            0.014191\n",
        "observer        0.012515\n",
        "ks              0.012328\n",
        "tried           0.012012\n",
        "examination     0.009324\n",
        "\n",
        "------------------------------\n",
        "Topic name: topic_50.  P[topic_50] = 0.0086\n",
        "paris          0.230001\n",
        "oecd           0.082879\n",
        "mar            0.069870\n",
        "japanese       0.049851\n",
        "usmission      0.035014\n",
        "copenhagen     0.032295\n",
        "action         0.029605\n",
        "payment        0.026498\n",
        "subject        0.026243\n",
        "dc             0.019511\n",
        "cocom          0.015456\n",
        "regular        0.015367\n",
        "hungary        0.013137\n",
        "direction      0.012739\n",
        "ge             0.011923\n",
        "test           0.010981\n",
        "operational    0.010875\n",
        "afin           0.010812\n",
        "wash           0.010683\n",
        "danish         0.010301\n",
        "\n",
        "------------------------------\n",
        "Topic name: topic_51.  P[topic_51] = 0.0104\n",
        "new           0.326687\n",
        "called        0.045390\n",
        "delhi         0.042272\n",
        "ottawa        0.040738\n",
        "india         0.026300\n",
        "egyptian      0.025958\n",
        "indian        0.023404\n",
        "tripoli       0.017129\n",
        "dacca         0.015475\n",
        "behalf        0.012893\n",
        "action        0.011698\n",
        "colombo       0.011362\n",
        "bangladesh    0.010831\n",
        "yesterday     0.010750\n",
        "provides      0.010442\n",
        "intends       0.009864\n",
        "kathmandu     0.009316\n",
        "jute          0.009274\n",
        "moderate      0.009159\n",
        "considers     0.009033\n",
        "\n",
        "------------------------------\n",
        "Topic name: topic_52.  P[topic_52] = 0.0105\n",
        "embassy          0.315328\n",
        "travel           0.075070\n",
        "post             0.074426\n",
        "warsaw           0.047100\n",
        "via              0.041507\n",
        "charge           0.036890\n",
        "per              0.034049\n",
        "fy               0.024572\n",
        "advised          0.020704\n",
        "dea              0.018096\n",
        "arriving         0.017020\n",
        "polish           0.015466\n",
        "subject          0.010838\n",
        "confirmation     0.010799\n",
        "contacted        0.010567\n",
        "expenses         0.010564\n",
        "designated       0.009024\n",
        "poland           0.008583\n",
        "appropriation    0.007661\n",
        "assuming         0.007286\n",
        "\n",
        "------------------------------\n",
        "Topic name: topic_53.  P[topic_53] = 0.0074\n",
        "local            0.106660\n",
        "meet             0.084577\n",
        "time             0.073629\n",
        "arrive           0.056837\n",
        "center           0.051290\n",
        "flight           0.047858\n",
        "participation    0.047617\n",
        "costs            0.043306\n",
        "depart           0.036832\n",
        "los              0.036271\n",
        "source           0.035482\n",
        "individual       0.019915\n",
        "represented      0.018520\n",
        "night            0.018291\n",
        "cut              0.013485\n",
        "met              0.012881\n",
        "recommends       0.012861\n",
        "floor            0.010828\n",
        "miles            0.010158\n",
        "expense          0.009654\n",
        "\n",
        "------------------------------\n",
        "Topic name: topic_54.  P[topic_54] = 0.0180\n",
        "press         0.076749\n",
        "first         0.067019\n",
        "summary       0.059257\n",
        "end           0.044646\n",
        "same          0.041486\n",
        "order         0.040240\n",
        "comment       0.039320\n",
        "public        0.037610\n",
        "place         0.028753\n",
        "direct        0.020095\n",
        "line          0.018605\n",
        "tion          0.018267\n",
        "especially    0.015805\n",
        "basic         0.013616\n",
        "attempt       0.013029\n",
        "convention    0.012962\n",
        "phase         0.012651\n",
        "kinshasa      0.011950\n",
        "opposition    0.011924\n",
        "outside       0.011579\n",
        "\n",
        "------------------------------\n",
        "Topic name: topic_55.  P[topic_55] = 0.0131\n",
        "information    0.094790\n",
        "interest       0.057760\n",
        "work           0.056195\n",
        "need           0.053262\n",
        "provided       0.043324\n",
        "including      0.043227\n",
        "necessary      0.042837\n",
        "early          0.038941\n",
        "planning       0.033446\n",
        "specific       0.031474\n",
        "include        0.030217\n",
        "measures       0.029831\n",
        "list           0.029688\n",
        "prior          0.028341\n",
        "programs       0.027528\n",
        "changes        0.026312\n",
        "obtain         0.020636\n",
        "needed         0.019308\n",
        "light          0.018699\n",
        "detailed       0.014575\n",
        "\n",
        "------------------------------\n",
        "Topic name: topic_56.  P[topic_56] = 0.0074\n",
        "sep              0.115209\n",
        "september        0.112723\n",
        "delegation       0.087282\n",
        "codel            0.043115\n",
        "reservations     0.035350\n",
        "assume           0.029267\n",
        "approximately    0.029240\n",
        "briefing         0.028000\n",
        "contacts         0.027161\n",
        "ten              0.023711\n",
        "calls            0.021112\n",
        "otherwise        0.017256\n",
        "hospital         0.016772\n",
        "suggests         0.016668\n",
        "indicates        0.016187\n",
        "orep             0.015477\n",
        "road             0.015386\n",
        "correct          0.014636\n",
        "accompanied      0.014375\n",
        "satisfactory     0.013499\n",
        "\n",
        "------------------------------\n",
        "Topic name: topic_57.  P[topic_57] = 0.0094\n",
        "visit           0.225449\n",
        "april           0.102406\n",
        "days            0.055297\n",
        "call            0.049942\n",
        "reference       0.048661\n",
        "trip            0.043362\n",
        "advance         0.026520\n",
        "home            0.023451\n",
        "visits          0.020516\n",
        "brief           0.019700\n",
        "dates           0.019285\n",
        "consultation    0.018447\n",
        "itinerary       0.018291\n",
        "articles        0.016834\n",
        "welcome         0.016341\n",
        "coverage        0.015921\n",
        "suggestion      0.015422\n",
        "visited         0.014764\n",
        "few             0.012749\n",
        "discuss         0.012339\n",
        "\n",
        "------------------------------\n",
        "Topic name: topic_58.  P[topic_58] = 0.0085\n",
        "manila         0.075705\n",
        "service        0.054325\n",
        "five           0.043630\n",
        "grant          0.034480\n",
        "four           0.031682\n",
        "asap           0.027965\n",
        "visa           0.027579\n",
        "wishes         0.027285\n",
        "iv             0.024919\n",
        "funds          0.024751\n",
        "casc           0.022184\n",
        "radio          0.019856\n",
        "death          0.015747\n",
        "knowledge      0.014350\n",
        "station        0.013959\n",
        "philippines    0.013729\n",
        "citizens       0.013257\n",
        "marcos         0.012642\n",
        "life           0.012399\n",
        "sullivan       0.011878\n",
        "\n",
        "------------------------------\n",
        "Topic name: topic_59.  P[topic_59] = 0.0416\n",
        "unclassified    0.269169\n",
        "state           0.175736\n",
        "unclas          0.093977\n",
        "approved        0.058710\n",
        "subject         0.052029\n",
        "origin          0.051468\n",
        "drafted         0.051026\n",
        "kissinger       0.023607\n",
        "ingersoll       0.009286\n",
        "oexc            0.009017\n",
        "phone           0.007090\n",
        "rush            0.006641\n",
        "subs            0.004721\n",
        "jr              0.004016\n",
        "seminar         0.004012\n",
        "accra           0.003436\n",
        "otra            0.003054\n",
        "ext             0.002780\n",
        "pa              0.002707\n",
        "rogers          0.002440\n",
        "\n",
        "------------------------------\n",
        "Topic name: topic_6.  P[topic_6] = 0.0080\n",
        "department       0.192616\n",
        "oct              0.140592\n",
        "details          0.038744\n",
        "immediately      0.035797\n",
        "open             0.032350\n",
        "visas            0.028115\n",
        "action           0.026564\n",
        "students         0.025221\n",
        "news             0.025122\n",
        "arrange          0.021537\n",
        "abidjan          0.020793\n",
        "word             0.016078\n",
        "offices          0.015734\n",
        "investigation    0.013272\n",
        "ca               0.011975\n",
        "cvis             0.011876\n",
        "monrovia         0.011832\n",
        "subject          0.011205\n",
        "overseas         0.010896\n",
        "plants           0.010535\n",
        "\n",
        "------------------------------\n",
        "Topic name: topic_60.  P[topic_60] = 0.0072\n",
        "de           0.152711\n",
        "message      0.076891\n",
        "la           0.072007\n",
        "inform       0.052107\n",
        "brasilia     0.039765\n",
        "rio          0.029696\n",
        "brazil       0.023028\n",
        "delivered    0.022861\n",
        "sa           0.021471\n",
        "en           0.020179\n",
        "et           0.018511\n",
        "miss         0.017158\n",
        "janeiro      0.015460\n",
        "se           0.014076\n",
        "que          0.012702\n",
        "son          0.012474\n",
        "deliver      0.011355\n",
        "convey       0.010677\n",
        "brasil       0.008410\n",
        "con          0.007498\n",
        "\n",
        "------------------------------\n",
        "Topic name: topic_61.  P[topic_61] = 0.0057\n",
        "total           0.100835\n",
        "board           0.065683\n",
        "dols            0.056976\n",
        "frankfurt       0.051044\n",
        "fund            0.041182\n",
        "pretoria        0.040463\n",
        "robinson        0.038167\n",
        "&amp            0.037419\n",
        "cover           0.032004\n",
        "town            0.027532\n",
        "cape            0.026015\n",
        "directors       0.019267\n",
        "sag             0.018850\n",
        "reservation     0.015711\n",
        "tdy             0.015605\n",
        "action          0.015369\n",
        "johannesburg    0.015236\n",
        "agrees          0.014929\n",
        "obligation      0.014908\n",
        "vehicles        0.014729\n",
        "\n",
        "------------------------------\n",
        "Topic name: topic_62.  P[topic_62] = 0.0087\n",
        "assistance      0.103388\n",
        "project         0.099059\n",
        "special         0.080622\n",
        "appropriate     0.061918\n",
        "technical       0.052380\n",
        "contact         0.050850\n",
        "review          0.047846\n",
        "buenos          0.045118\n",
        "assistant       0.039754\n",
        "aires           0.034053\n",
        "agencies        0.025830\n",
        "latin           0.023935\n",
        "soonest         0.023097\n",
        "receipt         0.021893\n",
        "arranged        0.015896\n",
        "undp            0.015625\n",
        "ar              0.014676\n",
        "argentina       0.012869\n",
        "engineering     0.010958\n",
        "institutions    0.010809\n",
        "\n",
        "------------------------------\n",
        "Topic name: topic_63.  P[topic_63] = 0.0303\n",
        "such           0.059793\n",
        "between        0.043907\n",
        "countries      0.040014\n",
        "section        0.024170\n",
        "basis          0.021829\n",
        "without        0.021819\n",
        "country        0.018714\n",
        "full           0.016949\n",
        "second         0.016321\n",
        "shall          0.015882\n",
        "regarding      0.015146\n",
        "terms          0.014487\n",
        "accept         0.013341\n",
        "within         0.012602\n",
        "considered     0.011320\n",
        "progress       0.010485\n",
        "respect        0.010446\n",
        "fully          0.010069\n",
        "governments    0.009375\n",
        "important      0.009221\n",
        "\n",
        "------------------------------\n",
        "Topic name: topic_64.  P[topic_64] = 0.0088\n",
        "report       0.145758\n",
        "east         0.067037\n",
        "reported     0.061586\n",
        "usia         0.043690\n",
        "side         0.042081\n",
        "ii           0.038164\n",
        "bucharest    0.033851\n",
        "along        0.033051\n",
        "leave        0.031113\n",
        "lines        0.023349\n",
        "education    0.022723\n",
        "eastern      0.022388\n",
        "sofia        0.019070\n",
        "media        0.017668\n",
        "interview    0.016781\n",
        "iii          0.016538\n",
        "incident     0.016461\n",
        "safety       0.016402\n",
        "socialist    0.016161\n",
        "action       0.015482\n",
        "\n",
        "------------------------------\n",
        "Topic name: topic_65.  P[topic_65] = 0.0135\n",
        "government     0.138534\n",
        "minister       0.122670\n",
        "national       0.083565\n",
        "south          0.051460\n",
        "prime          0.035745\n",
        "deputy         0.034814\n",
        "africa         0.027752\n",
        "african        0.026684\n",
        "central        0.024350\n",
        "community      0.020654\n",
        "ministers      0.020471\n",
        "former         0.019767\n",
        "announced      0.019200\n",
        "cabinet        0.016380\n",
        "paz            0.012087\n",
        "angola         0.011100\n",
        "led            0.010087\n",
        "country        0.009815\n",
        "claimed        0.009480\n",
        "individuals    0.008735\n",
        "\n",
        "------------------------------\n",
        "Topic name: topic_66.  P[topic_66] = 0.0068\n",
        "being           0.177799\n",
        "march           0.118153\n",
        "follows         0.069131\n",
        "six             0.042897\n",
        "previous        0.042362\n",
        "needs           0.042112\n",
        "unable          0.039107\n",
        "purposes        0.030636\n",
        "longer          0.027681\n",
        "experience      0.023838\n",
        "ship            0.022451\n",
        "seven           0.022279\n",
        "old             0.019868\n",
        "black           0.019435\n",
        "operating       0.019045\n",
        "scul            0.018426\n",
        "requirement     0.016759\n",
        "applications    0.014541\n",
        "notification    0.013946\n",
        "kept            0.013934\n",
        "\n",
        "------------------------------\n",
        "Topic name: topic_67.  P[topic_67] = 0.0121\n",
        "trade          0.091386\n",
        "apr            0.056036\n",
        "commercial     0.034805\n",
        "usdoc          0.034005\n",
        "reply          0.032620\n",
        "commerce       0.031380\n",
        "cable          0.030909\n",
        "business       0.029633\n",
        "bexp           0.026285\n",
        "firms          0.025816\n",
        "egypt          0.022576\n",
        "etrd           0.021716\n",
        "tunis          0.019593\n",
        "goe            0.016905\n",
        "fair           0.014340\n",
        "type           0.013588\n",
        "manager        0.013314\n",
        "goods          0.011759\n",
        "eg             0.010901\n",
        "opportunity    0.010850\n",
        "\n",
        "------------------------------\n",
        "Topic name: topic_68.  P[topic_68] = 0.0087\n",
        "hong           0.063298\n",
        "kong           0.054603\n",
        "peking         0.041010\n",
        "chinese        0.029759\n",
        "appear         0.029101\n",
        "taipei         0.028758\n",
        "prc            0.025814\n",
        "china          0.025441\n",
        "refugees       0.023897\n",
        "zone           0.022355\n",
        "spanish        0.020448\n",
        "regulations    0.017981\n",
        "uslo           0.016364\n",
        "congen         0.015834\n",
        "amconsul       0.015347\n",
        "fishing        0.015013\n",
        "vietnamese     0.013806\n",
        "sref           0.012791\n",
        "refugee        0.012757\n",
        "vessels        0.010551\n",
        "\n",
        "------------------------------\n",
        "Topic name: topic_69.  P[topic_69] = 0.0063\n",
        "january      0.100062\n",
        "tel          0.087338\n",
        "israel       0.064506\n",
        "aviv         0.052769\n",
        "israeli      0.046652\n",
        "field        0.044371\n",
        "telephone    0.036453\n",
        "jerusalem    0.029798\n",
        "front        0.026863\n",
        "action       0.022324\n",
        "site         0.021983\n",
        "survey       0.020638\n",
        "southern     0.020440\n",
        "closed       0.017328\n",
        "av           0.015061\n",
        "title        0.014690\n",
        "israelis     0.014168\n",
        "xf           0.012038\n",
        "occupied     0.011846\n",
        "noon         0.011020\n",
        "\n",
        "------------------------------\n",
        "Topic name: topic_7.  P[topic_7] = 0.0092\n",
        "immediate       0.245010\n",
        "proposed        0.094711\n",
        "vienna          0.079763\n",
        "kissinger       0.057101\n",
        "state           0.035599\n",
        "morning         0.034055\n",
        "ovip            0.032876\n",
        "treasury        0.032566\n",
        "subject         0.026447\n",
        "ocon            0.023807\n",
        "afternoon       0.023130\n",
        "niact           0.022891\n",
        "henry           0.021577\n",
        "usdel           0.020421\n",
        "substance       0.018265\n",
        "notice          0.012602\n",
        "interim         0.009365\n",
        "constitution    0.009310\n",
        "opening         0.008642\n",
        "secto           0.007675\n",
        "\n",
        "------------------------------\n",
        "Topic name: topic_70.  P[topic_70] = 0.0182\n",
        "under            0.079861\n",
        "position         0.056035\n",
        "present          0.053751\n",
        "council          0.041804\n",
        "note             0.041280\n",
        "members          0.036117\n",
        "matter           0.033097\n",
        "taken            0.026496\n",
        "take             0.026181\n",
        "held             0.023102\n",
        "consideration    0.018925\n",
        "again            0.018180\n",
        "conditions       0.016341\n",
        "want             0.015501\n",
        "instructions     0.014974\n",
        "treaty           0.014297\n",
        "particular       0.013313\n",
        "once             0.012244\n",
        "deal             0.012216\n",
        "go               0.012092\n",
        "\n",
        "------------------------------\n",
        "Topic name: topic_71.  P[topic_71] = 0.0238\n",
        "time         0.057622\n",
        "before       0.037641\n",
        "para         0.037100\n",
        "decision     0.033618\n",
        "believe      0.033293\n",
        "given        0.031967\n",
        "until        0.028293\n",
        "although     0.025657\n",
        "several      0.022674\n",
        "probably     0.022193\n",
        "even         0.021116\n",
        "far          0.019049\n",
        "questions    0.017800\n",
        "thus         0.015536\n",
        "involved     0.014517\n",
        "over         0.014502\n",
        "fact         0.013890\n",
        "others       0.013498\n",
        "therefore    0.013370\n",
        "recently     0.012624\n",
        "\n",
        "------------------------------\n",
        "Topic name: topic_72.  P[topic_72] = 0.0287\n",
        "further        0.038847\n",
        "question       0.031463\n",
        "whether        0.029140\n",
        "asked          0.023794\n",
        "point          0.023252\n",
        "noted          0.020928\n",
        "force          0.018834\n",
        "course         0.018587\n",
        "way            0.018094\n",
        "out            0.016360\n",
        "wish           0.015747\n",
        "clear          0.014870\n",
        "points         0.014496\n",
        "authorities    0.014176\n",
        "added          0.011660\n",
        "give           0.011613\n",
        "attention      0.011089\n",
        "agreed         0.010804\n",
        "know           0.010680\n",
        "begin          0.010647\n",
        "\n",
        "------------------------------\n",
        "Topic name: topic_73.  P[topic_73] = 0.0098\n",
        "last            0.089990\n",
        "three           0.088994\n",
        "according       0.061542\n",
        "expected        0.055345\n",
        "oslo            0.029880\n",
        "sources         0.028956\n",
        "stockholm       0.028554\n",
        "little          0.028073\n",
        "month           0.023415\n",
        "despite         0.023162\n",
        "goc             0.022446\n",
        "carried         0.022015\n",
        "pressure        0.022002\n",
        "helsinki        0.019824\n",
        "manpower        0.019709\n",
        "half            0.016739\n",
        "none            0.015617\n",
        "papers          0.015232\n",
        "duty            0.014536\n",
        "announcement    0.013304\n",
        "\n",
        "------------------------------\n",
        "Topic name: topic_74.  P[topic_74] = 0.0181\n",
        "million         0.057045\n",
        "provide         0.042809\n",
        "additional      0.033193\n",
        "system          0.029678\n",
        "increase        0.025477\n",
        "required        0.023450\n",
        "budget          0.022014\n",
        "gop             0.021322\n",
        "financial       0.021070\n",
        "per             0.020891\n",
        "rate            0.019738\n",
        "contract        0.019168\n",
        "study           0.018975\n",
        "requirements    0.018124\n",
        "funds           0.013794\n",
        "reduction       0.012900\n",
        "industrial      0.012661\n",
        "tax             0.012066\n",
        "procedures      0.011364\n",
        "below           0.010690\n",
        "\n",
        "------------------------------\n",
        "Topic name: topic_75.  P[topic_75] = 0.0101\n",
        "secret       0.149975\n",
        "case         0.077837\n",
        "aug          0.076740\n",
        "plan         0.052328\n",
        "end          0.050140\n",
        "&lt          0.044222\n",
        "&gt          0.044018\n",
        "document     0.042687\n",
        "state        0.040181\n",
        "aware        0.032332\n",
        "santiago     0.029899\n",
        "secdef       0.020796\n",
        "systems      0.017245\n",
        "chile        0.016777\n",
        "allow        0.016495\n",
        "sea          0.016321\n",
        "develop      0.015774\n",
        "objection    0.014114\n",
        "asia         0.011677\n",
        "supplies     0.011614\n",
        "\n",
        "------------------------------\n",
        "Topic name: topic_76.  P[topic_76] = 0.0283\n",
        "political    0.040629\n",
        "party        0.030524\n",
        "parties      0.015084\n",
        "over         0.013906\n",
        "madrid       0.012976\n",
        "left         0.012450\n",
        "congress     0.012252\n",
        "leaders      0.012193\n",
        "communist    0.009068\n",
        "elections    0.008141\n",
        "positions    0.007866\n",
        "armed        0.007836\n",
        "leader       0.007211\n",
        "events       0.007065\n",
        "personal     0.006997\n",
        "election     0.006992\n",
        "difficult    0.006884\n",
        "base         0.006810\n",
        "favor        0.006744\n",
        "felt         0.006684\n",
        "\n",
        "------------------------------\n",
        "Topic name: topic_77.  P[topic_77] = 0.0092\n",
        "foreign       0.219051\n",
        "ministry      0.076028\n",
        "reports       0.068115\n",
        "affairs       0.063638\n",
        "law           0.044748\n",
        "diplomatic    0.038136\n",
        "act           0.036864\n",
        "emboff        0.034880\n",
        "nairobi       0.033642\n",
        "republic      0.031882\n",
        "settlement    0.025727\n",
        "pfor          0.024863\n",
        "summit        0.021957\n",
        "entry         0.014335\n",
        "letters       0.013847\n",
        "oas           0.013508\n",
        "external      0.013425\n",
        "reykjavik     0.008874\n",
        "continues     0.008764\n",
        "sanctions     0.008518\n",
        "\n",
        "------------------------------\n",
        "Topic name: topic_78.  P[topic_78] = 0.0295\n",
        "general         0.039856\n",
        "through         0.034262\n",
        "well            0.027698\n",
        "problems        0.026150\n",
        "area            0.023973\n",
        "part            0.022827\n",
        "major           0.021402\n",
        "those           0.017907\n",
        "activities      0.015823\n",
        "particularly    0.015133\n",
        "level           0.014747\n",
        "interests       0.012390\n",
        "serious         0.010688\n",
        "account         0.010182\n",
        "more            0.009947\n",
        "within          0.009837\n",
        "small           0.009542\n",
        "expect          0.009475\n",
        "including       0.009158\n",
        "both            0.008796\n",
        "\n",
        "------------------------------\n",
        "Topic name: topic_79.  P[topic_79] = 0.0069\n",
        "mr               0.245353\n",
        "jan              0.123249\n",
        "february         0.071829\n",
        "comments         0.055436\n",
        "house            0.048159\n",
        "operations       0.044463\n",
        "el               0.029110\n",
        "host             0.027729\n",
        "annual           0.027224\n",
        "white            0.027223\n",
        "principal        0.024948\n",
        "congressional    0.023658\n",
        "van              0.022755\n",
        "islands          0.016486\n",
        "thursday         0.014094\n",
        "rangoon          0.013015\n",
        "asian            0.011827\n",
        "inquiry          0.011298\n",
        "stock            0.010164\n",
        "chiefs           0.007829\n",
        "\n",
        "------------------------------\n",
        "Topic name: topic_8.  P[topic_8] = 0.0092\n",
        "problem         0.089118\n",
        "statement       0.076070\n",
        "exchange        0.068105\n",
        "response        0.062145\n",
        "private         0.052807\n",
        "high            0.051401\n",
        "company         0.049344\n",
        "months          0.048265\n",
        "rpt             0.039044\n",
        "construction    0.029381\n",
        "plus            0.026114\n",
        "head            0.025090\n",
        "kabul           0.022002\n",
        "hopes           0.019661\n",
        "building        0.018153\n",
        "helpful         0.017069\n",
        "fall            0.016704\n",
        "recommended     0.016272\n",
        "using           0.015980\n",
        "plane           0.011775\n",
        "\n",
        "------------------------------\n",
        "Topic name: topic_9.  P[topic_9] = 0.0117\n",
        "make           0.068009\n",
        "very           0.066349\n",
        "future         0.061619\n",
        "good           0.039818\n",
        "eo             0.039245\n",
        "effort         0.039140\n",
        "hope           0.036556\n",
        "energy         0.036281\n",
        "possibility    0.033130\n",
        "today          0.030371\n",
        "exdis          0.028509\n",
        "efforts        0.027908\n",
        "making         0.027096\n",
        "forward        0.026287\n",
        "great          0.025893\n",
        "language       0.024315\n",
        "canada         0.023190\n",
        "results        0.022320\n",
        "planned        0.020316\n",
        "repeated       0.014974\n"
       ]
      }
     ],
     "prompt_number": 19
    },
    {
     "cell_type": "code",
     "collapsed": false,
     "input": [
      "# Verify that the indices are equal.  The shapes shoudl be the same and the diff should be empty.\n",
      "print meta.index.shape, lda.pr_doc.index.shape\n",
      "print meta.index.diff(lda.pr_doc.index)"
     ],
     "language": "python",
     "metadata": {},
     "outputs": [
      {
       "output_type": "stream",
       "stream": "stdout",
       "text": [
        "(1119648,) (1119648,)\n",
        "Index([], dtype=object)"
       ]
      },
      {
       "output_type": "stream",
       "stream": "stdout",
       "text": [
        "\n"
       ]
      }
     ],
     "prompt_number": 12
    },
    {
     "cell_type": "code",
     "collapsed": false,
     "input": [
      "unclass = meta[meta.origclass == 'UNCLASSIFIED'].index.tolist()"
     ],
     "language": "python",
     "metadata": {},
     "outputs": [],
     "prompt_number": 433
    },
    {
     "cell_type": "code",
     "collapsed": false,
     "input": [
      "lda.pr_topic_g_doc.T[unclass].T.sort_index(by='topic_3', ascending=False).head()"
     ],
     "language": "python",
     "metadata": {},
     "outputs": [
      {
       "html": [
        "<div style=\"max-height:1000px;max-width:1500px;overflow:auto;\">\n",
        "<table border=\"1\" class=\"dataframe\">\n",
        "  <thead>\n",
        "    <tr style=\"text-align: right;\">\n",
        "      <th></th>\n",
        "      <th>topic_0</th>\n",
        "      <th>topic_1</th>\n",
        "      <th>topic_10</th>\n",
        "      <th>topic_11</th>\n",
        "      <th>topic_12</th>\n",
        "      <th>topic_13</th>\n",
        "      <th>topic_14</th>\n",
        "      <th>topic_15</th>\n",
        "      <th>topic_16</th>\n",
        "      <th>topic_17</th>\n",
        "      <th>topic_18</th>\n",
        "      <th>topic_19</th>\n",
        "      <th>topic_2</th>\n",
        "      <th>topic_3</th>\n",
        "      <th>topic_4</th>\n",
        "      <th>topic_5</th>\n",
        "      <th>topic_6</th>\n",
        "      <th>topic_7</th>\n",
        "      <th>topic_8</th>\n",
        "      <th>topic_9</th>\n",
        "    </tr>\n",
        "    <tr>\n",
        "      <th>doc_id</th>\n",
        "      <th></th>\n",
        "      <th></th>\n",
        "      <th></th>\n",
        "      <th></th>\n",
        "      <th></th>\n",
        "      <th></th>\n",
        "      <th></th>\n",
        "      <th></th>\n",
        "      <th></th>\n",
        "      <th></th>\n",
        "      <th></th>\n",
        "      <th></th>\n",
        "      <th></th>\n",
        "      <th></th>\n",
        "      <th></th>\n",
        "      <th></th>\n",
        "      <th></th>\n",
        "      <th></th>\n",
        "      <th></th>\n",
        "      <th></th>\n",
        "    </tr>\n",
        "  </thead>\n",
        "  <tbody>\n",
        "    <tr>\n",
        "      <th>1976PORTO02805</th>\n",
        "      <td> 0.015152</td>\n",
        "      <td> 0.015758</td>\n",
        "      <td> 0.015235</td>\n",
        "      <td> 0.095207</td>\n",
        "      <td> 0.127479</td>\n",
        "      <td> 0.015694</td>\n",
        "      <td> 0.015461</td>\n",
        "      <td> 0.015152</td>\n",
        "      <td> 0.015309</td>\n",
        "      <td> 0.017526</td>\n",
        "      <td> 0.016064</td>\n",
        "      <td> 0.015888</td>\n",
        "      <td> 0.045455</td>\n",
        "      <td> 0.481615</td>\n",
        "      <td> 0.015158</td>\n",
        "      <td> 0.015774</td>\n",
        "      <td> 0.016542</td>\n",
        "      <td> 0.015152</td>\n",
        "      <td> 0.015152</td>\n",
        "      <td> 0.015229</td>\n",
        "    </tr>\n",
        "    <tr>\n",
        "      <th>1974TOKYO14322</th>\n",
        "      <td> 0.006315</td>\n",
        "      <td> 0.005563</td>\n",
        "      <td> 0.087626</td>\n",
        "      <td> 0.006055</td>\n",
        "      <td> 0.005607</td>\n",
        "      <td> 0.047872</td>\n",
        "      <td> 0.032531</td>\n",
        "      <td> 0.024144</td>\n",
        "      <td> 0.028484</td>\n",
        "      <td> 0.005845</td>\n",
        "      <td> 0.005614</td>\n",
        "      <td> 0.005806</td>\n",
        "      <td> 0.005712</td>\n",
        "      <td> 0.460653</td>\n",
        "      <td> 0.005652</td>\n",
        "      <td> 0.006817</td>\n",
        "      <td> 0.144488</td>\n",
        "      <td> 0.093239</td>\n",
        "      <td> 0.005495</td>\n",
        "      <td> 0.016483</td>\n",
        "    </tr>\n",
        "    <tr>\n",
        "      <th>1973WELLIN02513</th>\n",
        "      <td> 0.012821</td>\n",
        "      <td> 0.012965</td>\n",
        "      <td> 0.078207</td>\n",
        "      <td> 0.049290</td>\n",
        "      <td> 0.013422</td>\n",
        "      <td> 0.120262</td>\n",
        "      <td> 0.013505</td>\n",
        "      <td> 0.012821</td>\n",
        "      <td> 0.071411</td>\n",
        "      <td> 0.013205</td>\n",
        "      <td> 0.014294</td>\n",
        "      <td> 0.013252</td>\n",
        "      <td> 0.013965</td>\n",
        "      <td> 0.457203</td>\n",
        "      <td> 0.012821</td>\n",
        "      <td> 0.012821</td>\n",
        "      <td> 0.013633</td>\n",
        "      <td> 0.012821</td>\n",
        "      <td> 0.012821</td>\n",
        "      <td> 0.038461</td>\n",
        "    </tr>\n",
        "    <tr>\n",
        "      <th>1975PORTA00907</th>\n",
        "      <td> 0.017241</td>\n",
        "      <td> 0.017241</td>\n",
        "      <td> 0.017342</td>\n",
        "      <td> 0.071624</td>\n",
        "      <td> 0.189655</td>\n",
        "      <td> 0.017677</td>\n",
        "      <td> 0.017241</td>\n",
        "      <td> 0.017241</td>\n",
        "      <td> 0.017241</td>\n",
        "      <td> 0.017359</td>\n",
        "      <td> 0.017241</td>\n",
        "      <td> 0.017241</td>\n",
        "      <td> 0.017241</td>\n",
        "      <td> 0.444351</td>\n",
        "      <td> 0.017241</td>\n",
        "      <td> 0.017288</td>\n",
        "      <td> 0.017738</td>\n",
        "      <td> 0.017309</td>\n",
        "      <td> 0.017241</td>\n",
        "      <td> 0.017241</td>\n",
        "    </tr>\n",
        "    <tr>\n",
        "      <th>1976PORTO01831</th>\n",
        "      <td> 0.010378</td>\n",
        "      <td> 0.024208</td>\n",
        "      <td> 0.053105</td>\n",
        "      <td> 0.011661</td>\n",
        "      <td> 0.074510</td>\n",
        "      <td> 0.111193</td>\n",
        "      <td> 0.033835</td>\n",
        "      <td> 0.063212</td>\n",
        "      <td> 0.052980</td>\n",
        "      <td> 0.027024</td>\n",
        "      <td> 0.010204</td>\n",
        "      <td> 0.010204</td>\n",
        "      <td> 0.010351</td>\n",
        "      <td> 0.444257</td>\n",
        "      <td> 0.010352</td>\n",
        "      <td> 0.010204</td>\n",
        "      <td> 0.010204</td>\n",
        "      <td> 0.010395</td>\n",
        "      <td> 0.010204</td>\n",
        "      <td> 0.011517</td>\n",
        "    </tr>\n",
        "  </tbody>\n",
        "</table>\n",
        "</div>"
       ],
       "metadata": {},
       "output_type": "pyout",
       "prompt_number": 434,
       "text": [
        "                  topic_0   topic_1  topic_10  topic_11  topic_12  topic_13  \\\n",
        "doc_id                                                                        \n",
        "1976PORTO02805   0.015152  0.015758  0.015235  0.095207  0.127479  0.015694   \n",
        "1974TOKYO14322   0.006315  0.005563  0.087626  0.006055  0.005607  0.047872   \n",
        "1973WELLIN02513  0.012821  0.012965  0.078207  0.049290  0.013422  0.120262   \n",
        "1975PORTA00907   0.017241  0.017241  0.017342  0.071624  0.189655  0.017677   \n",
        "1976PORTO01831   0.010378  0.024208  0.053105  0.011661  0.074510  0.111193   \n",
        "\n",
        "                 topic_14  topic_15  topic_16  topic_17  topic_18  topic_19  \\\n",
        "doc_id                                                                        \n",
        "1976PORTO02805   0.015461  0.015152  0.015309  0.017526  0.016064  0.015888   \n",
        "1974TOKYO14322   0.032531  0.024144  0.028484  0.005845  0.005614  0.005806   \n",
        "1973WELLIN02513  0.013505  0.012821  0.071411  0.013205  0.014294  0.013252   \n",
        "1975PORTA00907   0.017241  0.017241  0.017241  0.017359  0.017241  0.017241   \n",
        "1976PORTO01831   0.033835  0.063212  0.052980  0.027024  0.010204  0.010204   \n",
        "\n",
        "                  topic_2   topic_3   topic_4   topic_5   topic_6   topic_7  \\\n",
        "doc_id                                                                        \n",
        "1976PORTO02805   0.045455  0.481615  0.015158  0.015774  0.016542  0.015152   \n",
        "1974TOKYO14322   0.005712  0.460653  0.005652  0.006817  0.144488  0.093239   \n",
        "1973WELLIN02513  0.013965  0.457203  0.012821  0.012821  0.013633  0.012821   \n",
        "1975PORTA00907   0.017241  0.444351  0.017241  0.017288  0.017738  0.017309   \n",
        "1976PORTO01831   0.010351  0.444257  0.010352  0.010204  0.010204  0.010395   \n",
        "\n",
        "                  topic_8   topic_9  \n",
        "doc_id                               \n",
        "1976PORTO02805   0.015152  0.015229  \n",
        "1974TOKYO14322   0.005495  0.016483  \n",
        "1973WELLIN02513  0.012821  0.038461  \n",
        "1975PORTA00907   0.017241  0.017241  \n",
        "1976PORTO01831   0.010204  0.011517  "
       ]
      }
     ],
     "prompt_number": 434
    },
    {
     "cell_type": "code",
     "collapsed": false,
     "input": [
      "lda.pr_doc_g_topic.T.groupby(meta.origclass)\\\n",
      "    .sum()\\\n",
      "    .T[['UNCLASSIFIED', 'LIMITED OFFICIAL USE', 'CONFIDENTIAL', 'SECRET']]\\\n",
      "    .plot(kind='bar', figsize=(20, 10))"
     ],
     "language": "python",
     "metadata": {},
     "outputs": [
      {
       "metadata": {},
       "output_type": "pyout",
       "prompt_number": 432,
       "text": [
        "<matplotlib.axes.AxesSubplot at 0x58b91710>"
       ]
      },
      {
       "metadata": {},
       "output_type": "display_data",
       "png": "[encoded data removed]",
       "text": [
        "<matplotlib.figure.Figure at 0x3ab58bd0>"
       ]
      }
     ],
     "prompt_number": 432
    },
    {
     "cell_type": "code",
     "collapsed": false,
     "input": [
      "lda.pr_doc_g_topic.T.groupby(meta.msgfrom)\\\n",
      "    .sum()\\\n",
      "    .T[['MOSCOW', 'LONDON']]\\\n",
      "    .plot(kind='bar', figsize=(20, 10))"
     ],
     "language": "python",
     "metadata": {},
     "outputs": [
      {
       "metadata": {},
       "output_type": "pyout",
       "prompt_number": 18,
       "text": [
        "<matplotlib.axes.AxesSubplot at 0x1dbafe90>"
       ]
      },
      {
       "metadata": {},
       "output_type": "display_data",
       "png": "[encoded data removed]",
       "text": [
        "<matplotlib.figure.Figure at 0x2d4aa90>"
       ]
      }
     ],
     "prompt_number": 18
    },
    {
     "cell_type": "code",
     "collapsed": false,
     "input": [
      "lda.pr_doc_g_topic.T.groupby(meta.msgfrom)\\\n",
      "    .sum()\\\n",
      "    .T[meta.msgfrom.value_counts().index.tolist()[1:7]]\\\n",
      "    .plot(kind='bar', figsize=(20, 10))"
     ],
     "language": "python",
     "metadata": {},
     "outputs": [
      {
       "metadata": {},
       "output_type": "pyout",
       "prompt_number": 428,
       "text": [
        "<matplotlib.axes.AxesSubplot at 0xc0717410>"
       ]
      },
      {
       "metadata": {},
       "output_type": "display_data",
       "png": "[encoded data removed]",
       "text": [
        "<matplotlib.figure.Figure at 0xc0718590>"
       ]
      }
     ],
     "prompt_number": 428
    },
    {
     "cell_type": "code",
     "collapsed": false,
     "input": [
      "lda.pr_doc_g_topic.T.groupby(meta.msgto)\\\n",
      "    .sum()\\\n",
      "    .T[meta.msgfrom.value_counts().index.tolist()[1:7]]\\\n",
      "    .plot(kind='bar', figsize=(20, 10))"
     ],
     "language": "python",
     "metadata": {},
     "outputs": [
      {
       "metadata": {},
       "output_type": "pyout",
       "prompt_number": 446,
       "text": [
        "<matplotlib.axes.AxesSubplot at 0x55484550>"
       ]
      },
      {
       "metadata": {},
       "output_type": "display_data",
       "png": "[encoded data removed]",
       "text": [
        "<matplotlib.figure.Figure at 0x5191c550>"
       ]
      }
     ],
     "prompt_number": 446
    },
    {
     "cell_type": "markdown",
     "metadata": {},
     "source": [
      "## Outlier detection"
     ]
    },
    {
     "cell_type": "code",
     "collapsed": false,
     "input": [
      "meta = meta.reindex(index=lda.pr_topic_g_doc.index)"
     ],
     "language": "python",
     "metadata": {},
     "outputs": [],
     "prompt_number": 41
    },
    {
     "cell_type": "code",
     "collapsed": false,
     "input": [
      "(meta.index == lda.pr_topic_g_doc.index).min()"
     ],
     "language": "python",
     "metadata": {},
     "outputs": [
      {
       "metadata": {},
       "output_type": "pyout",
       "prompt_number": 152,
       "text": [
        "True"
       ]
      }
     ],
     "prompt_number": 152
    },
    {
     "cell_type": "code",
     "collapsed": false,
     "input": [
      "y_var = 'msgfrom'\n",
      "classes = meta[y_var].value_counts().index[:40]\n",
      "meta[y_var][meta[y_var] == 'OECD PARIS'] = 'PARIS'  # Put PARIS and OECD PARIS together\n",
      "print classes\n",
      "classes = [u'MOSCOW', u'GENEVA', u'PARIS', u'LONDON', u'TOKYO', u'TEHRAN', u'SANTIAGO']\n",
      "print classes"
     ],
     "language": "python",
     "metadata": {},
     "outputs": [
      {
       "output_type": "stream",
       "stream": "stdout",
       "text": [
        "Index([u'STATE', u'PARIS', u'MOSCOW', u'TOKYO', u'GENEVA', u'USUN NEW YORK', u'LONDON', u'BONN', u'ROME', u'CAIRO', u'SECSTATE WASHDC', u'BANGKOK', u'NATO', u'MANILA', u'NEW DELHI', u'MEXICO', u'ATHENS', u'TEHRAN', u'WARSAW', u'BUCHAREST', u'NATO BRUSSELS', u'BUENOS AIRES', u'BEIRUT', u'CARACAS', u'SEOUL', u'HONG KONG', u'SANTIAGO', u'BELGRADE', u'TEL AVIV', u'LAGOS', u'LIMA', u'JAKARTA', u'ANKARA', u'OTTAWA', u'LISBON', u'JIDDA', u'MADRID', u'VIENNA', u'STOCKHOLM', u'BRASILIA'], dtype=object)\n",
        "[u'MOSCOW', u'GENEVA', u'PARIS', u'LONDON', u'TOKYO', u'TEHRAN', u'SANTIAGO']\n"
       ]
      }
     ],
     "prompt_number": 153
    },
    {
     "cell_type": "code",
     "collapsed": false,
     "input": [
      "y_var = 'origclass'\n",
      "classes = meta[y_var].value_counts().index[:4]\n",
      "print classes"
     ],
     "language": "python",
     "metadata": {},
     "outputs": [
      {
       "output_type": "stream",
       "stream": "stdout",
       "text": [
        "Index([u'UNCLASSIFIED', u'LIMITED OFFICIAL USE', u'CONFIDENTIAL', u'SECRET'], dtype=object)\n"
       ]
      }
     ],
     "prompt_number": 168
    },
    {
     "cell_type": "code",
     "collapsed": false,
     "input": [
      "le = preprocessing.LabelEncoder().fit(classes)\n",
      "to_num = lambda y: le.transform(y.values)"
     ],
     "language": "python",
     "metadata": {},
     "outputs": [],
     "prompt_number": 169
    },
    {
     "cell_type": "code",
     "collapsed": false,
     "input": [
      "mask = meta[y_var].isin(classes)\n",
      "meta_masked = meta[mask]\n",
      "X = lda.pr_topic_g_doc[mask]\n",
      "Y = meta_masked[y_var]\n",
      "Y.name = 'Y'"
     ],
     "language": "python",
     "metadata": {},
     "outputs": [],
     "prompt_number": 170
    },
    {
     "cell_type": "code",
     "collapsed": false,
     "input": [
      "clf = RandomForestClassifier(n_estimators=400, min_samples_leaf=3, oob_score=True, n_jobs=-1)\n",
      "clf.fit(X.values, to_num(Y))\n",
      "print clf.oob_score_"
     ],
     "language": "python",
     "metadata": {},
     "outputs": [],
     "prompt_number": "*"
    },
    {
     "cell_type": "code",
     "collapsed": false,
     "input": [
      "def get_result(clf, X):\n",
      "    Y_score = clf.predict_proba(X.values)\n",
      "    Yhat = np.argmax(Y_score, axis=1)\n",
      "    conf = Y_score[np.arange(len(Y_score)), Yhat]\n",
      "    Yhat = le.inverse_transform(Yhat)\n",
      "    \n",
      "    result = pd.DataFrame({'Yhat': Yhat, 'conf': conf}, index=X.index)\n",
      "    \n",
      "    return result"
     ],
     "language": "python",
     "metadata": {},
     "outputs": [],
     "prompt_number": 134
    },
    {
     "cell_type": "code",
     "collapsed": false,
     "input": [
      "def compare(clf, X, Y, meta):\n",
      "    result = get_result(clf, X)\n",
      "    result = result.join(Y).reindex(columns=['Y', 'Yhat', 'conf'])\n",
      "    \n",
      "    return result"
     ],
     "language": "python",
     "metadata": {},
     "outputs": [],
     "prompt_number": 135
    },
    {
     "cell_type": "code",
     "collapsed": false,
     "input": [
      "YYhat = compare(clf, X, Y, meta_masked)"
     ],
     "language": "python",
     "metadata": {},
     "outputs": [],
     "prompt_number": 157
    },
    {
     "cell_type": "code",
     "collapsed": false,
     "input": [
      "lda.sfile_frame.loc['miklos']"
     ],
     "language": "python",
     "metadata": {},
     "outputs": [
      {
       "metadata": {},
       "output_type": "pyout",
       "prompt_number": 159,
       "text": [
        "doc_freq        1751.000000\n",
        "token_score     1835.000000\n",
        "doc_fraction       0.001564\n",
        "Name: miklos, dtype: float64"
       ]
      }
     ],
     "prompt_number": 159
    },
    {
     "cell_type": "code",
     "collapsed": false,
     "input": [
      "YYhat[YYhat.Y != YYhat.Yhat].sort_index(by='conf', ascending=False).head(60)"
     ],
     "language": "python",
     "metadata": {},
     "outputs": [
      {
       "html": [
        "<div style=\"max-height:1000px;max-width:1500px;overflow:auto;\">\n",
        "<table border=\"1\" class=\"dataframe\">\n",
        "  <thead>\n",
        "    <tr style=\"text-align: right;\">\n",
        "      <th></th>\n",
        "      <th>Y</th>\n",
        "      <th>Yhat</th>\n",
        "      <th>conf</th>\n",
        "    </tr>\n",
        "    <tr>\n",
        "      <th>doc_id</th>\n",
        "      <th></th>\n",
        "      <th></th>\n",
        "      <th></th>\n",
        "    </tr>\n",
        "  </thead>\n",
        "  <tbody>\n",
        "    <tr>\n",
        "      <th>1976LONDON08842</th>\n",
        "      <td>   LONDON</td>\n",
        "      <td>    PARIS</td>\n",
        "      <td> 0.742639</td>\n",
        "    </tr>\n",
        "    <tr>\n",
        "      <th>1976GENEVA02328</th>\n",
        "      <td>   GENEVA</td>\n",
        "      <td>    PARIS</td>\n",
        "      <td> 0.742639</td>\n",
        "    </tr>\n",
        "    <tr>\n",
        "      <th>1976GENEVA04283</th>\n",
        "      <td>   GENEVA</td>\n",
        "      <td>    PARIS</td>\n",
        "      <td> 0.734204</td>\n",
        "    </tr>\n",
        "    <tr>\n",
        "      <th>1975TEHRAN06862</th>\n",
        "      <td>   TEHRAN</td>\n",
        "      <td>   MOSCOW</td>\n",
        "      <td> 0.726077</td>\n",
        "    </tr>\n",
        "    <tr>\n",
        "      <th>1975LONDON18750</th>\n",
        "      <td>   LONDON</td>\n",
        "      <td>    PARIS</td>\n",
        "      <td> 0.721084</td>\n",
        "    </tr>\n",
        "    <tr>\n",
        "      <th>1976LONDON08482</th>\n",
        "      <td>   LONDON</td>\n",
        "      <td>    PARIS</td>\n",
        "      <td> 0.719744</td>\n",
        "    </tr>\n",
        "    <tr>\n",
        "      <th>1976LONDON04653</th>\n",
        "      <td>   LONDON</td>\n",
        "      <td>    PARIS</td>\n",
        "      <td> 0.718991</td>\n",
        "    </tr>\n",
        "    <tr>\n",
        "      <th>1975LONDON18579</th>\n",
        "      <td>   LONDON</td>\n",
        "      <td>    PARIS</td>\n",
        "      <td> 0.718584</td>\n",
        "    </tr>\n",
        "    <tr>\n",
        "      <th>1975LONDON18314</th>\n",
        "      <td>   LONDON</td>\n",
        "      <td>    PARIS</td>\n",
        "      <td> 0.718584</td>\n",
        "    </tr>\n",
        "    <tr>\n",
        "      <th>1976GENEVA05134</th>\n",
        "      <td>   GENEVA</td>\n",
        "      <td>    PARIS</td>\n",
        "      <td> 0.718584</td>\n",
        "    </tr>\n",
        "    <tr>\n",
        "      <th>1976LONDON10394</th>\n",
        "      <td>   LONDON</td>\n",
        "      <td>    PARIS</td>\n",
        "      <td> 0.702988</td>\n",
        "    </tr>\n",
        "    <tr>\n",
        "      <th>1975LONDON18703</th>\n",
        "      <td>   LONDON</td>\n",
        "      <td>    PARIS</td>\n",
        "      <td> 0.701046</td>\n",
        "    </tr>\n",
        "    <tr>\n",
        "      <th>1976TOKYO08041</th>\n",
        "      <td>    TOKYO</td>\n",
        "      <td>    PARIS</td>\n",
        "      <td> 0.692920</td>\n",
        "    </tr>\n",
        "    <tr>\n",
        "      <th>1975LONDON18849</th>\n",
        "      <td>   LONDON</td>\n",
        "      <td>    PARIS</td>\n",
        "      <td> 0.687764</td>\n",
        "    </tr>\n",
        "    <tr>\n",
        "      <th>1976GENEVA04543</th>\n",
        "      <td>   GENEVA</td>\n",
        "      <td>    PARIS</td>\n",
        "      <td> 0.685943</td>\n",
        "    </tr>\n",
        "    <tr>\n",
        "      <th>1975LONDON18339</th>\n",
        "      <td>   LONDON</td>\n",
        "      <td>    PARIS</td>\n",
        "      <td> 0.682148</td>\n",
        "    </tr>\n",
        "    <tr>\n",
        "      <th>1976LONDON09338</th>\n",
        "      <td>   LONDON</td>\n",
        "      <td>    PARIS</td>\n",
        "      <td> 0.681415</td>\n",
        "    </tr>\n",
        "    <tr>\n",
        "      <th>1976SANTIA05549</th>\n",
        "      <td> SANTIAGO</td>\n",
        "      <td>    PARIS</td>\n",
        "      <td> 0.677512</td>\n",
        "    </tr>\n",
        "    <tr>\n",
        "      <th>1975LONDON18833</th>\n",
        "      <td>   LONDON</td>\n",
        "      <td>    PARIS</td>\n",
        "      <td> 0.670991</td>\n",
        "    </tr>\n",
        "    <tr>\n",
        "      <th>1976LONDON04370</th>\n",
        "      <td>   LONDON</td>\n",
        "      <td>    PARIS</td>\n",
        "      <td> 0.670991</td>\n",
        "    </tr>\n",
        "    <tr>\n",
        "      <th>1974GENEVA05393</th>\n",
        "      <td>   GENEVA</td>\n",
        "      <td>    TOKYO</td>\n",
        "      <td> 0.669607</td>\n",
        "    </tr>\n",
        "    <tr>\n",
        "      <th>1975GENEVA05191</th>\n",
        "      <td>   GENEVA</td>\n",
        "      <td>    TOKYO</td>\n",
        "      <td> 0.669604</td>\n",
        "    </tr>\n",
        "    <tr>\n",
        "      <th>1975TEHRAN10257</th>\n",
        "      <td>   TEHRAN</td>\n",
        "      <td>   MOSCOW</td>\n",
        "      <td> 0.669360</td>\n",
        "    </tr>\n",
        "    <tr>\n",
        "      <th>1974GENEVA06316</th>\n",
        "      <td>   GENEVA</td>\n",
        "      <td>    TOKYO</td>\n",
        "      <td> 0.667547</td>\n",
        "    </tr>\n",
        "    <tr>\n",
        "      <th>1976GENEVA00448</th>\n",
        "      <td>   GENEVA</td>\n",
        "      <td>    PARIS</td>\n",
        "      <td> 0.665778</td>\n",
        "    </tr>\n",
        "    <tr>\n",
        "      <th>1976TEHRAN05588</th>\n",
        "      <td>   TEHRAN</td>\n",
        "      <td>    PARIS</td>\n",
        "      <td> 0.663550</td>\n",
        "    </tr>\n",
        "    <tr>\n",
        "      <th>1976TOKYO08596</th>\n",
        "      <td>    TOKYO</td>\n",
        "      <td>    PARIS</td>\n",
        "      <td> 0.663087</td>\n",
        "    </tr>\n",
        "    <tr>\n",
        "      <th>1976GENEVA02483</th>\n",
        "      <td>   GENEVA</td>\n",
        "      <td>    PARIS</td>\n",
        "      <td> 0.663087</td>\n",
        "    </tr>\n",
        "    <tr>\n",
        "      <th>1976TEHRAN09054</th>\n",
        "      <td>   TEHRAN</td>\n",
        "      <td>   MOSCOW</td>\n",
        "      <td> 0.662867</td>\n",
        "    </tr>\n",
        "    <tr>\n",
        "      <th>1976GENEVA00504</th>\n",
        "      <td>   GENEVA</td>\n",
        "      <td>    PARIS</td>\n",
        "      <td> 0.662799</td>\n",
        "    </tr>\n",
        "    <tr>\n",
        "      <th>1976TEHRAN02275</th>\n",
        "      <td>   TEHRAN</td>\n",
        "      <td>   MOSCOW</td>\n",
        "      <td> 0.661133</td>\n",
        "    </tr>\n",
        "    <tr>\n",
        "      <th>1976LONDON08476</th>\n",
        "      <td>   LONDON</td>\n",
        "      <td>    PARIS</td>\n",
        "      <td> 0.660765</td>\n",
        "    </tr>\n",
        "    <tr>\n",
        "      <th>1974TEHRAN02182</th>\n",
        "      <td>   TEHRAN</td>\n",
        "      <td>    TOKYO</td>\n",
        "      <td> 0.659885</td>\n",
        "    </tr>\n",
        "    <tr>\n",
        "      <th>1974GENEVA00081</th>\n",
        "      <td>   GENEVA</td>\n",
        "      <td>    PARIS</td>\n",
        "      <td> 0.657617</td>\n",
        "    </tr>\n",
        "    <tr>\n",
        "      <th>1974TEHRAN00881</th>\n",
        "      <td>   TEHRAN</td>\n",
        "      <td>   MOSCOW</td>\n",
        "      <td> 0.657453</td>\n",
        "    </tr>\n",
        "    <tr>\n",
        "      <th>1973TEHRAN05564</th>\n",
        "      <td>   TEHRAN</td>\n",
        "      <td>   MOSCOW</td>\n",
        "      <td> 0.650786</td>\n",
        "    </tr>\n",
        "    <tr>\n",
        "      <th>1976TOKYO05587</th>\n",
        "      <td>    TOKYO</td>\n",
        "      <td> SANTIAGO</td>\n",
        "      <td> 0.650565</td>\n",
        "    </tr>\n",
        "    <tr>\n",
        "      <th>1976LONDON09484</th>\n",
        "      <td>   LONDON</td>\n",
        "      <td>    PARIS</td>\n",
        "      <td> 0.649374</td>\n",
        "    </tr>\n",
        "    <tr>\n",
        "      <th>1973GENEVA01474</th>\n",
        "      <td>   GENEVA</td>\n",
        "      <td>    TOKYO</td>\n",
        "      <td> 0.648310</td>\n",
        "    </tr>\n",
        "    <tr>\n",
        "      <th>1974LONDON00690</th>\n",
        "      <td>   LONDON</td>\n",
        "      <td>    PARIS</td>\n",
        "      <td> 0.645789</td>\n",
        "    </tr>\n",
        "    <tr>\n",
        "      <th>1976GENEVA02096</th>\n",
        "      <td>   GENEVA</td>\n",
        "      <td>    PARIS</td>\n",
        "      <td> 0.645270</td>\n",
        "    </tr>\n",
        "    <tr>\n",
        "      <th>1974LONDON16674</th>\n",
        "      <td>   LONDON</td>\n",
        "      <td>    PARIS</td>\n",
        "      <td> 0.643882</td>\n",
        "    </tr>\n",
        "    <tr>\n",
        "      <th>1974GENEVA05041</th>\n",
        "      <td>   GENEVA</td>\n",
        "      <td>    PARIS</td>\n",
        "      <td> 0.640465</td>\n",
        "    </tr>\n",
        "    <tr>\n",
        "      <th>1976LONDON10057</th>\n",
        "      <td>   LONDON</td>\n",
        "      <td>    PARIS</td>\n",
        "      <td> 0.636851</td>\n",
        "    </tr>\n",
        "    <tr>\n",
        "      <th>1976LONDON04418</th>\n",
        "      <td>   LONDON</td>\n",
        "      <td>    PARIS</td>\n",
        "      <td> 0.632046</td>\n",
        "    </tr>\n",
        "    <tr>\n",
        "      <th>1973TEHRAN04013</th>\n",
        "      <td>   TEHRAN</td>\n",
        "      <td>   GENEVA</td>\n",
        "      <td> 0.630168</td>\n",
        "    </tr>\n",
        "    <tr>\n",
        "      <th>1975OECDP17957</th>\n",
        "      <td>    PARIS</td>\n",
        "      <td>   GENEVA</td>\n",
        "      <td> 0.629099</td>\n",
        "    </tr>\n",
        "    <tr>\n",
        "      <th>1975TEHRAN01306</th>\n",
        "      <td>   TEHRAN</td>\n",
        "      <td>   MOSCOW</td>\n",
        "      <td> 0.628624</td>\n",
        "    </tr>\n",
        "    <tr>\n",
        "      <th>1975LONDON18564</th>\n",
        "      <td>   LONDON</td>\n",
        "      <td>    PARIS</td>\n",
        "      <td> 0.626240</td>\n",
        "    </tr>\n",
        "    <tr>\n",
        "      <th>1975TEHRAN04463</th>\n",
        "      <td>   TEHRAN</td>\n",
        "      <td>   MOSCOW</td>\n",
        "      <td> 0.625503</td>\n",
        "    </tr>\n",
        "    <tr>\n",
        "      <th>1976LONDON10149</th>\n",
        "      <td>   LONDON</td>\n",
        "      <td>    PARIS</td>\n",
        "      <td> 0.625087</td>\n",
        "    </tr>\n",
        "    <tr>\n",
        "      <th>1975TEHRAN04406</th>\n",
        "      <td>   TEHRAN</td>\n",
        "      <td>   MOSCOW</td>\n",
        "      <td> 0.621272</td>\n",
        "    </tr>\n",
        "    <tr>\n",
        "      <th>1975LONDON18438</th>\n",
        "      <td>   LONDON</td>\n",
        "      <td>    PARIS</td>\n",
        "      <td> 0.618015</td>\n",
        "    </tr>\n",
        "    <tr>\n",
        "      <th>1976LONDON09515</th>\n",
        "      <td>   LONDON</td>\n",
        "      <td>    PARIS</td>\n",
        "      <td> 0.616837</td>\n",
        "    </tr>\n",
        "    <tr>\n",
        "      <th>1975LONDON18576</th>\n",
        "      <td>   LONDON</td>\n",
        "      <td>    PARIS</td>\n",
        "      <td> 0.616837</td>\n",
        "    </tr>\n",
        "    <tr>\n",
        "      <th>1973TOKYO04993</th>\n",
        "      <td>    TOKYO</td>\n",
        "      <td>   GENEVA</td>\n",
        "      <td> 0.616696</td>\n",
        "    </tr>\n",
        "    <tr>\n",
        "      <th>1976LONDON08728</th>\n",
        "      <td>   LONDON</td>\n",
        "      <td>    PARIS</td>\n",
        "      <td> 0.616004</td>\n",
        "    </tr>\n",
        "    <tr>\n",
        "      <th>1975TEHRAN10267</th>\n",
        "      <td>   TEHRAN</td>\n",
        "      <td>   MOSCOW</td>\n",
        "      <td> 0.613344</td>\n",
        "    </tr>\n",
        "    <tr>\n",
        "      <th>1975TEHRAN03869</th>\n",
        "      <td>   TEHRAN</td>\n",
        "      <td>   MOSCOW</td>\n",
        "      <td> 0.613185</td>\n",
        "    </tr>\n",
        "    <tr>\n",
        "      <th>1973GENEVA02177</th>\n",
        "      <td>   GENEVA</td>\n",
        "      <td>    TOKYO</td>\n",
        "      <td> 0.612846</td>\n",
        "    </tr>\n",
        "  </tbody>\n",
        "</table>\n",
        "</div>"
       ],
       "metadata": {},
       "output_type": "pyout",
       "prompt_number": 158,
       "text": [
        "                        Y      Yhat      conf\n",
        "doc_id                                       \n",
        "1976LONDON08842    LONDON     PARIS  0.742639\n",
        "1976GENEVA02328    GENEVA     PARIS  0.742639\n",
        "1976GENEVA04283    GENEVA     PARIS  0.734204\n",
        "1975TEHRAN06862    TEHRAN    MOSCOW  0.726077\n",
        "1975LONDON18750    LONDON     PARIS  0.721084\n",
        "1976LONDON08482    LONDON     PARIS  0.719744\n",
        "1976LONDON04653    LONDON     PARIS  0.718991\n",
        "1975LONDON18579    LONDON     PARIS  0.718584\n",
        "1975LONDON18314    LONDON     PARIS  0.718584\n",
        "1976GENEVA05134    GENEVA     PARIS  0.718584\n",
        "1976LONDON10394    LONDON     PARIS  0.702988\n",
        "1975LONDON18703    LONDON     PARIS  0.701046\n",
        "1976TOKYO08041      TOKYO     PARIS  0.692920\n",
        "1975LONDON18849    LONDON     PARIS  0.687764\n",
        "1976GENEVA04543    GENEVA     PARIS  0.685943\n",
        "1975LONDON18339    LONDON     PARIS  0.682148\n",
        "1976LONDON09338    LONDON     PARIS  0.681415\n",
        "1976SANTIA05549  SANTIAGO     PARIS  0.677512\n",
        "1975LONDON18833    LONDON     PARIS  0.670991\n",
        "1976LONDON04370    LONDON     PARIS  0.670991\n",
        "1974GENEVA05393    GENEVA     TOKYO  0.669607\n",
        "1975GENEVA05191    GENEVA     TOKYO  0.669604\n",
        "1975TEHRAN10257    TEHRAN    MOSCOW  0.669360\n",
        "1974GENEVA06316    GENEVA     TOKYO  0.667547\n",
        "1976GENEVA00448    GENEVA     PARIS  0.665778\n",
        "1976TEHRAN05588    TEHRAN     PARIS  0.663550\n",
        "1976TOKYO08596      TOKYO     PARIS  0.663087\n",
        "1976GENEVA02483    GENEVA     PARIS  0.663087\n",
        "1976TEHRAN09054    TEHRAN    MOSCOW  0.662867\n",
        "1976GENEVA00504    GENEVA     PARIS  0.662799\n",
        "1976TEHRAN02275    TEHRAN    MOSCOW  0.661133\n",
        "1976LONDON08476    LONDON     PARIS  0.660765\n",
        "1974TEHRAN02182    TEHRAN     TOKYO  0.659885\n",
        "1974GENEVA00081    GENEVA     PARIS  0.657617\n",
        "1974TEHRAN00881    TEHRAN    MOSCOW  0.657453\n",
        "1973TEHRAN05564    TEHRAN    MOSCOW  0.650786\n",
        "1976TOKYO05587      TOKYO  SANTIAGO  0.650565\n",
        "1976LONDON09484    LONDON     PARIS  0.649374\n",
        "1973GENEVA01474    GENEVA     TOKYO  0.648310\n",
        "1974LONDON00690    LONDON     PARIS  0.645789\n",
        "1976GENEVA02096    GENEVA     PARIS  0.645270\n",
        "1974LONDON16674    LONDON     PARIS  0.643882\n",
        "1974GENEVA05041    GENEVA     PARIS  0.640465\n",
        "1976LONDON10057    LONDON     PARIS  0.636851\n",
        "1976LONDON04418    LONDON     PARIS  0.632046\n",
        "1973TEHRAN04013    TEHRAN    GENEVA  0.630168\n",
        "1975OECDP17957      PARIS    GENEVA  0.629099\n",
        "1975TEHRAN01306    TEHRAN    MOSCOW  0.628624\n",
        "1975LONDON18564    LONDON     PARIS  0.626240\n",
        "1975TEHRAN04463    TEHRAN    MOSCOW  0.625503\n",
        "1976LONDON10149    LONDON     PARIS  0.625087\n",
        "1975TEHRAN04406    TEHRAN    MOSCOW  0.621272\n",
        "1975LONDON18438    LONDON     PARIS  0.618015\n",
        "1976LONDON09515    LONDON     PARIS  0.616837\n",
        "1975LONDON18576    LONDON     PARIS  0.616837\n",
        "1973TOKYO04993      TOKYO    GENEVA  0.616696\n",
        "1976LONDON08728    LONDON     PARIS  0.616004\n",
        "1975TEHRAN10267    TEHRAN    MOSCOW  0.613344\n",
        "1975TEHRAN03869    TEHRAN    MOSCOW  0.613185\n",
        "1973GENEVA02177    GENEVA     TOKYO  0.612846"
       ]
      }
     ],
     "prompt_number": 158
    },
    {
     "cell_type": "code",
     "collapsed": false,
     "input": [
      "data = pd.Series.from_csv(PROCESSED + '/offtopic_msgfrom_location.csv')\n",
      "data.plot(kind='bar', figsize=(12, 8))\n",
      "plt.ylabel('Fraction of cables \"off topic\" by location', fontsize=15)"
     ],
     "language": "python",
     "metadata": {},
     "outputs": [
      {
       "metadata": {},
       "output_type": "pyout",
       "prompt_number": 41,
       "text": [
        "<matplotlib.text.Text at 0x6eee0210>"
       ]
      },
      {
       "metadata": {},
       "output_type": "display_data",
       "png": "[encoded data removed]",
       "text": [
        "<matplotlib.figure.Figure at 0x6eec8210>"
       ]
      }
     ],
     "prompt_number": 41
    },
    {
     "cell_type": "code",
     "collapsed": false,
     "input": [
      "data = pd.Series.from_csv(PROCESSED + '/offtopic_msgfrom.csv')\n",
      "data.plot(kind='bar', figsize=(10, 5))\n",
      "plt.ylabel('Fraction of cables \"off topic\" by origclass', fontsize=15)"
     ],
     "language": "python",
     "metadata": {},
     "outputs": [
      {
       "metadata": {},
       "output_type": "pyout",
       "prompt_number": 39,
       "text": [
        "<matplotlib.text.Text at 0x30071050>"
       ]
      },
      {
       "metadata": {},
       "output_type": "display_data",
       "png": "[encoded data removed]",
       "text": [
        "<matplotlib.figure.Figure at 0x121eab90>"
       ]
      }
     ],
     "prompt_number": 39
    },
    {
     "cell_type": "code",
     "collapsed": false,
     "input": [
      "data = pd.Series.from_csv(PROCESSED + '/size_msgfrom.csv')\n",
      "data.plot(kind='bar', figsize=(10, 5))\n",
      "plt.ylabel('Number of cables by origclass', fontsize=15)"
     ],
     "language": "python",
     "metadata": {},
     "outputs": [
      {
       "metadata": {},
       "output_type": "pyout",
       "prompt_number": 37,
       "text": [
        "<matplotlib.text.Text at 0x5b5c2cd0>"
       ]
      },
      {
       "metadata": {},
       "output_type": "display_data",
       "png": "[encoded data removed]",
       "text": [
        "<matplotlib.figure.Figure at 0x121e6990>"
       ]
      }
     ],
     "prompt_number": 37
    },
    {
     "cell_type": "code",
     "collapsed": false,
     "input": [
      "data = pd.Series.from_csv(PROCESSED + '/msgfrom_sizes.csv')\n",
      "data.plot(kind='bar', figsize=(10, 5))\n",
      "plt.ylabel('Number of cables by location', fontsize=15)"
     ],
     "language": "python",
     "metadata": {},
     "outputs": [
      {
       "metadata": {},
       "output_type": "pyout",
       "prompt_number": 40,
       "text": [
        "<matplotlib.text.Text at 0x3009c110>"
       ]
      },
      {
       "metadata": {},
       "output_type": "display_data",
       "png": "[encoded data removed]",
       "text": [
        "<matplotlib.figure.Figure at 0x9db9fb50>"
       ]
      }
     ],
     "prompt_number": 40
    },
    {
     "cell_type": "code",
     "collapsed": false,
     "input": [
      "data = pd.DataFrame.from_csv(PROCESSED + '/offtopic_docs.csv')\n",
      "data[['Y', 'Yhat', 'conf', 'origclass']].head(20).rename(columns={'Y': 'msgfrom', 'Yhat': 'predicted-msgfrom'})"
     ],
     "language": "python",
     "metadata": {},
     "outputs": [
      {
       "html": [
        "<div style=\"max-height:1000px;max-width:1500px;overflow:auto;\">\n",
        "<table border=\"1\" class=\"dataframe\">\n",
        "  <thead>\n",
        "    <tr style=\"text-align: right;\">\n",
        "      <th></th>\n",
        "      <th>msgfrom</th>\n",
        "      <th>predicted-msgfrom</th>\n",
        "      <th>conf</th>\n",
        "      <th>origclass</th>\n",
        "    </tr>\n",
        "    <tr>\n",
        "      <th>doc_id</th>\n",
        "      <th></th>\n",
        "      <th></th>\n",
        "      <th></th>\n",
        "      <th></th>\n",
        "    </tr>\n",
        "  </thead>\n",
        "  <tbody>\n",
        "    <tr>\n",
        "      <th>1974TEHRAN09242</th>\n",
        "      <td> TEHRAN</td>\n",
        "      <td>  PARIS</td>\n",
        "      <td> 0.766898</td>\n",
        "      <td> SECRET</td>\n",
        "    </tr>\n",
        "    <tr>\n",
        "      <th>1975PARIS00002</th>\n",
        "      <td>  PARIS</td>\n",
        "      <td> MOSCOW</td>\n",
        "      <td> 0.695398</td>\n",
        "      <td> SECRET</td>\n",
        "    </tr>\n",
        "    <tr>\n",
        "      <th>1975GENEVA01022</th>\n",
        "      <td> GENEVA</td>\n",
        "      <td> MOSCOW</td>\n",
        "      <td> 0.693544</td>\n",
        "      <td> SECRET</td>\n",
        "    </tr>\n",
        "    <tr>\n",
        "      <th>1974GENEVA01346</th>\n",
        "      <td> GENEVA</td>\n",
        "      <td> MOSCOW</td>\n",
        "      <td> 0.655573</td>\n",
        "      <td> SECRET</td>\n",
        "    </tr>\n",
        "    <tr>\n",
        "      <th>1975LONDON18576</th>\n",
        "      <td> LONDON</td>\n",
        "      <td>  PARIS</td>\n",
        "      <td> 0.646651</td>\n",
        "      <td> SECRET</td>\n",
        "    </tr>\n",
        "    <tr>\n",
        "      <th>1975MOSCOW17917</th>\n",
        "      <td> MOSCOW</td>\n",
        "      <td> GENEVA</td>\n",
        "      <td> 0.643286</td>\n",
        "      <td> SECRET</td>\n",
        "    </tr>\n",
        "    <tr>\n",
        "      <th>1974PARIS11128</th>\n",
        "      <td>  PARIS</td>\n",
        "      <td> LONDON</td>\n",
        "      <td> 0.633771</td>\n",
        "      <td> SECRET</td>\n",
        "    </tr>\n",
        "    <tr>\n",
        "      <th>1975LONDON01600</th>\n",
        "      <td> LONDON</td>\n",
        "      <td> MOSCOW</td>\n",
        "      <td> 0.629950</td>\n",
        "      <td> SECRET</td>\n",
        "    </tr>\n",
        "    <tr>\n",
        "      <th>1975LONDON09289</th>\n",
        "      <td> LONDON</td>\n",
        "      <td> MOSCOW</td>\n",
        "      <td> 0.625738</td>\n",
        "      <td> SECRET</td>\n",
        "    </tr>\n",
        "    <tr>\n",
        "      <th>1975LONDON06171</th>\n",
        "      <td> LONDON</td>\n",
        "      <td> MOSCOW</td>\n",
        "      <td> 0.620537</td>\n",
        "      <td> SECRET</td>\n",
        "    </tr>\n",
        "    <tr>\n",
        "      <th>1974MOSCOW10364</th>\n",
        "      <td> MOSCOW</td>\n",
        "      <td> LONDON</td>\n",
        "      <td> 0.617908</td>\n",
        "      <td> SECRET</td>\n",
        "    </tr>\n",
        "    <tr>\n",
        "      <th>1973LONDON08078</th>\n",
        "      <td> LONDON</td>\n",
        "      <td> TEHRAN</td>\n",
        "      <td> 0.615003</td>\n",
        "      <td> SECRET</td>\n",
        "    </tr>\n",
        "    <tr>\n",
        "      <th>1976LONDON08729</th>\n",
        "      <td> LONDON</td>\n",
        "      <td> MOSCOW</td>\n",
        "      <td> 0.612007</td>\n",
        "      <td> SECRET</td>\n",
        "    </tr>\n",
        "    <tr>\n",
        "      <th>1974MOSCOW04262</th>\n",
        "      <td> MOSCOW</td>\n",
        "      <td> LONDON</td>\n",
        "      <td> 0.605375</td>\n",
        "      <td> SECRET</td>\n",
        "    </tr>\n",
        "    <tr>\n",
        "      <th>1975LONDON00644</th>\n",
        "      <td> LONDON</td>\n",
        "      <td> TEHRAN</td>\n",
        "      <td> 0.600601</td>\n",
        "      <td> SECRET</td>\n",
        "    </tr>\n",
        "    <tr>\n",
        "      <th>1975LONDON18396</th>\n",
        "      <td> LONDON</td>\n",
        "      <td>  PARIS</td>\n",
        "      <td> 0.600317</td>\n",
        "      <td> SECRET</td>\n",
        "    </tr>\n",
        "    <tr>\n",
        "      <th>1975TOKYO10727</th>\n",
        "      <td>  TOKYO</td>\n",
        "      <td> GENEVA</td>\n",
        "      <td> 0.595328</td>\n",
        "      <td> SECRET</td>\n",
        "    </tr>\n",
        "    <tr>\n",
        "      <th>1973PARIS26220</th>\n",
        "      <td>  PARIS</td>\n",
        "      <td> MOSCOW</td>\n",
        "      <td> 0.591874</td>\n",
        "      <td> SECRET</td>\n",
        "    </tr>\n",
        "    <tr>\n",
        "      <th>1975LONDON09455</th>\n",
        "      <td> LONDON</td>\n",
        "      <td> GENEVA</td>\n",
        "      <td> 0.591668</td>\n",
        "      <td> SECRET</td>\n",
        "    </tr>\n",
        "    <tr>\n",
        "      <th>1975LONDON18672</th>\n",
        "      <td> LONDON</td>\n",
        "      <td>  PARIS</td>\n",
        "      <td> 0.588182</td>\n",
        "      <td> SECRET</td>\n",
        "    </tr>\n",
        "  </tbody>\n",
        "</table>\n",
        "</div>"
       ],
       "metadata": {},
       "output_type": "pyout",
       "prompt_number": 45,
       "text": [
        "                msgfrom predicted-msgfrom      conf origclass\n",
        "doc_id                                                       \n",
        "1974TEHRAN09242  TEHRAN             PARIS  0.766898    SECRET\n",
        "1975PARIS00002    PARIS            MOSCOW  0.695398    SECRET\n",
        "1975GENEVA01022  GENEVA            MOSCOW  0.693544    SECRET\n",
        "1974GENEVA01346  GENEVA            MOSCOW  0.655573    SECRET\n",
        "1975LONDON18576  LONDON             PARIS  0.646651    SECRET\n",
        "1975MOSCOW17917  MOSCOW            GENEVA  0.643286    SECRET\n",
        "1974PARIS11128    PARIS            LONDON  0.633771    SECRET\n",
        "1975LONDON01600  LONDON            MOSCOW  0.629950    SECRET\n",
        "1975LONDON09289  LONDON            MOSCOW  0.625738    SECRET\n",
        "1975LONDON06171  LONDON            MOSCOW  0.620537    SECRET\n",
        "1974MOSCOW10364  MOSCOW            LONDON  0.617908    SECRET\n",
        "1973LONDON08078  LONDON            TEHRAN  0.615003    SECRET\n",
        "1976LONDON08729  LONDON            MOSCOW  0.612007    SECRET\n",
        "1974MOSCOW04262  MOSCOW            LONDON  0.605375    SECRET\n",
        "1975LONDON00644  LONDON            TEHRAN  0.600601    SECRET\n",
        "1975LONDON18396  LONDON             PARIS  0.600317    SECRET\n",
        "1975TOKYO10727    TOKYO            GENEVA  0.595328    SECRET\n",
        "1973PARIS26220    PARIS            MOSCOW  0.591874    SECRET\n",
        "1975LONDON09455  LONDON            GENEVA  0.591668    SECRET\n",
        "1975LONDON18672  LONDON             PARIS  0.588182    SECRET"
       ]
      }
     ],
     "prompt_number": 45
    },
    {
     "cell_type": "markdown",
     "metadata": {},
     "source": [
      "## Things that worked\n",
      "\n",
      "**msgto**\n",
      "\n",
      "1974VLADIV00002\t TOKYO\t MOSCOW\t 0.853549\n",
      "\n",
      "**msgfrom**\n",
      "\n",
      "\n",
      "```\n",
      "1973TOKYO12186 \tTOKYO \tMOSCOW \t0.837983\n",
      "```"
     ]
    },
    {
     "cell_type": "code",
     "collapsed": false,
     "input": [
      "meta.origclass.plot("
     ],
     "language": "python",
     "metadata": {},
     "outputs": []
    }
   ],
   "metadata": {}
  }
 ]
}