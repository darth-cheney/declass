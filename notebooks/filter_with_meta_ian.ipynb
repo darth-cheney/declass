{
 "metadata": {
  "name": ""
 },
 "nbformat": 3,
 "nbformat_minor": 0,
 "worksheets": [
  {
   "cells": [
    {
     "cell_type": "markdown",
     "metadata": {},
     "source": [
      "# How to use metadata to do LDA on subsets\n",
      "\n",
      "Along the way we introduce two new classes.\n",
      "\n",
      "1. `streamers.TextFileStreamer` Provides ways to stream information (*text*, *doc_id*, *tokens*, etc...) from a source of text files.\n",
      "2. `gensim_helpers.SvmLightPlusCorpus` extends `gensim.corpora.SvmLightCorpus`, providing ways to filter the corpus using `doc_id`."
     ]
    },
    {
     "cell_type": "markdown",
     "metadata": {},
     "source": [
      "---\n",
      "\n",
      "## Set up\n",
      "\n",
      "---"
     ]
    },
    {
     "cell_type": "code",
     "collapsed": false,
     "input": [
      "import os\n",
      "\n",
      "import pandas as pd\n",
      "import matplotlib.pylab as plt\n",
      "\n",
      "from gensim import corpora, models, similarities\n",
      "import gensim\n",
      "\n",
      "from declass.utils import text_processors, filefilter, gensim_helpers,\\\n",
      "    nlp, topic_seek, common, streamers\n",
      "\n",
      "from datetime import date\n",
      "from numpy import datetime64"
     ],
     "language": "python",
     "metadata": {},
     "outputs": [],
     "prompt_number": 1
    },
    {
     "cell_type": "code",
     "collapsed": false,
     "input": [
      "# Every time you change the source code you need to reload it...so I keep this cell handy\n",
      "reload(text_processors)\n",
      "reload(filefilter)\n",
      "reload(gensim_helpers)\n",
      "reload(topic_seek)\n",
      "reload(streamers)"
     ],
     "language": "python",
     "metadata": {},
     "outputs": [
      {
       "metadata": {},
       "output_type": "pyout",
       "prompt_number": 40,
       "text": [
        "<module 'declass.utils.streamers' from '/home/langmore/lib/declass/declass/utils/streamers.pyc'>"
       ]
      }
     ],
     "prompt_number": 40
    },
    {
     "cell_type": "code",
     "collapsed": false,
     "input": [
      "# Set paths\n",
      "\n",
      "# I use environment variables to set my base paths\n",
      "DATA = os.environ['DATA']                                                                 \n",
      "ME = os.environ['ME']                                                                     \n",
      "MYDATA = os.path.join(DATA, ME, 'ddrs-01')                                           \n",
      "RAW = os.path.join(MYDATA, 'raw')                                                         \n",
      "PROCESSED = os.path.join(MYDATA, 'processed')\n",
      "\n",
      "# You only need to set these paths below...any way you want...\n",
      "metafile_path = os.path.join(RAW, 'meta', 'ddrs_meta.csv')\n",
      "text_base_path = os.path.join(RAW, 'ddrs_nofoot')  # Read files made with the \"nofoot\" option\n",
      "corpus_path = os.path.join(PROCESSED, 'corpus', 'ddrs-gensim.svmlight')\n",
      "dictionary_path = os.path.join(PROCESSED, 'dict', 'ddrs-basic.dict')"
     ],
     "language": "python",
     "metadata": {},
     "outputs": [],
     "prompt_number": 18
    },
    {
     "cell_type": "markdown",
     "metadata": {},
     "source": [
      "## Load the `meta`"
     ]
    },
    {
     "cell_type": "code",
     "collapsed": false,
     "input": [
      "# Read meta and create some columns\n",
      "meta = pd.read_csv(metafile_path, sep='\\t', quotechar='|', na_values=['None'])\n",
      "meta = meta.rename(columns={name: name.lower() for name in meta.columns})\n",
      "meta = meta.set_index('id')\n",
      "\n",
      "meta['written_year'] = meta.written.str[0:4].astype('float')\n",
      "meta['released_year'] = meta.released.str[0:4].astype('float')\n",
      "meta['is_sanitized'] = (meta.sanitation == 'Sanitized').astype('int')\n",
      "\n",
      "meta['written'] = pd.to_datetime(meta.written)\n",
      "meta['released'] = pd.to_datetime(meta.released)"
     ],
     "language": "python",
     "metadata": {},
     "outputs": [],
     "prompt_number": 9
    },
    {
     "cell_type": "code",
     "collapsed": false,
     "input": [
      "# Sort by the date document was written\n",
      "meta = meta.sort_index(by='written')"
     ],
     "language": "python",
     "metadata": {},
     "outputs": [],
     "prompt_number": 10
    },
    {
     "cell_type": "code",
     "collapsed": false,
     "input": [
      "# Make a dictionary mapping president names to start/end dates of their term\n",
      "admins = {                                                                                                        \n",
      " \"Roosevelt\" : (date(1933, 3, 4), date(1949, 1, 20)),                                                             \n",
      " \"Truman\": (date(1949, 1, 20), date(1953, 1, 20)),                                                                \n",
      " \"Eisenhower\" : (date(1953, 1, 20),  date(1961, 1, 20)),                                                          \n",
      " \"Kennedy\" : (date(1961, 1, 20), date(1963, 11, 22)),                                                             \n",
      " \"Johnson\" : (date(1963, 11, 22), date(1969, 1, 20)),                                                             \n",
      " \"Nixon\": (date(1969, 1, 20), date(1974, 8, 9)),                                                                  \n",
      " \"Ford\" : (date(1974, 8, 9), date(1977, 1, 20)),                                                                  \n",
      " \"Carter\": (date(1977, 1, 20), date(1981, 1, 20)),                                                                \n",
      " \"Reagan\" : (date(1981, 1, 20), date(1989, 1, 20)),                                                               \n",
      " \"H. W. Bush\" : (date(1989, 1, 20),  date(1993, 1, 20)),                                                          \n",
      " \"Clinton\" : (date(1993, 1, 20), date(2001, 1, 20)),                                                              \n",
      " \"W. Bush\" : (date(2001, 1, 20), date(2009, 1, 20)),                                                              \n",
      " \"Obama\": (date(2009, 1, 20), date(2017, 1, 20))                                                                  \n",
      "}\n",
      "\n",
      "func = lambda d: pd.Timestamp(datetime64(d))\n",
      "\n",
      "admins = {name: (func(start), func(end)) for name, (start, end) in admins.iteritems()}"
     ],
     "language": "python",
     "metadata": {},
     "outputs": [],
     "prompt_number": 11
    },
    {
     "cell_type": "code",
     "collapsed": false,
     "input": [
      "# Add fields corresponding to administration to data frames\n",
      "def get_admin(np_datetime, pres_dict):\n",
      "    \"\"\"\n",
      "    Return the president's name from pres_dict corresponding to np_datetime.\n",
      "    \"\"\"\n",
      "    this_pres = 'unknown'\n",
      "    for pres, (start, end) in pres_dict.iteritems():\n",
      "        if start <= np_datetime <= end:\n",
      "            this_pres = pres\n",
      "            break\n",
      "    \n",
      "    return this_pres\n",
      "\n",
      "meta['written_admin'] = meta.written.apply(lambda d: get_admin(d, admins))\n",
      "meta['released_admin'] = meta.released.apply(lambda d: get_admin(d, admins))"
     ],
     "language": "python",
     "metadata": {},
     "outputs": [],
     "prompt_number": 12
    },
    {
     "cell_type": "code",
     "collapsed": false,
     "input": [
      "# Plot the size of data within each adminstration\n",
      "meta.groupby('written_admin', sort=False).size().plot(kind='barh')"
     ],
     "language": "python",
     "metadata": {},
     "outputs": [
      {
       "metadata": {},
       "output_type": "pyout",
       "prompt_number": 13,
       "text": [
        "<matplotlib.axes.AxesSubplot at 0x55281d0>"
       ]
      },
      {
       "metadata": {},
       "output_type": "display_data",
       "png": "[encoded data removed]",
       "text": [
        "<matplotlib.figure.Figure at 0x3478c90>"
       ]
      }
     ],
     "prompt_number": 13
    },
    {
     "cell_type": "markdown",
     "metadata": {},
     "source": [
      "## Pick out `doc_id` corresponding to different administration"
     ]
    },
    {
     "cell_type": "code",
     "collapsed": false,
     "input": [
      "nixon_ids = meta[meta.written_admin == 'Nixon'].index\n",
      "carter_ids = meta[meta.written_admin == 'Carter'].index\n",
      "truman_ids = meta[meta.written_admin == 'Truman'].index"
     ],
     "language": "python",
     "metadata": {},
     "outputs": [],
     "prompt_number": 14
    },
    {
     "cell_type": "markdown",
     "metadata": {},
     "source": [
      "## Load a TextFileStreamer\n",
      "\n",
      "* Streams various `info` from a source of text files\n",
      "* Info includes `doc_id` (derived from the filename), and `tokens` (you can specify a `tokenizer_func`)."
     ]
    },
    {
     "cell_type": "code",
     "collapsed": false,
     "input": [
      "# Shuffle the paths to ensure we don't bias results\n",
      "streamer = streamers.TextFileStreamer(text_base_path=text_base_path)"
     ],
     "language": "python",
     "metadata": {},
     "outputs": [],
     "prompt_number": 16
    },
    {
     "cell_type": "markdown",
     "metadata": {},
     "source": [
      "## Make a gensim dictionary\n",
      "\n",
      "* A dictionary is built using a stream of tokens (an *iterator* over token lists)\n",
      "* Every Streamer has a `token_stream` method that returns a token stream"
     ]
    },
    {
     "cell_type": "code",
     "collapsed": false,
     "input": [
      "dictionary = corpora.Dictionary(streamer.token_stream())\n",
      "dictionary.filter_extremes()\n",
      "dictionary.compactify()\n",
      "print dictionary"
     ],
     "language": "python",
     "metadata": {},
     "outputs": [
      {
       "output_type": "stream",
       "stream": "stdout",
       "text": [
        "Dictionary(100000 unique tokens)\n"
       ]
      }
     ],
     "prompt_number": 17
    },
    {
     "cell_type": "code",
     "collapsed": false,
     "input": [
      "# Look at the words in the dict\n",
      "words_docfreq = gensim_helpers.get_words_docfreq(dictionary)\n",
      "words_docfreq.head()"
     ],
     "language": "python",
     "metadata": {},
     "outputs": [
      {
       "html": [
        "<div style=\"max-height:1000px;max-width:1500px;overflow:auto;\">\n",
        "<table border=\"1\" class=\"dataframe\">\n",
        "  <thead>\n",
        "    <tr style=\"text-align: right;\">\n",
        "      <th></th>\n",
        "      <th>tokenid</th>\n",
        "      <th>docfreq</th>\n",
        "    </tr>\n",
        "  </thead>\n",
        "  <tbody>\n",
        "    <tr>\n",
        "      <th>out</th>\n",
        "      <td> 71130</td>\n",
        "      <td> 57414</td>\n",
        "    </tr>\n",
        "    <tr>\n",
        "      <th>made</th>\n",
        "      <td> 37045</td>\n",
        "      <td> 56389</td>\n",
        "    </tr>\n",
        "    <tr>\n",
        "      <th>now</th>\n",
        "      <td> 53861</td>\n",
        "      <td> 54971</td>\n",
        "    </tr>\n",
        "    <tr>\n",
        "      <th>two</th>\n",
        "      <td> 41694</td>\n",
        "      <td> 54938</td>\n",
        "    </tr>\n",
        "    <tr>\n",
        "      <th>action</th>\n",
        "      <td> 84108</td>\n",
        "      <td> 54648</td>\n",
        "    </tr>\n",
        "  </tbody>\n",
        "</table>\n",
        "</div>"
       ],
       "metadata": {},
       "output_type": "pyout",
       "prompt_number": 20,
       "text": [
        "        tokenid  docfreq\n",
        "out       71130    57414\n",
        "made      37045    56389\n",
        "now       53861    54971\n",
        "two       41694    54938\n",
        "action    84108    54648"
       ]
      }
     ],
     "prompt_number": 20
    },
    {
     "cell_type": "markdown",
     "metadata": {},
     "source": [
      "## Analyze topics for restricted data sets"
     ]
    },
    {
     "cell_type": "code",
     "collapsed": false,
     "input": [
      "# Load a SvmLightPlus corpus and save to disk\n",
      "corpus = gensim_helpers.SvmLightPlusCorpus.from_streamer_dict(streamer, dictionary, corpus_path)"
     ],
     "language": "python",
     "metadata": {},
     "outputs": [],
     "prompt_number": 21
    },
    {
     "cell_type": "code",
     "collapsed": false,
     "input": [
      "# Create a new corpus with only carter documents\n",
      "corpus_carter = gensim_helpers.SvmLightPlusCorpus(corpus_path, doc_id_filter=carter_ids)"
     ],
     "language": "python",
     "metadata": {},
     "outputs": [],
     "prompt_number": 45
    },
    {
     "cell_type": "code",
     "collapsed": false,
     "input": [
      "lda = models.LdaModel(corpus_carter, id2word=dictionary, num_topics=5, passes=3, chunksize=8000)"
     ],
     "language": "python",
     "metadata": {},
     "outputs": [],
     "prompt_number": 47
    },
    {
     "cell_type": "code",
     "collapsed": false,
     "input": [
      "for t in xrange(lda.num_topics):\n",
      "    print('topic %s' % t)\n",
      "    print(lda.print_topic(t, topn=7))"
     ],
     "language": "python",
     "metadata": {},
     "outputs": [
      {
       "output_type": "stream",
       "stream": "stdout",
       "text": [
        "topic 0\n",
        "0.010*shadrin + 0.007*intelligence + 0.006*cia + 0.005*soviet + 0.005*washington + 0.004*mr + 0.004*house\n",
        "topic 1\n",
        "0.005*government + 0.005*political + 0.004*release + 0.004*foreign + 0.004*policy + 0.004*soviet + 0.004*approved\n",
        "topic 2\n",
        "0.006*military + 0.006*force + 0.005*air + 0.005*training + 0.005*mission + 0.004*general + 0.004*intelligence\n",
        "topic 3\n",
        "0.004*text + 0.004*relations + 0.004*secretary + 0.004*secret + 0.004*meeting + 0.004*chinese + 0.004*soviet\n",
        "topic 4\n",
        "0.015*soviet + 0.009*defense + 0.008*release + 0.008*approved + 0.006*military + 0.006*percent + 0.005*forces\n"
       ]
      }
     ],
     "prompt_number": 48
    },
    {
     "cell_type": "code",
     "collapsed": false,
     "input": [
      "# Create a new corpus with only nixon documents\n",
      "corpus_nixon = gensim_helpers.SvmLightPlusCorpus(corpus_path, doc_id_filter=nixon_ids)\n",
      "lda = models.LdaModel(corpus_nixon, id2word=dictionary, num_topics=5, passes=3)"
     ],
     "language": "python",
     "metadata": {},
     "outputs": [],
     "prompt_number": 52
    },
    {
     "cell_type": "code",
     "collapsed": false,
     "input": [
      "for t in xrange(lda.num_topics):\n",
      "    print('topic %s' % t)\n",
      "    print(lda.print_topic(t, topn=7))"
     ],
     "language": "python",
     "metadata": {},
     "outputs": [
      {
       "output_type": "stream",
       "stream": "stdout",
       "text": [
        "topic 0\n",
        "0.006*countries + 0.006*economic + 0.005*policy + 0.005*states + 0.004*united + 0.004*trade + 0.004*foreign\n",
        "topic 1\n",
        "0.009*mr + 0.008*kissinger + 0.006*out + 0.006*think + 0.005*top + 0.005*want + 0.005*now\n",
        "topic 2\n",
        "0.010*french + 0.008*military + 0.008*forces + 0.006*vietnam + 0.006*states + 0.005*united + 0.005*general\n",
        "topic 3\n",
        "0.006*text + 0.005*united + 0.005*states + 0.005*illegible + 0.004*government + 0.004*mr + 0.004*minister\n",
        "topic 4\n",
        "0.006*program + 0.005*national + 0.005*federal + 0.004*under + 0.004*programs + 0.004*new + 0.003*states\n"
       ]
      }
     ],
     "prompt_number": 54
    },
    {
     "cell_type": "code",
     "collapsed": false,
     "input": [
      "# Get a frame with topic scores for all docs\n",
      "topics_df = gensim_helpers.get_topics_df(corpus, lda)"
     ],
     "language": "python",
     "metadata": {},
     "outputs": [],
     "prompt_number": 55
    },
    {
     "cell_type": "code",
     "collapsed": false,
     "input": [
      "# This is the doc-by-doc topic scores.  This can be used to find cosine distance between docs\n",
      "topics_df.head()"
     ],
     "language": "python",
     "metadata": {},
     "outputs": [
      {
       "html": [
        "<div style=\"max-height:1000px;max-width:1500px;overflow:auto;\">\n",
        "<table border=\"1\" class=\"dataframe\">\n",
        "  <thead>\n",
        "    <tr style=\"text-align: right;\">\n",
        "      <th></th>\n",
        "      <th>topic_0</th>\n",
        "      <th>topic_1</th>\n",
        "      <th>topic_2</th>\n",
        "      <th>topic_3</th>\n",
        "      <th>topic_4</th>\n",
        "    </tr>\n",
        "    <tr>\n",
        "      <th>doc_id</th>\n",
        "      <th></th>\n",
        "      <th></th>\n",
        "      <th></th>\n",
        "      <th></th>\n",
        "      <th></th>\n",
        "    </tr>\n",
        "  </thead>\n",
        "  <tbody>\n",
        "    <tr>\n",
        "      <th>203522</th>\n",
        "      <td> 0.968993</td>\n",
        "      <td> 0.000000</td>\n",
        "      <td> 0.000000</td>\n",
        "      <td> 0.022855</td>\n",
        "      <td> 0.000000</td>\n",
        "    </tr>\n",
        "    <tr>\n",
        "      <th>210679</th>\n",
        "      <td> 0.333655</td>\n",
        "      <td> 0.284794</td>\n",
        "      <td> 0.050252</td>\n",
        "      <td> 0.000000</td>\n",
        "      <td> 0.330941</td>\n",
        "    </tr>\n",
        "    <tr>\n",
        "      <th>205931</th>\n",
        "      <td> 0.000000</td>\n",
        "      <td> 0.133802</td>\n",
        "      <td> 0.092086</td>\n",
        "      <td> 0.772075</td>\n",
        "      <td> 0.000000</td>\n",
        "    </tr>\n",
        "    <tr>\n",
        "      <th>292915</th>\n",
        "      <td> 0.336099</td>\n",
        "      <td> 0.618505</td>\n",
        "      <td> 0.000000</td>\n",
        "      <td> 0.023786</td>\n",
        "      <td> 0.017883</td>\n",
        "    </tr>\n",
        "    <tr>\n",
        "      <th>290433</th>\n",
        "      <td> 0.172216</td>\n",
        "      <td> 0.046617</td>\n",
        "      <td> 0.058449</td>\n",
        "      <td> 0.721021</td>\n",
        "      <td> 0.000000</td>\n",
        "    </tr>\n",
        "  </tbody>\n",
        "</table>\n",
        "</div>"
       ],
       "metadata": {},
       "output_type": "pyout",
       "prompt_number": 56,
       "text": [
        "         topic_0   topic_1   topic_2   topic_3   topic_4\n",
        "doc_id                                                  \n",
        "203522  0.968993  0.000000  0.000000  0.022855  0.000000\n",
        "210679  0.333655  0.284794  0.050252  0.000000  0.330941\n",
        "205931  0.000000  0.133802  0.092086  0.772075  0.000000\n",
        "292915  0.336099  0.618505  0.000000  0.023786  0.017883\n",
        "290433  0.172216  0.046617  0.058449  0.721021  0.000000"
       ]
      }
     ],
     "prompt_number": 56
    },
    {
     "cell_type": "code",
     "collapsed": false,
     "input": [
      "# Consistent with the flat prior, topics are more-or-less distributed evenly\n",
      "topics_df.mean()"
     ],
     "language": "python",
     "metadata": {},
     "outputs": [
      {
       "metadata": {},
       "output_type": "pyout",
       "prompt_number": 57,
       "text": [
        "topic_0    0.203761\n",
        "topic_1    0.145299\n",
        "topic_2    0.142916\n",
        "topic_3    0.352185\n",
        "topic_4    0.153257\n",
        "dtype: float64"
       ]
      }
     ],
     "prompt_number": 57
    },
    {
     "cell_type": "code",
     "collapsed": false,
     "input": [
      "# Reality check:  Topics for each doc sum to 1 (almost)\n",
      "topics_df.sum(axis=1).describe()"
     ],
     "language": "python",
     "metadata": {},
     "outputs": [
      {
       "metadata": {},
       "output_type": "pyout",
       "prompt_number": 59,
       "text": [
        "count    117509.000000\n",
        "mean          0.997418\n",
        "std           0.003374\n",
        "min           0.961320\n",
        "25%           0.996520\n",
        "50%           0.998747\n",
        "75%           0.999611\n",
        "max           1.000000\n",
        "dtype: float64"
       ]
      }
     ],
     "prompt_number": 59
    },
    {
     "cell_type": "code",
     "collapsed": false,
     "input": [],
     "language": "python",
     "metadata": {},
     "outputs": []
    }
   ],
   "metadata": {}
  }
 ]
}