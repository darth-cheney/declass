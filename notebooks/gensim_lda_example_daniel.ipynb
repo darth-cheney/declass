{
 "metadata": {
  "name": ""
 },
 "nbformat": 3,
 "nbformat_minor": 0,
 "worksheets": [
  {
   "cells": [
    {
     "cell_type": "markdown",
     "metadata": {},
     "source": [
      "# Gensim example\n",
      "\n",
      "* The [gensim tutorial](http://radimrehurek.com/gensim/tut1.html) shows you many ways of doing things...and gives reasons and explanations.\n",
      "* This notebook gives a step-by-step cookbook that will work if have a directory structure with flat files\n",
      "  * Use IPython's object introspection and help displays to learn about the objects created\n",
      "  * The custom classes are located in the `declass` repo, so you can also look at the source code."
     ]
    },
    {
     "cell_type": "markdown",
     "metadata": {},
     "source": [
      "---\n",
      "\n",
      "## Set up\n",
      "\n",
      "---"
     ]
    },
    {
     "cell_type": "code",
     "collapsed": false,
     "input": [
      "import os\n",
      "\n",
      "import pandas as pd\n",
      "import matplotlib.pylab as plt\n",
      "\n",
      "from gensim import corpora, models, similarities\n",
      "import gensim\n",
      "\n",
      "from rosetta.text.streamers import TextFileStreamer\n",
      "from rosetta.text import text_processors, filefilter, gensim_helpers, nlp"
     ],
     "language": "python",
     "metadata": {},
     "outputs": [],
     "prompt_number": 33
    },
    {
     "cell_type": "code",
     "collapsed": false,
     "input": [
      "# Every time you change the source code you need to reload it\n",
      "reload(text_processors)\n",
      "reload(filefilter)\n",
      "reload(gensim_helpers)"
     ],
     "language": "python",
     "metadata": {},
     "outputs": [
      {
       "metadata": {},
       "output_type": "pyout",
       "prompt_number": 34,
       "text": [
        "<module 'rosetta.text.gensim_helpers' from '/Users/danielkrasner/anaconda/lib/python2.7/site-packages/rosetta/text/gensim_helpers.pyc'>"
       ]
      }
     ],
     "prompt_number": 34
    },
    {
     "cell_type": "code",
     "collapsed": false,
     "input": [
      "# Set paths         \n",
      "# I use environment variables to set my base paths\n",
      "DATA = os.environ['DATA']                                                                 \n",
      "ME = os.environ['ME']                                                                     \n",
      "MYDATA = os.path.join(DATA, ME, 'declass', 'ddrs-01')                                           \n",
      "RAW = os.path.join(MYDATA, 'raw')                                                         \n",
      "PROCESSED = os.path.join(MYDATA, 'processed')\n",
      "\n",
      "# You only need to set these paths below...any way you can\n",
      "metafile_path = os.path.join(RAW, 'ddrs_meta.csv')\n",
      "text_base_path = os.path.join(RAW, 'ddrs')\n",
      "corpus_path = os.path.join(PROCESSED, 'corpus', 'ddrs-gensim.svmlight')"
     ],
     "language": "python",
     "metadata": {},
     "outputs": [],
     "prompt_number": 35
    },
    {
     "cell_type": "markdown",
     "metadata": {},
     "source": [
      "---\n",
      "\n",
      "## Making a dictionary and a corpus\n",
      "\n",
      "* In gensim, a *dictionary* stores the mapping between strings (e.g. the words in text) and their integer representation (tokenid).  This can be accessed via `dictionary.token2id`.  It also has a function `doc2bow` that transforms tokens to a *bag of words*.\n",
      "* In gensim, a *bag of words* is a list of tuples $$[(tokenid_1, value_1),...,(tokenid_k, value_k)]$$ where $tokenid_j$ is an integer, and $value_k$ is a real number.\n",
      "* In gensim, a *corpus* is an [iterable](http://stackoverflow.com/questions/9884132/understanding-pythons-iterator-iterable-and-iteration-protocols-what-exact) over *bag of words* representations of documents.\n",
      "\n",
      "---"
     ]
    },
    {
     "cell_type": "code",
     "collapsed": false,
     "input": [
      "# Limit analysis to these lines of the corpus.  This is very useful for learning.\n",
      "# Set == None for no limit.  Set to 5000 to finish in a reasonable amount of time.\n",
      "limit = 2000"
     ],
     "language": "python",
     "metadata": {},
     "outputs": [],
     "prompt_number": 36
    },
    {
     "cell_type": "code",
     "collapsed": false,
     "input": [
      "# The tokenizer turns strings of text such as \"hi bye\" into lists of tokens, e.g. ['hi', 'bye']\n",
      "# You can add your own tokenizers to text_processors.  Give them the same API as TokenizerBasic.\n",
      "tokenizer = text_processors.TokenizerBasic()"
     ],
     "language": "python",
     "metadata": {},
     "outputs": [],
     "prompt_number": 37
    },
    {
     "cell_type": "code",
     "collapsed": false,
     "input": [
      "# Define a TokenStreamer over a set of paths\n",
      "# token_stream will read text from each path and return tokens\n",
      "#path_iter = filefilter.get_paths(text_base_path, get_iter=True)\n",
      "text_stream = TextFileStreamer(text_base_path, tokenizer=tokenizer, limit=limit)\n",
      "token_stream = text_stream.token_stream()"
     ],
     "language": "python",
     "metadata": {},
     "outputs": [],
     "prompt_number": 38
    },
    {
     "cell_type": "code",
     "collapsed": false,
     "input": [
      "# Convert the token stream into a dictionary\n",
      "# Note that nothing was read from disk until this point!  \n",
      "# Previously, we had simply defined iterators over files, \n",
      "# but we only here do we tell the iterators to start their iterations.\n",
      "dictionary = corpora.Dictionary(token_stream)\n",
      "print dictionary"
     ],
     "language": "python",
     "metadata": {},
     "outputs": [
      {
       "output_type": "stream",
       "stream": "stdout",
       "text": [
        "Dictionary(25400 unique tokens)\n"
       ]
      }
     ],
     "prompt_number": 39
    },
    {
     "cell_type": "code",
     "collapsed": false,
     "input": [
      "dictionary.dfs?"
     ],
     "language": "python",
     "metadata": {},
     "outputs": [],
     "prompt_number": 161
    },
    {
     "cell_type": "code",
     "collapsed": false,
     "input": [
      "# Filter extreme words using the built-in method filter_extremes()\n",
      "dictionary.filter_extremes()\n",
      "\n",
      "# You can also do a custom filter, e.g.\n",
      "# Remove some words that occur less than 5 times from dict:\n",
      "low_freq_ids = [tokenid for tokenid, docfreq in dictionary.dfs.iteritems() if docfreq < 5]\n",
      "dictionary.filter_tokens(low_freq_ids)"
     ],
     "language": "python",
     "metadata": {},
     "outputs": [],
     "prompt_number": 40
    },
    {
     "cell_type": "code",
     "collapsed": false,
     "input": [
      "# Compactify and save to disk\n",
      "# ALWAYS compactify since this removes gaps and allows for a decent matrix representation (useful later)\n",
      "dictionary.compactify()\n",
      "dictionary.save(os.path.join(PROCESSED, 'dict', 'ddrs.dict'))\n",
      "print dictionary"
     ],
     "language": "python",
     "metadata": {},
     "outputs": [
      {
       "output_type": "stream",
       "stream": "stdout",
       "text": [
        "Dictionary(5343 unique tokens)\n"
       ]
      }
     ],
     "prompt_number": 41
    },
    {
     "cell_type": "code",
     "collapsed": false,
     "input": [
      "gensim_helpers.StreamerCorpus?"
     ],
     "language": "python",
     "metadata": {},
     "outputs": [],
     "prompt_number": 47
    },
    {
     "cell_type": "code",
     "collapsed": false,
     "input": [
      "# Create and then serialize (save to disk in a compact format) a corpus\n",
      "text_stream = TextFileStreamer(text_base_path, tokenizer=tokenizer, limit=limit)\n",
      "token_stream = text_stream.token_stream()\n",
      "corpus = gensim_helpers.StreamerCorpus(text_stream, dictionary, limit=limit)\n",
      "corpora.SvmLightCorpus.serialize(corpus_path, corpus)"
     ],
     "language": "python",
     "metadata": {},
     "outputs": [],
     "prompt_number": 49
    },
    {
     "cell_type": "markdown",
     "metadata": {},
     "source": [
      "## Do some EDA on the dictionary\n",
      "\n",
      "* You could also modify the dictionary here"
     ]
    },
    {
     "cell_type": "code",
     "collapsed": false,
     "input": [
      "id2token = dict(dictionary.items())  # dictionary.id2token is not populated by default!!!\n",
      "words = pd.DataFrame(\n",
      "                {id2token[tokenid]: [tokenid, docfreq] \n",
      "                 for tokenid, docfreq in dictionary.dfs.iteritems()},\n",
      "                index=['tokenid', 'docfreq']).T"
     ],
     "language": "python",
     "metadata": {},
     "outputs": [],
     "prompt_number": 50
    },
    {
     "cell_type": "code",
     "collapsed": false,
     "input": [
      "words = words.sort_index(by='docfreq', ascending=False)\n",
      "words.head()"
     ],
     "language": "python",
     "metadata": {},
     "outputs": [
      {
       "html": [
        "<div style=\"max-height:1000px;max-width:1500px;overflow:auto;\">\n",
        "<table border=\"1\" class=\"dataframe\">\n",
        "  <thead>\n",
        "    <tr style=\"text-align: right;\">\n",
        "      <th></th>\n",
        "      <th>tokenid</th>\n",
        "      <th>docfreq</th>\n",
        "    </tr>\n",
        "  </thead>\n",
        "  <tbody>\n",
        "    <tr>\n",
        "      <th>secret</th>\n",
        "      <td> 3446</td>\n",
        "      <td> 756</td>\n",
        "    </tr>\n",
        "    <tr>\n",
        "      <th>library</th>\n",
        "      <td> 1034</td>\n",
        "      <td> 645</td>\n",
        "    </tr>\n",
        "    <tr>\n",
        "      <th>copy</th>\n",
        "      <td> 1825</td>\n",
        "      <td> 629</td>\n",
        "    </tr>\n",
        "    <tr>\n",
        "      <th>such</th>\n",
        "      <td> 1564</td>\n",
        "      <td> 461</td>\n",
        "    </tr>\n",
        "    <tr>\n",
        "      <th>military</th>\n",
        "      <td>  142</td>\n",
        "      <td> 436</td>\n",
        "    </tr>\n",
        "  </tbody>\n",
        "</table>\n",
        "</div>"
       ],
       "metadata": {},
       "output_type": "pyout",
       "prompt_number": 51,
       "text": [
        "          tokenid  docfreq\n",
        "secret       3446      756\n",
        "library      1034      645\n",
        "copy         1825      629\n",
        "such         1564      461\n",
        "military      142      436"
       ]
      }
     ],
     "prompt_number": 51
    },
    {
     "cell_type": "code",
     "collapsed": false,
     "input": [
      "# Log plot of distribution shows rapidly decaying tail\n",
      "words.docfreq.apply(np.log10).hist(bins=200)"
     ],
     "language": "python",
     "metadata": {},
     "outputs": [
      {
       "metadata": {},
       "output_type": "pyout",
       "prompt_number": 52,
       "text": [
        "<matplotlib.axes.AxesSubplot at 0x125c76e50>"
       ]
      },
      {
       "metadata": {
        "png": {
         "height": 255,
         "width": 378
        }
       },
       "output_type": "display_data",
       "png": "[encoded data removed]",
       "text": [
        "<matplotlib.figure.Figure at 0x125c76750>"
       ]
      }
     ],
     "prompt_number": 52
    },
    {
     "cell_type": "markdown",
     "metadata": {},
     "source": [
      "## Simple topic modeling"
     ]
    },
    {
     "cell_type": "code",
     "collapsed": false,
     "input": [
      "# Load the corpus from disk \n",
      "# You should start all analysis with this step\n",
      "corpus = corpora.SvmLightCorpus(corpus_path)"
     ],
     "language": "python",
     "metadata": {},
     "outputs": [],
     "prompt_number": 53
    },
    {
     "cell_type": "markdown",
     "metadata": {},
     "source": [
      "## LSI"
     ]
    },
    {
     "cell_type": "code",
     "collapsed": false,
     "input": [
      "lsi = models.LsiModel(corpus, id2word=dictionary, num_topics=2)"
     ],
     "language": "python",
     "metadata": {},
     "outputs": [],
     "prompt_number": 169
    },
    {
     "cell_type": "code",
     "collapsed": false,
     "input": [
      "lsi.print_topics(2)"
     ],
     "language": "python",
     "metadata": {},
     "outputs": [
      {
       "metadata": {},
       "output_type": "pyout",
       "prompt_number": 170,
       "text": [
        "['0.161*\"soviet\" + 0.153*\"forces\" + 0.153*\"military\" + 0.153*\"units\" + 0.150*\"army\" + 0.149*\"secret\" + 0.142*\"control\" + 0.138*\"chinese\" + 0.135*\"general\" + 0.131*\"north\"',\n",
        " '-0.257*\"fnu\" + -0.255*\"formerly\" + -0.237*\"missile\" + 0.180*\"chinese\" + 0.177*\"china\" + 0.173*\"government\" + -0.171*\"ing\" + -0.167*\"engineer\" + 0.149*\"communist\" + -0.148*\"secret\"']"
       ]
      }
     ],
     "prompt_number": 170
    },
    {
     "cell_type": "markdown",
     "metadata": {},
     "source": [
      "## LDA"
     ]
    },
    {
     "cell_type": "code",
     "collapsed": false,
     "input": [
      "num_words = len(dictionary.items())"
     ],
     "language": "python",
     "metadata": {},
     "outputs": [],
     "prompt_number": 54
    },
    {
     "cell_type": "code",
     "collapsed": false,
     "input": [
      "# Standard settings\n",
      "alpha = None # same as alpha = 1\n",
      "eta = None  # same as eta = 1\n",
      "num_topics = 100"
     ],
     "language": "python",
     "metadata": {},
     "outputs": [],
     "prompt_number": 55
    },
    {
     "cell_type": "code",
     "collapsed": false,
     "input": [
      "# Screwball alpha setting\n",
      "# pdf(topic) is peaked near 1 for topic 0, and uniform in topics 1 to 4\n",
      "# ...so topic 1 is the most likely topic.  See the histogram of df_corpus below\n",
      "alpha = [10, 1, 1, 1, 1]\n",
      "eta = None"
     ],
     "language": "python",
     "metadata": {},
     "outputs": [],
     "prompt_number": 56
    },
    {
     "cell_type": "code",
     "collapsed": false,
     "input": [
      "# Screwball eta setting\n",
      "# pdf(word | topic) is peaked near 1 for word 0, and near 0 for the other words\n",
      "# so word 0 is the most likely word.  You can find \"word 0\" using dictionary.id2token[0] \n",
      "# See the topic printout below and you should find that word 0 is in every topic!\n",
      "alpha = None\n",
      "eta = np.r_[1000, 0.1 * np.ones(num_words - 1)]"
     ],
     "language": "python",
     "metadata": {},
     "outputs": [],
     "prompt_number": 57
    },
    {
     "cell_type": "code",
     "collapsed": false,
     "input": [
      "dictionary.id2token[0]"
     ],
     "language": "python",
     "metadata": {},
     "outputs": [
      {
       "metadata": {},
       "output_type": "pyout",
       "prompt_number": 58,
       "text": [
        "'limited'"
       ]
      }
     ],
     "prompt_number": 58
    },
    {
     "cell_type": "code",
     "collapsed": false,
     "input": [
      "# Train the LDA model\n",
      "lda = models.LdaModel(corpus, id2word=dictionary, num_topics=num_topics, passes=1, alpha=alpha, eta=eta, chunksize=4000)"
     ],
     "language": "python",
     "metadata": {},
     "outputs": [],
     "prompt_number": 59
    },
    {
     "cell_type": "code",
     "collapsed": true,
     "input": [
      "# Print the top 6 words for every topic\n",
      "for i in range(num_topics):\n",
      "    print\n",
      "    print \"topic\", i\n",
      "    print lda.print_topic(i, topn=6)"
     ],
     "language": "python",
     "metadata": {},
     "outputs": [
      {
       "output_type": "stream",
       "stream": "stdout",
       "text": [
        "\n",
        "topic 0\n",
        "0.286*limited + 0.024*mr + 0.004*secret + 0.004*president + 0.003*meeting + 0.003*secretary\n",
        "\n",
        "topic 1\n",
        "0.305*limited + 0.004*chinese + 0.004*secret + 0.003*states + 0.003*state + 0.003*soviet\n",
        "\n",
        "topic 2\n",
        "0.210*limited + 0.005*secret + 0.004*soviet + 0.004*support + 0.003*military + 0.003*new\n",
        "\n",
        "topic 3\n",
        "0.226*limited + 0.008*secret + 0.005*military + 0.005*soviet + 0.005*security + 0.004*nato\n",
        "\n",
        "topic 4\n",
        "0.304*limited + 0.003*secret + 0.003*political + 0.003*confidential + 0.002*soviet + 0.002*think\n",
        "\n",
        "topic 5\n",
        "0.264*limited + 0.007*secret + 0.005*president + 0.005*secretary + 0.004*defense + 0.003*security\n",
        "\n",
        "topic 6\n",
        "0.293*limited + 0.005*million + 0.004*secret + 0.003*during + 0.003*over + 0.002*party\n",
        "\n",
        "topic 7\n",
        "0.293*limited + 0.005*secret + 0.003*president + 0.003*state + 0.003*more + 0.003*copy\n",
        "\n",
        "topic 8\n",
        "0.413*limited + 0.005*mr + 0.003*secret + 0.002*copy + 0.002*june + 0.002*two\n",
        "\n",
        "topic 9\n",
        "0.365*limited + 0.003*secret + 0.003*state + 0.003*out + 0.003*program + 0.002*confidential\n",
        "\n",
        "topic 10\n",
        "0.373*limited + 0.004*secret + 0.004*president + 0.003*soviet + 0.003*united + 0.003*information\n",
        "\n",
        "topic 11\n",
        "0.233*limited + 0.004*action + 0.004*secret + 0.004*text + 0.004*soviet + 0.004*military\n",
        "\n",
        "topic 12\n",
        "0.329*limited + 0.004*secret + 0.004*states + 0.003*united + 0.003*both + 0.003*secretary\n",
        "\n",
        "topic 13\n",
        "0.220*limited + 0.006*government + 0.004*political + 0.004*secret + 0.004*communist + 0.003*forces\n",
        "\n",
        "topic 14\n",
        "0.251*limited + 0.005*intelligence + 0.005*president + 0.005*security + 0.004*state + 0.004*secretary\n",
        "\n",
        "topic 15\n",
        "0.323*limited + 0.003*more + 0.003*meeting + 0.003*military + 0.003*forces + 0.003*president\n",
        "\n",
        "topic 16\n",
        "0.429*limited + 0.003*secret + 0.002*communist + 0.002*states + 0.002*more + 0.002*party\n",
        "\n",
        "topic 17\n",
        "0.289*limited + 0.004*soviet + 0.004*secret + 0.004*security + 0.003*confidential + 0.003*communist\n",
        "\n",
        "topic 18\n",
        "0.450*limited + 0.003*secret + 0.003*secretary + 0.003*minister + 0.003*united + 0.003*agreement\n",
        "\n",
        "topic 19\n",
        "0.232*limited + 0.007*military + 0.006*text + 0.005*illegible + 0.005*security + 0.004*national\n",
        "\n",
        "topic 20\n",
        "0.299*limited + 0.005*secret + 0.004*government + 0.003*secretary + 0.003*top + 0.003*states\n",
        "\n",
        "topic 21\n",
        "0.294*limited + 0.004*program + 0.004*military + 0.004*secret + 0.003*secretary + 0.003*security\n",
        "\n",
        "topic 22\n",
        "0.312*limited + 0.005*secret + 0.004*state + 0.003*military + 0.003*secretary + 0.003*general\n",
        "\n",
        "topic 23\n",
        "0.286*limited + 0.010*mr + 0.004*secret + 0.004*state + 0.004*more + 0.003*security\n",
        "\n",
        "topic 24\n",
        "0.285*limited + 0.007*secret + 0.004*copy + 0.004*library + 0.003*state + 0.003*million"
       ]
      },
      {
       "output_type": "stream",
       "stream": "stdout",
       "text": [
        "\n",
        "\n",
        "topic 25\n",
        "0.289*limited + 0.005*president + 0.004*mr + 0.003*defense + 0.003*secret + 0.003*date\n",
        "\n",
        "topic 26\n",
        "0.326*limited + 0.005*mr + 0.004*defense + 0.003*secret + 0.003*national + 0.003*military\n",
        "\n",
        "topic 27\n",
        "0.299*limited + 0.004*political + 0.003*soviet + 0.003*nsc + 0.003*policy + 0.003*secret\n",
        "\n",
        "topic 28\n",
        "0.328*limited + 0.003*communist + 0.003*secret + 0.003*party + 0.002*military + 0.002*one\n",
        "\n",
        "topic 29\n",
        "0.248*limited + 0.005*military + 0.005*world + 0.005*secretary + 0.004*president + 0.003*secret\n",
        "\n",
        "topic 30\n",
        "0.239*limited + 0.004*secret + 0.004*president + 0.004*library + 0.003*mr + 0.003*government\n",
        "\n",
        "topic 31\n",
        "0.369*limited + 0.004*military + 0.004*operations + 0.004*secret + 0.004*under + 0.003*assistance\n",
        "\n",
        "topic 32\n",
        "0.259*limited + 0.006*secret + 0.005*states + 0.005*united + 0.004*top + 0.004*security\n",
        "\n",
        "topic 33\n",
        "0.385*limited + 0.004*secret + 0.004*gen + 0.003*copy + 0.003*army + 0.003*illegible\n",
        "\n",
        "topic 34\n",
        "0.223*limited + 0.006*communist + 0.005*secret + 0.005*states + 0.004*united + 0.004*top\n",
        "\n",
        "topic 35\n",
        "0.293*limited + 0.006*secret + 0.006*priority + 0.004*mr + 0.004*secretary + 0.004*date\n",
        "\n",
        "topic 36\n",
        "0.355*limited + 0.003*one + 0.003*secret + 0.003*copy + 0.003*total + 0.002*top\n",
        "\n",
        "topic 37\n",
        "0.279*limited + 0.006*mr + 0.004*military + 0.004*general + 0.003*secret + 0.003*soviet\n",
        "\n",
        "topic 38\n",
        "0.317*limited + 0.005*time + 0.004*secret + 0.003*against + 0.003*military + 0.002*more\n",
        "\n",
        "topic 39\n",
        "0.271*limited + 0.007*mr + 0.005*secret + 0.005*chinese + 0.004*state + 0.003*secretary\n",
        "\n",
        "topic 40\n",
        "0.260*limited + 0.024*illegible + 0.023*text + 0.004*president + 0.003*secret + 0.003*police\n",
        "\n",
        "topic 41\n",
        "0.227*limited + 0.006*secret + 0.005*states + 0.004*united + 0.004*forces + 0.004*government\n",
        "\n",
        "topic 42\n",
        "0.336*limited + 0.005*party + 0.005*communist + 0.004*secret + 0.004*president + 0.003*mr\n",
        "\n",
        "topic 43\n",
        "0.253*limited + 0.004*soviet + 0.004*secret + 0.004*nuclear + 0.003*such + 0.003*program\n",
        "\n",
        "topic 44\n",
        "0.305*limited + 0.005*state + 0.004*secret + 0.003*president + 0.003*united + 0.003*city\n",
        "\n",
        "topic 45\n",
        "0.406*limited + 0.005*secret + 0.003*new + 0.002*corps + 0.002*united + 0.002*data\n",
        "\n",
        "topic 46\n",
        "0.191*limited + 0.006*states + 0.005*secret + 0.005*united + 0.004*soviet + 0.004*such\n",
        "\n",
        "topic 47\n",
        "0.366*limited + 0.014*forces + 0.004*armed + 0.004*local + 0.003*army + 0.003*secret\n",
        "\n",
        "topic 48\n",
        "0.364*limited + 0.009*mr + 0.004*secret + 0.004*president + 0.003*intelligence + 0.003*state"
       ]
      },
      {
       "output_type": "stream",
       "stream": "stdout",
       "text": [
        "\n",
        "\n",
        "topic 49\n",
        "0.323*limited + 0.005*secret + 0.004*communist + 0.004*soviet + 0.003*agents + 0.003*unclassified\n",
        "\n",
        "topic 50\n",
        "0.187*limited + 0.005*secret + 0.005*more + 0.004*security + 0.004*copy + 0.004*forces\n",
        "\n",
        "topic 51\n",
        "0.211*limited + 0.006*states + 0.006*united + 0.006*secret + 0.004*forces + 0.003*new\n",
        "\n",
        "topic 52\n",
        "0.212*limited + 0.005*president + 0.005*secret + 0.005*secretary + 0.004*states + 0.003*state\n",
        "\n",
        "topic 53\n",
        "0.391*limited + 0.003*action + 0.003*north + 0.002*reports + 0.002*forces + 0.002*secret\n",
        "\n",
        "topic 54\n",
        "0.357*limited + 0.003*mr + 0.003*united + 0.003*states + 0.003*soviet + 0.003*secret\n",
        "\n",
        "topic 55\n",
        "0.305*limited + 0.003*united + 0.003*general + 0.003*soviet + 0.003*secret + 0.003*president\n",
        "\n",
        "topic 56\n",
        "0.341*limited + 0.005*soviet + 0.005*secret + 0.003*national + 0.003*president + 0.002*nuclear\n",
        "\n",
        "topic 57\n",
        "0.221*limited + 0.006*time + 0.004*secretary + 0.004*general + 0.004*secret + 0.004*air\n",
        "\n",
        "topic 58\n",
        "0.257*limited + 0.005*secret + 0.004*president + 0.004*states + 0.004*forces + 0.003*military\n",
        "\n",
        "topic 59\n",
        "0.328*limited + 0.005*mr + 0.004*secret + 0.004*air + 0.003*june + 0.003*copy\n",
        "\n",
        "topic 60\n",
        "0.271*limited + 0.006*military + 0.005*forces + 0.005*soviet + 0.004*secret + 0.004*mr\n",
        "\n",
        "topic 61\n",
        "0.413*limited + 0.004*soviet + 0.002*secret + 0.002*uk + 0.002*war + 0.002*more\n",
        "\n",
        "topic 62\n",
        "0.265*limited + 0.004*soviet + 0.003*state + 0.003*department + 0.003*united + 0.003*president\n",
        "\n",
        "topic 63\n",
        "0.332*limited + 0.003*states + 0.003*united + 0.003*secret + 0.003*bombers + 0.002*two\n",
        "\n",
        "topic 64\n",
        "0.178*limited + 0.007*secret + 0.006*soviet + 0.004*copy + 0.004*library + 0.004*such\n",
        "\n",
        "topic 65\n",
        "0.358*limited + 0.003*secret + 0.003*two + 0.003*action + 0.002*states + 0.002*dollars\n",
        "\n",
        "topic 66\n",
        "0.302*limited + 0.003*united + 0.003*million + 0.003*states + 0.003*china + 0.003*soviet\n",
        "\n",
        "topic 67\n",
        "0.406*limited + 0.004*action + 0.003*defense + 0.002*foreign + 0.002*confidential + 0.002*states\n",
        "\n",
        "topic 68\n",
        "0.368*limited + 0.003*secret + 0.002*two + 0.002*general + 0.002*soviet + 0.002*economic\n",
        "\n",
        "topic 69\n",
        "0.283*limited + 0.004*secret + 0.003*foreign + 0.003*report + 0.003*mr + 0.003*top\n",
        "\n",
        "topic 70\n",
        "0.335*limited + 0.007*secret + 0.004*range + 0.003*copy + 0.003*air + 0.003*defense\n",
        "\n",
        "topic 71\n",
        "0.273*limited + 0.007*secret + 0.003*time + 0.003*security + 0.003*confidential + 0.003*copy\n",
        "\n",
        "topic 72\n",
        "0.366*limited + 0.005*united + 0.004*states + 0.004*secret + 0.003*military + 0.002*new\n",
        "\n",
        "topic 73\n",
        "0.294*limited + 0.006*secret + 0.005*forces + 0.004*mr + 0.004*states + 0.004*united"
       ]
      },
      {
       "output_type": "stream",
       "stream": "stdout",
       "text": [
        "\n",
        "\n",
        "topic 74\n",
        "0.351*limited + 0.003*security + 0.003*such + 0.002*both + 0.002*one + 0.002*secret\n",
        "\n",
        "topic 75\n",
        "0.202*limited + 0.006*secret + 0.006*soviet + 0.006*forces + 0.006*military + 0.004*force\n",
        "\n",
        "topic 76\n",
        "0.335*limited + 0.004*states + 0.004*secret + 0.003*equipment + 0.003*technical + 0.003*value\n",
        "\n",
        "topic 77\n",
        "0.414*limited + 0.003*secret + 0.002*column + 0.002*community + 0.002*copy + 0.002*library\n",
        "\n",
        "topic 78\n",
        "0.300*limited + 0.005*secret + 0.004*million + 0.004*forces + 0.003*program + 0.003*defense\n",
        "\n",
        "topic 79\n",
        "0.255*limited + 0.005*text + 0.005*illegible + 0.004*one + 0.004*forces + 0.003*secret\n",
        "\n",
        "topic 80\n",
        "0.401*limited + 0.006*president + 0.004*secret + 0.003*new + 0.003*confidential + 0.003*meeting\n",
        "\n",
        "topic 81\n",
        "0.260*limited + 0.004*secret + 0.004*force + 0.004*air + 0.004*united + 0.003*two\n",
        "\n",
        "topic 82\n",
        "0.377*limited + 0.003*secret + 0.003*military + 0.003*soviet + 0.003*men + 0.002*national\n",
        "\n",
        "topic 83\n",
        "0.416*limited + 0.004*secret + 0.003*now + 0.003*canal + 0.002*weapons + 0.002*support\n",
        "\n",
        "topic 84\n",
        "0.295*limited + 0.006*government + 0.004*military + 0.003*probably + 0.003*economic + 0.003*secret\n",
        "\n",
        "topic 85\n",
        "0.298*limited + 0.009*secret + 0.004*top + 0.004*action + 0.003*general + 0.003*united\n",
        "\n",
        "topic 86\n",
        "0.368*limited + 0.003*secret + 0.003*more + 0.003*library + 0.002*states + 0.002*confidential\n",
        "\n",
        "topic 87\n",
        "0.255*limited + 0.015*yes + 0.008*nsc + 0.005*secret + 0.005*action + 0.004*state\n",
        "\n",
        "topic 88\n",
        "0.257*limited + 0.010*illegible + 0.009*text + 0.004*government + 0.004*confidential + 0.003*secret\n",
        "\n",
        "topic 89\n",
        "0.305*limited + 0.003*targets + 0.003*more + 0.003*program + 0.003*secret + 0.003*aircraft\n",
        "\n",
        "topic 90\n",
        "0.334*limited + 0.006*secret + 0.004*copy + 0.004*text + 0.004*illegible + 0.004*library\n",
        "\n",
        "topic 91\n",
        "0.340*limited + 0.004*such + 0.003*united + 0.003*agency + 0.003*time + 0.003*security\n",
        "\n",
        "topic 92\n",
        "0.198*limited + 0.006*secret + 0.004*such + 0.004*government + 0.003*party + 0.003*united\n",
        "\n",
        "topic 93\n",
        "0.261*limited + 0.004*military + 0.003*secret + 0.003*year + 0.003*south + 0.003*economic\n",
        "\n",
        "topic 94\n",
        "0.243*limited + 0.006*secret + 0.004*military + 0.004*air + 0.003*out + 0.003*general\n",
        "\n",
        "topic 95\n",
        "0.207*limited + 0.007*secret + 0.005*soviet + 0.004*american + 0.004*forces + 0.003*such\n",
        "\n",
        "topic 96\n",
        "0.240*limited + 0.007*secret + 0.006*forces + 0.004*top + 0.003*such + 0.003*soviet\n",
        "\n",
        "topic 97\n",
        "0.320*limited + 0.004*security + 0.004*united + 0.004*states + 0.004*national + 0.003*joint"
       ]
      },
      {
       "output_type": "stream",
       "stream": "stdout",
       "text": [
        "\n",
        "\n",
        "topic 98\n",
        "0.289*limited + 0.010*secret + 0.005*forces + 0.004*general + 0.004*intelligence + 0.003*president\n",
        "\n",
        "topic 99\n",
        "0.233*limited + 0.006*secret + 0.004*state + 0.004*new + 0.003*countries + 0.003*library\n"
       ]
      }
     ],
     "prompt_number": 63
    },
    {
     "cell_type": "code",
     "collapsed": false,
     "input": [
      "# Print the topic distribution for the first document in the corpus\n",
      "one_doc = corpus.docbyoffset(corpus.index[10])\n",
      "vec_lda = lda[one_doc]\n",
      "print vec_lda"
     ],
     "language": "python",
     "metadata": {},
     "outputs": [
      {
       "output_type": "stream",
       "stream": "stdout",
       "text": [
        "[(39, 0.035951940543396094), (50, 0.12322954476324682), (51, 0.098773125060803088), (63, 0.18034611634904385), (66, 0.55011390742984934)]\n"
       ]
      }
     ],
     "prompt_number": 65
    },
    {
     "cell_type": "code",
     "collapsed": false,
     "input": [
      "sum([a[1] for a in vec_lda])"
     ],
     "language": "python",
     "metadata": {},
     "outputs": [
      {
       "metadata": {},
       "output_type": "pyout",
       "prompt_number": 67,
       "text": [
        "0.98841463414633912"
       ]
      }
     ],
     "prompt_number": 67
    },
    {
     "cell_type": "code",
     "collapsed": false,
     "input": [
      "# Store the topic score for every doc in the corpus\n",
      "df_corpus = pd.concat([pd.Series(dict(doc)) for doc in lda[corpus]], axis=1).fillna(0).T"
     ],
     "language": "python",
     "metadata": {},
     "outputs": [],
     "prompt_number": 198
    },
    {
     "cell_type": "code",
     "collapsed": false,
     "input": [
      "# Look at histograms of each topic over the corpus\n",
      "fig = df_corpus.hist()"
     ],
     "language": "python",
     "metadata": {},
     "outputs": [
      {
       "metadata": {
        "png": {
         "height": 262,
         "width": 384
        }
       },
       "output_type": "display_data",
       "png": "[encoded data removed]",
       "text": [
        "<matplotlib.figure.Figure at 0x118391890>"
       ]
      }
     ],
     "prompt_number": 199
    },
    {
     "cell_type": "code",
     "collapsed": false,
     "input": [
      "# Look at similarity between one_doc and all the other docs in the corpus\n",
      "# MatrixSimilarity uses a regular matrix...not good for memory\n",
      "# See http://radimrehurek.com/gensim/tut3.html  for different similarity matrix types (e.g. sparse)\n",
      "#\n",
      "# Of course this doc is most similar (score = 1) with itself.\n",
      "index = similarities.MatrixSimilarity(lda[corpus])\n",
      "doc_zero = corpus.docbyoffset(corpus.index[0])\n",
      "sims = index[lda[doc_zero]]\n",
      "print sims[:5]"
     ],
     "language": "python",
     "metadata": {},
     "outputs": [
      {
       "output_type": "stream",
       "stream": "stdout",
       "text": [
        "[ 1.  0.  0.  0.  0.]\n"
       ]
      }
     ],
     "prompt_number": 68
    },
    {
     "cell_type": "code",
     "collapsed": false,
     "input": [
      "pd.Series(sims).hist(bins=100)"
     ],
     "language": "python",
     "metadata": {},
     "outputs": [
      {
       "metadata": {},
       "output_type": "pyout",
       "prompt_number": 71,
       "text": [
        "<matplotlib.axes.AxesSubplot at 0x11aa34850>"
       ]
      },
      {
       "metadata": {
        "png": {
         "height": 255,
         "width": 384
        }
       },
       "output_type": "display_data",
       "png": "[encoded data removed]",
       "text": [
        "<matplotlib.figure.Figure at 0x11aa3f350>"
       ]
      }
     ],
     "prompt_number": 71
    },
    {
     "cell_type": "code",
     "collapsed": false,
     "input": [
      "text = \"\"\"\n",
      "  EXECUTIVE OFFICE OF THE PRESIDENT \n",
      "  OFFICE OF MANAGEMENT AND BUDGET \n",
      "  WASHINGTON, D.C. 20503 \n",
      "  MEMORANDUM FOR: THE PRESIDENT \n",
      "  FROM: JAMES T. LYNN \n",
      "  SUBJECT. Presidential Determination for Bangladesh \n",
      "  to waive prohibitions in the Agricultural \n",
      "  Trade Development and Assistance Act of \n",
      "  1954 (P.L. 480) on trade with Cuba \n",
      "  Acting Secretary of State Robert S. Ingersoll recommends that \n",
      "  you make the Presidential Determination necessary for a \n",
      "  continuation of P.L. 480 Title I assistance to Bangladesh \n",
      "  in the event that Bangladesh undertakes to trade with Cuba. \n",
      "  The proposed assistance is consistent with the budget. \n",
      "  I concur with the Acting Secretary of State that you make the \n",
      "  proposed Presidential Determination for Bangladesh. \n",
      "   *FOOTER*  \n",
      "  392 \n",
      "  CONFIDENTIAL \n",
      "  15/10/76 \n",
      "  THE PRESIDENT HAS SEEN...., \n",
      "  ?? \n",
      "  CONFIDENTIAL - GDS \n",
      "  KBH 5/10/90 \n",
      "  PHOTOCOPY FROM GERALD FORD LIBRARY \n",
      "  \"\"\""
     ],
     "language": "python",
     "metadata": {},
     "outputs": [],
     "prompt_number": 89
    },
    {
     "cell_type": "code",
     "collapsed": true,
     "input": [
      "tokens = tokenizer.text_to_token_list(text)\n",
      "new_doc = dictionary.doc2bow(tokens)"
     ],
     "language": "python",
     "metadata": {},
     "outputs": [],
     "prompt_number": 104
    },
    {
     "cell_type": "code",
     "collapsed": false,
     "input": [
      "new_doc"
     ],
     "language": "python",
     "metadata": {},
     "outputs": [
      {
       "metadata": {},
       "output_type": "pyout",
       "prompt_number": 112,
       "text": [
        "[(74, 1),\n",
        " (78, 2),\n",
        " (276, 3),\n",
        " (307, 2),\n",
        " (547, 1),\n",
        " (689, 2),\n",
        " (877, 2),\n",
        " (938, 2),\n",
        " (1034, 1),\n",
        " (1154, 1),\n",
        " (1375, 3),\n",
        " (1534, 2),\n",
        " (1589, 1),\n",
        " (1665, 1),\n",
        " (1705, 1),\n",
        " (1957, 1),\n",
        " (1988, 2),\n",
        " (2100, 1),\n",
        " (2461, 1),\n",
        " (2630, 2),\n",
        " (2922, 3),\n",
        " (2941, 1),\n",
        " (3017, 1),\n",
        " (3026, 1),\n",
        " (3259, 1),\n",
        " (3288, 1),\n",
        " (3475, 3),\n",
        " (3546, 1),\n",
        " (4476, 1),\n",
        " (4582, 1),\n",
        " (4681, 1),\n",
        " (4733, 1),\n",
        " (5056, 1),\n",
        " (5172, 1),\n",
        " (5247, 2),\n",
        " (5322, 3)]"
       ]
      }
     ],
     "prompt_number": 112
    },
    {
     "cell_type": "code",
     "collapsed": false,
     "input": [
      "lda[[(74, 1)]]"
     ],
     "language": "python",
     "metadata": {},
     "outputs": [
      {
       "metadata": {},
       "output_type": "pyout",
       "prompt_number": 114,
       "text": [
        "[(85, 0.50499999999896661)]"
       ]
      }
     ],
     "prompt_number": 114
    },
    {
     "cell_type": "code",
     "collapsed": false,
     "input": [
      "# Compare a new doc to the existing docs\n",
      "# This time, store the similarity in a pandas Series for easy plotting\n",
      "#new_doc = dictionary.doc2bow(['hello', 'my', 'name', 'is', 'richard', 'nixon'])\n",
      "new_doc_sims = pd.Series(index[lda[new_doc]])\n",
      "fig = new_doc_sims.hist()"
     ],
     "language": "python",
     "metadata": {},
     "outputs": [
      {
       "metadata": {
        "png": {
         "height": 255,
         "width": 384
        }
       },
       "output_type": "display_data",
       "png": "[encoded data removed]",
       "text": [
        "<matplotlib.figure.Figure at 0x118fa6b50>"
       ]
      }
     ],
     "prompt_number": 115
    },
    {
     "cell_type": "code",
     "collapsed": false,
     "input": [
      "high_sim_docs = new_doc_sims[new_doc_sims>.6]"
     ],
     "language": "python",
     "metadata": {},
     "outputs": [],
     "prompt_number": 123
    },
    {
     "cell_type": "code",
     "collapsed": false,
     "input": [
      "high_sim_docs.index"
     ],
     "language": "python",
     "metadata": {},
     "outputs": [
      {
       "metadata": {},
       "output_type": "pyout",
       "prompt_number": 124,
       "text": [
        "Int64Index([44, 135, 180, 222, 470, 542, 621, 814, 823, 843, 884, 903, 927, 1245, 1266, 1339, 1733, 1751, 1817, 1988], dtype=int64)"
       ]
      }
     ],
     "prompt_number": 124
    },
    {
     "cell_type": "code",
     "collapsed": false,
     "input": [
      "#get high sim paths\n",
      "path_iter = filefilter.get_paths(text_base_path, get_iter=True)\n",
      "counter = 0\n",
      "for path in path_iter:\n",
      "    if counter in high_sim_docs.index:\n",
      "        print path\n",
      "    counter +=1"
     ],
     "language": "python",
     "metadata": {},
     "outputs": [
      {
       "output_type": "stream",
       "stream": "stdout",
       "text": [
        "/Users/danielkrasner/DATA_master/prod/declass/ddrs-01/raw/ddrs/200007/115.txt\n",
        "/Users/danielkrasner/DATA_master/prod/declass/ddrs-01/raw/ddrs/200007/54.txt\n",
        "/Users/danielkrasner/DATA_master/prod/declass/ddrs-01/raw/ddrs/200007/95.txt\n",
        "/Users/danielkrasner/DATA_master/prod/declass/ddrs-01/raw/ddrs/200011/24.txt\n",
        "/Users/danielkrasner/DATA_master/prod/declass/ddrs-01/raw/ddrs/200045/138.txt"
       ]
      },
      {
       "output_type": "stream",
       "stream": "stdout",
       "text": [
        "\n",
        "/Users/danielkrasner/DATA_master/prod/declass/ddrs-01/raw/ddrs/200045/202.txt\n",
        "/Users/danielkrasner/DATA_master/prod/declass/ddrs-01/raw/ddrs/200045/274.txt\n",
        "/Users/danielkrasner/DATA_master/prod/declass/ddrs-01/raw/ddrs/200046/6.txt\n",
        "/Users/danielkrasner/DATA_master/prod/declass/ddrs-01/raw/ddrs/200048/5.txt\n",
        "/Users/danielkrasner/DATA_master/prod/declass/ddrs-01/raw/ddrs/200053/5.txt\n",
        "/Users/danielkrasner/DATA_master/prod/declass/ddrs-01/raw/ddrs/200056/2.txt\n",
        "/Users/danielkrasner/DATA_master/prod/declass/ddrs-01/raw/ddrs/200062/3.txt\n",
        "/Users/danielkrasner/DATA_master/prod/declass/ddrs-01/raw/ddrs/200064/4.txt\n",
        "/Users/danielkrasner/DATA_master/prod/declass/ddrs-01/raw/ddrs/200068/37.txt\n",
        "/Users/danielkrasner/DATA_master/prod/declass/ddrs-01/raw/ddrs/200069/11.txt\n",
        "/Users/danielkrasner/DATA_master/prod/declass/ddrs-01/raw/ddrs/200069/176.txt\n",
        "/Users/danielkrasner/DATA_master/prod/declass/ddrs-01/raw/ddrs/200071/17.txt"
       ]
      },
      {
       "output_type": "stream",
       "stream": "stdout",
       "text": [
        "\n",
        "/Users/danielkrasner/DATA_master/prod/declass/ddrs-01/raw/ddrs/200071/33.txt\n",
        "/Users/danielkrasner/DATA_master/prod/declass/ddrs-01/raw/ddrs/200071/93.txt\n",
        "/Users/danielkrasner/DATA_master/prod/declass/ddrs-01/raw/ddrs/200083/1.txt\n"
       ]
      }
     ],
     "prompt_number": 125
    },
    {
     "cell_type": "markdown",
     "metadata": {},
     "source": [
      "---\n",
      "\n",
      "# Performance considerations\n",
      "\n",
      "* Walking through a directory structure and tokenizing every file is slow\n",
      "  * You can tokenize once (quickly) and then re-load these tokens\n",
      "\n",
      "* LDA is slow\n",
      "  * Not sure what to do...I am linked against MKL...maybe VW is the only way\n",
      "  \n",
      "---"
     ]
    },
    {
     "cell_type": "markdown",
     "metadata": {},
     "source": [
      "### Quick parallel tokenization\n",
      "\n",
      "Use the command line utility `cmd/files_to_vw.py` to tokenize and save to a sparse format.  Use the `n_jobs` option to do this in parallel.  Note that this utility requires the [parallel_easy](https://github.com/langmore/parallel_easy) library."
     ]
    },
    {
     "cell_type": "markdown",
     "metadata": {},
     "source": [
      "### Quick (VW) corpus streaming\n",
      "\n",
      "1. Use `VWFormatter.sfile_to_token_iter()` to convert the sparse files to a stream of token lists.\n",
      "2. Convert this stream to a dictionary\n",
      "3. Modify the dictionary if necessary\n",
      "4. Create the stream once again\n",
      "5. Serialize into the sparse SvmLightCorpus\n",
      "\n",
      "Note that we store the original corpus in VW format since this is much richer than SvmLight.  In particular, you can use actual strings to save the tokens, rather than tokenid (as required by SvmLight)."
     ]
    },
    {
     "cell_type": "code",
     "collapsed": false,
     "input": [
      "vw_corpus_path = os.path.join(PROCESSED, 'corpus', 'ddrs-vw')"
     ],
     "language": "python",
     "metadata": {},
     "outputs": [],
     "prompt_number": 323
    },
    {
     "cell_type": "code",
     "collapsed": false,
     "input": [
      "# Build a dictionary from a sparse (VW) representation of a corpus\n",
      "# About 2x faster than tokenizing on the fly using the BasicTokenizer\n",
      "# Even faster if your tokenizer is slow\n",
      "token_stream = text_processors.VWFormatter().sfile_to_token_iter(vw_corpus_path)\n",
      "dictionary = corpora.Dictionary(token_stream)"
     ],
     "language": "python",
     "metadata": {},
     "outputs": [],
     "prompt_number": 325
    },
    {
     "cell_type": "code",
     "collapsed": false,
     "input": [
      "# Note:  This interface is experimental\n",
      "token_stream = text_processors.VWFormatter().sfile_to_token_iter(vw_corpus_path)\n",
      "\n",
      "class MyCorpus(object):\n",
      "    \"\"\"\n",
      "    A simple corpus built with a dictionary and a token stream. \n",
      "    \"\"\"\n",
      "    def __init__(self, dictionary, token_stream):\n",
      "        self.token_stream = token_stream\n",
      "        self.dictionary = dictionary\n",
      "    \n",
      "    def __iter__(self):\n",
      "        \"\"\"\n",
      "        This method returns an iterator.\n",
      "        This method is automatically called when you use MyCorpus in a for loop.  The returned value becomes the loop iterator.\n",
      "        \"\"\"\n",
      "        for token_list in token_stream:\n",
      "            yield self.dictionary.doc2bow(token_list)\n",
      "\n",
      "%timeit -n1 -r1 corpora.SvmLightCorpus.serialize(corpus_path, MyCorpus(dictionary, token_stream))"
     ],
     "language": "python",
     "metadata": {},
     "outputs": [
      {
       "output_type": "stream",
       "stream": "stdout",
       "text": [
        "1 loops, best of 1: 5min 52s per loop\n"
       ]
      }
     ],
     "prompt_number": 340
    },
    {
     "cell_type": "markdown",
     "metadata": {},
     "source": [
      "## Similarities\n",
      "* Refer to [similarity doc](http://radimrehurek.com/gensim/similarities/docsim.html) for more infomration\n",
      " "
     ]
    },
    {
     "cell_type": "code",
     "collapsed": false,
     "input": [
      "#In case you have not run the above this session, load the dictionary and corpus from disk\n",
      "dictionary = corpora.Dictionary.load(os.path.join(PROCESSED, 'dict', 'ddrs.dict'))\n",
      "corpus = corpora.SvmLightCorpus(corpus_path)"
     ],
     "language": "python",
     "metadata": {},
     "outputs": [],
     "prompt_number": 67
    },
    {
     "cell_type": "code",
     "collapsed": false,
     "input": [
      "#first define an LSI space, with 2 topics\n",
      "lsi = models.LsiModel(corpus, id2word=dictionary, num_topics=2)\n",
      "lsi.print_topics(2)"
     ],
     "language": "python",
     "metadata": {},
     "outputs": [],
     "prompt_number": 68
    },
    {
     "cell_type": "code",
     "collapsed": false,
     "input": [
      "#pick a query or phrase and find how similar it is to the lsi topic \n",
      "query = 'Cold war threat'\n",
      "vec_bow = dictionary.doc2bow(query.lower().split())\n"
     ],
     "language": "python",
     "metadata": {},
     "outputs": [],
     "prompt_number": 86
    },
    {
     "cell_type": "code",
     "collapsed": false,
     "input": [
      "vec_lsi = lsi[vec_bow] # convert the query to LSI space"
     ],
     "language": "python",
     "metadata": {},
     "outputs": [],
     "prompt_number": 87
    },
    {
     "cell_type": "code",
     "collapsed": false,
     "input": [
      "print query\n",
      "print vec_lsi\n",
      "print lsi.print_topics(2) # it makes sense that the query is closer to topic 1 than 2"
     ],
     "language": "python",
     "metadata": {},
     "outputs": [
      {
       "output_type": "stream",
       "stream": "stdout",
       "text": [
        "Cold war threat\n",
        "[(0, 0.1058455024343392), (1, 0.036158438494315805)]\n",
        "['0.161*\"soviet\" + 0.153*\"forces\" + 0.153*\"military\" + 0.153*\"units\" + 0.150*\"army\" + 0.149*\"secret\" + 0.142*\"control\" + 0.138*\"chinese\" + 0.135*\"general\" + 0.131*\"north\"', '-0.257*\"fnu\" + -0.255*\"formerly\" + -0.237*\"missile\" + 0.180*\"chinese\" + 0.177*\"china\" + 0.173*\"government\" + -0.171*\"ing\" + -0.167*\"engineer\" + 0.149*\"communist\" + -0.148*\"secret\"']\n"
       ]
      }
     ],
     "prompt_number": 93
    },
    {
     "cell_type": "code",
     "collapsed": false,
     "input": [
      "# transform corpus to LSI space and index it\n",
      "index = similarities.MatrixSimilarity(lsi[corpus]) \n",
      "index.save(os.path.join(PROCESSED, 'sim_index','ddrs_sim.index'))"
     ],
     "language": "python",
     "metadata": {},
     "outputs": [],
     "prompt_number": 117
    },
    {
     "cell_type": "markdown",
     "metadata": {},
     "source": [
      "###note: \n",
      "    * using similarities.MatrixSimilarity stores the entire matrix in memory\n",
      "    * when working with a large set use the similarities.Similarity method which shards the index (uses similarities.MatrixSimilarity \n",
      "    and similarities.SparseMatrixSimilarity internally)\n"
     ]
    },
    {
     "cell_type": "code",
     "collapsed": false,
     "input": [
      "###if starting here, load the sim index from file\n",
      "index = similarities.MatrixSimilarity.load(os.path.join(PROCESSED, 'sim_index','ddrs_sim.index'))"
     ],
     "language": "python",
     "metadata": {},
     "outputs": [],
     "prompt_number": 118
    },
    {
     "cell_type": "code",
     "collapsed": true,
     "input": [
      "# lets look at similaries to our query\n",
      "sims = index[vec_lsi]\n",
      "sims = sorted(enumerate(sims), key=lambda item: -item[1]) # put into descending order if you like\n",
      "# print doc index and it's similarity score\n",
      "print list(enumerate(sims))[:10]"
     ],
     "language": "python",
     "metadata": {},
     "outputs": [
      {
       "output_type": "stream",
       "stream": "stdout",
       "text": [
        "[(0, (1246, 0.99999994)), (1, (9, 0.99999911)), (2, (1847, 0.99999863)), (3, (1900, 0.99999863)), (4, (1468, 0.99999785)), (5, (1801, 0.9999969)), (6, (1826, 0.99999678)), (7, (1795, 0.99999583)), (8, (1807, 0.99999309)), (9, (1929, 0.9999904))]\n"
       ]
      }
     ],
     "prompt_number": 151
    },
    {
     "cell_type": "code",
     "collapsed": false,
     "input": [
      "#look at the sim distribution\n",
      "pd.Series(sims).hist(bins=40, figsize=(15,5))"
     ],
     "language": "python",
     "metadata": {},
     "outputs": [
      {
       "metadata": {},
       "output_type": "pyout",
       "prompt_number": 137,
       "text": [
        "<matplotlib.axes.AxesSubplot at 0x11811c750>"
       ]
      },
      {
       "metadata": {
        "png": {
         "height": 307,
         "width": 880
        }
       },
       "output_type": "display_data",
       "png": "[encoded data removed]",
       "text": [
        "<matplotlib.figure.Figure at 0x11475ee90>"
       ]
      }
     ],
     "prompt_number": 137
    },
    {
     "cell_type": "code",
     "collapsed": true,
     "input": [
      "#retrieve all documents with similary score > .95\n",
      "high_sims = [(i, score) for i, score in enumerate(sims) if score >.95]\n",
      "high_sims"
     ],
     "language": "python",
     "metadata": {},
     "outputs": [
      {
       "metadata": {},
       "output_type": "pyout",
       "prompt_number": 145,
       "text": [
        "[(1, 0.99957252),\n",
        " (2, 0.99637115),\n",
        " (4, 0.99430466),\n",
        " (5, 0.96128106),\n",
        " (6, 0.99676079),\n",
        " (7, 0.99773276),\n",
        " (9, 0.99999911),\n",
        " (10, 0.96443456),\n",
        " (11, 0.96591181),\n",
        " (14, 0.99048162),\n",
        " (15, 0.99660909),\n",
        " (16, 0.99739939),\n",
        " (17, 0.99577338),\n",
        " (18, 0.99995691),\n",
        " (20, 0.99831194),\n",
        " (21, 0.96833807),\n",
        " (23, 0.99340355),\n",
        " (27, 0.98083007),\n",
        " (28, 0.99812263),\n",
        " (29, 0.99582803),\n",
        " (30, 0.99938995),\n",
        " (31, 0.99301887),\n",
        " (32, 0.9969914),\n",
        " (33, 0.9878282),\n",
        " (34, 0.98797464),\n",
        " (35, 0.99296546),\n",
        " (36, 0.99718726),\n",
        " (37, 0.99090499),\n",
        " (38, 0.99550849),\n",
        " (39, 0.99354875),\n",
        " (40, 0.97309422),\n",
        " (41, 0.98527104),\n",
        " (42, 0.98275214),\n",
        " (43, 0.97512287),\n",
        " (44, 0.98632759),\n",
        " (45, 0.97052056),\n",
        " (46, 0.96553373),\n",
        " (47, 0.99183553),\n",
        " (48, 0.97165263),\n",
        " (49, 0.99277788),\n",
        " (50, 0.95458108),\n",
        " (51, 0.99883467),\n",
        " (52, 0.98829198),\n",
        " (53, 0.99978924),\n",
        " (54, 0.99867165),\n",
        " (55, 0.99829507),\n",
        " (56, 0.99744368),\n",
        " (57, 0.99440217),\n",
        " (58, 0.98950428),\n",
        " (59, 0.98552126),\n",
        " (60, 0.99983728),\n",
        " (61, 0.97686702),\n",
        " (62, 0.96168268),\n",
        " (65, 0.95041531),\n",
        " (75, 0.95116132),\n",
        " (76, 0.96208423),\n",
        " (81, 0.96308845),\n",
        " (82, 0.99919474),\n",
        " (83, 0.99273407),\n",
        " (84, 0.98581004),\n",
        " (85, 0.9966473),\n",
        " (86, 0.95496511),\n",
        " (87, 0.99063486),\n",
        " (88, 0.982252),\n",
        " (89, 0.99224269),\n",
        " (90, 0.97046232),\n",
        " (91, 0.99823266),\n",
        " (93, 0.98233217),\n",
        " (94, 0.98947537),\n",
        " (95, 0.977337),\n",
        " (96, 0.98210973),\n",
        " (98, 0.99533242),\n",
        " (99, 0.96651804),\n",
        " (101, 0.98356354),\n",
        " (102, 0.99774158),\n",
        " (103, 0.95094943),\n",
        " (104, 0.9592973),\n",
        " (106, 0.97242796),\n",
        " (107, 0.99021113),\n",
        " (110, 0.95267642),\n",
        " (112, 0.9689244),\n",
        " (113, 0.98619616),\n",
        " (115, 0.9548865),\n",
        " (117, 0.99921906),\n",
        " (120, 0.97252333),\n",
        " (121, 0.95130914),\n",
        " (124, 0.96141958),\n",
        " (125, 0.95077896),\n",
        " (126, 0.97927976),\n",
        " (127, 0.96732104),\n",
        " (130, 0.99927992),\n",
        " (131, 0.99843931),\n",
        " (132, 0.96862829),\n",
        " (133, 0.98590338),\n",
        " (134, 0.99732941),\n",
        " (135, 0.99963653),\n",
        " (136, 0.99711591),\n",
        " (137, 0.97422802),\n",
        " (138, 0.99981141),\n",
        " (139, 0.99979949),\n",
        " (140, 0.98454314),\n",
        " (141, 0.99899912),\n",
        " (142, 0.98958677),\n",
        " (143, 0.98868835),\n",
        " (144, 0.99997604),\n",
        " (145, 0.99851269),\n",
        " (146, 0.99869061),\n",
        " (147, 0.99020445),\n",
        " (148, 0.99058592),\n",
        " (149, 0.99403387),\n",
        " (150, 0.95223641),\n",
        " (151, 0.98296839),\n",
        " (152, 0.99353755),\n",
        " (153, 0.9991889),\n",
        " (154, 0.96187139),\n",
        " (155, 0.98467094),\n",
        " (156, 0.99151069),\n",
        " (157, 0.9835465),\n",
        " (158, 0.97605479),\n",
        " (159, 0.97827101),\n",
        " (160, 0.98750913),\n",
        " (161, 0.99945056),\n",
        " (162, 0.99902314),\n",
        " (163, 0.99197328),\n",
        " (164, 0.97792447),\n",
        " (165, 0.98351055),\n",
        " (166, 0.99367529),\n",
        " (167, 0.99240446),\n",
        " (168, 0.98106229),\n",
        " (170, 0.97004694),\n",
        " (171, 0.96028042),\n",
        " (172, 0.9606595),\n",
        " (174, 0.98413014),\n",
        " (176, 0.97915459),\n",
        " (180, 0.95255291),\n",
        " (181, 0.99666184),\n",
        " (182, 0.96076548),\n",
        " (183, 0.99613595),\n",
        " (185, 0.99613017),\n",
        " (186, 0.98010272),\n",
        " (187, 0.99876356),\n",
        " (188, 0.99647242),\n",
        " (189, 0.96326065),\n",
        " (190, 0.98675287),\n",
        " (191, 0.99992967),\n",
        " (192, 0.99316484),\n",
        " (193, 0.99868417),\n",
        " (194, 0.99996054),\n",
        " (195, 0.99889582),\n",
        " (196, 0.99907678),\n",
        " (198, 0.99767196),\n",
        " (200, 0.97846204),\n",
        " (201, 0.98986137),\n",
        " (202, 0.99446362),\n",
        " (206, 0.99322045),\n",
        " (207, 0.99666613),\n",
        " (208, 0.9997009),\n",
        " (209, 0.98396444),\n",
        " (210, 0.98614311),\n",
        " (211, 0.9886266),\n",
        " (212, 0.98091888),\n",
        " (213, 0.97918737),\n",
        " (214, 0.98899859),\n",
        " (215, 0.99874687),\n",
        " (217, 0.99973691),\n",
        " (218, 0.99706507),\n",
        " (219, 0.99962884),\n",
        " (220, 0.98610294),\n",
        " (221, 0.99468267),\n",
        " (222, 0.97706425),\n",
        " (223, 0.99590456),\n",
        " (224, 0.99244124),\n",
        " (225, 0.99670959),\n",
        " (226, 0.9946838),\n",
        " (227, 0.99417967),\n",
        " (228, 0.99945509),\n",
        " (229, 0.99115068),\n",
        " (231, 0.96241266),\n",
        " (232, 0.99981511),\n",
        " (233, 0.99909031),\n",
        " (234, 0.98268443),\n",
        " (235, 0.9979589),\n",
        " (236, 0.99139309),\n",
        " (237, 0.98048204),\n",
        " (238, 0.98230791),\n",
        " (239, 0.99950266),\n",
        " (240, 0.98314899),\n",
        " (241, 0.99685061),\n",
        " (242, 0.99951386),\n",
        " (244, 0.98625302),\n",
        " (245, 0.99995863),\n",
        " (246, 0.99996215),\n",
        " (247, 0.99436259),\n",
        " (250, 0.99791867),\n",
        " (251, 0.96458858),\n",
        " (252, 0.96748936),\n",
        " (254, 0.99873698),\n",
        " (255, 0.98445606),\n",
        " (257, 0.9737612),\n",
        " (258, 0.98197109),\n",
        " (260, 0.98431474),\n",
        " (262, 0.99957138),\n",
        " (263, 0.99971169),\n",
        " (264, 0.99893498),\n",
        " (265, 0.99982446),\n",
        " (269, 0.99534941),\n",
        " (270, 0.99668813),\n",
        " (271, 0.97284245),\n",
        " (274, 0.98442882),\n",
        " (278, 0.97627693),\n",
        " (281, 0.97648233),\n",
        " (285, 0.96438849),\n",
        " (291, 0.99985749),\n",
        " (296, 0.99726737),\n",
        " (297, 0.99019283),\n",
        " (307, 0.98638016),\n",
        " (308, 0.97626674),\n",
        " (311, 0.99803764),\n",
        " (313, 0.99952495),\n",
        " (317, 0.98954785),\n",
        " (320, 0.97439331),\n",
        " (321, 0.99060214),\n",
        " (324, 0.97133523),\n",
        " (326, 0.99657327),\n",
        " (327, 0.98456407),\n",
        " (328, 0.97954381),\n",
        " (329, 0.99591136),\n",
        " (331, 0.98184168),\n",
        " (332, 0.97514009),\n",
        " (334, 0.98143917),\n",
        " (335, 0.98467767),\n",
        " (336, 0.98910517),\n",
        " (337, 0.98499024),\n",
        " (339, 0.99587172),\n",
        " (341, 0.98226655),\n",
        " (343, 0.98664963),\n",
        " (345, 0.95430189),\n",
        " (348, 0.98935199),\n",
        " (349, 0.98254728),\n",
        " (352, 0.99433923),\n",
        " (353, 0.95359403),\n",
        " (356, 0.99788326),\n",
        " (357, 0.9688375),\n",
        " (358, 0.98570752),\n",
        " (360, 0.95709318),\n",
        " (361, 0.97249246),\n",
        " (362, 0.96706462),\n",
        " (369, 0.97094798),\n",
        " (370, 0.96170539),\n",
        " (371, 0.95503235),\n",
        " (377, 0.98951548),\n",
        " (380, 0.97786176),\n",
        " (382, 0.98843426),\n",
        " (383, 0.95389956),\n",
        " (384, 0.97491348),\n",
        " (385, 0.95444286),\n",
        " (387, 0.99908),\n",
        " (388, 0.95368576),\n",
        " (390, 0.99227262),\n",
        " (392, 0.99309474),\n",
        " (393, 0.99768293),\n",
        " (394, 0.99790752),\n",
        " (395, 0.99736792),\n",
        " (396, 0.99792629),\n",
        " (398, 0.95274717),\n",
        " (401, 0.97011113),\n",
        " (410, 0.9998818),\n",
        " (413, 0.9932186),\n",
        " (414, 0.99668723),\n",
        " (415, 0.99238217),\n",
        " (416, 0.9902308),\n",
        " (418, 0.99484134),\n",
        " (421, 0.96994919),\n",
        " (422, 0.97421241),\n",
        " (423, 0.99413645),\n",
        " (424, 0.98952579),\n",
        " (425, 0.99759746),\n",
        " (822, 0.96574116),\n",
        " (823, 0.98606622),\n",
        " (832, 0.95269161),\n",
        " (833, 0.97820175),\n",
        " (864, 0.99221718),\n",
        " (875, 0.99927163),\n",
        " (876, 0.99903417),\n",
        " (877, 0.99992055),\n",
        " (878, 0.99398249),\n",
        " (879, 0.98192722),\n",
        " (880, 0.98806483),\n",
        " (883, 0.99581075),\n",
        " (885, 0.9905566),\n",
        " (886, 0.99930596),\n",
        " (888, 0.9998765),\n",
        " (889, 0.99474555),\n",
        " (890, 0.99977511),\n",
        " (891, 0.99277395),\n",
        " (892, 0.99900156),\n",
        " (893, 0.95830065),\n",
        " (895, 0.9509939),\n",
        " (902, 0.9754647),\n",
        " (903, 0.99922454),\n",
        " (905, 0.97524172),\n",
        " (906, 0.99219781),\n",
        " (909, 0.99506235),\n",
        " (910, 0.9945575),\n",
        " (911, 0.99291855),\n",
        " (912, 0.99788034),\n",
        " (913, 0.97736466),\n",
        " (914, 0.99180305),\n",
        " (915, 0.99948168),\n",
        " (916, 0.99578261),\n",
        " (917, 0.9949562),\n",
        " (918, 0.99772501),\n",
        " (919, 0.99909413),\n",
        " (920, 0.99936795),\n",
        " (921, 0.98952866),\n",
        " (922, 0.99094677),\n",
        " (923, 0.99918503),\n",
        " (924, 0.99435419),\n",
        " (925, 0.99842846),\n",
        " (926, 0.9965843),\n",
        " (927, 0.99606496),\n",
        " (928, 0.97721559),\n",
        " (929, 0.99979872),\n",
        " (930, 0.99993527),\n",
        " (931, 0.99810821),\n",
        " (1051, 0.98432755),\n",
        " (1055, 0.99596906),\n",
        " (1144, 0.9954114),\n",
        " (1146, 0.97642076),\n",
        " (1148, 0.99986529),\n",
        " (1150, 0.99780631),\n",
        " (1151, 0.99654937),\n",
        " (1152, 0.99991089),\n",
        " (1153, 0.99955451),\n",
        " (1166, 0.99865401),\n",
        " (1167, 0.99995869),\n",
        " (1168, 0.99964434),\n",
        " (1169, 0.99477822),\n",
        " (1170, 0.9793002),\n",
        " (1171, 0.99948859),\n",
        " (1173, 0.99760437),\n",
        " (1175, 0.99826491),\n",
        " (1176, 0.96121383),\n",
        " (1182, 0.995574),\n",
        " (1186, 0.97469163),\n",
        " (1187, 0.95074886),\n",
        " (1191, 0.99793869),\n",
        " (1192, 0.99187016),\n",
        " (1193, 0.98568571),\n",
        " (1194, 0.99442184),\n",
        " (1195, 0.97577941),\n",
        " (1196, 0.98979729),\n",
        " (1197, 0.98522985),\n",
        " (1198, 0.97953218),\n",
        " (1204, 0.99174279),\n",
        " (1209, 0.997105),\n",
        " (1211, 0.97673285),\n",
        " (1212, 0.96642911),\n",
        " (1215, 0.99051178),\n",
        " (1216, 0.97125697),\n",
        " (1221, 0.96365309),\n",
        " (1222, 0.98531812),\n",
        " (1224, 0.99979323),\n",
        " (1226, 0.97665036),\n",
        " (1229, 0.99825257),\n",
        " (1230, 0.99714214),\n",
        " (1231, 0.9946928),\n",
        " (1232, 0.98927444),\n",
        " (1233, 0.976987),\n",
        " (1234, 0.95915765),\n",
        " (1238, 0.99838096),\n",
        " (1239, 0.95768756),\n",
        " (1242, 0.99247533),\n",
        " (1243, 0.99082327),\n",
        " (1244, 0.97508007),\n",
        " (1245, 0.9994148),\n",
        " (1246, 0.99999994),\n",
        " (1248, 0.98972988),\n",
        " (1252, 0.96505606),\n",
        " (1254, 0.97068405),\n",
        " (1255, 0.99658155),\n",
        " (1256, 0.99942243),\n",
        " (1257, 0.96940541),\n",
        " (1258, 0.99721843),\n",
        " (1259, 0.9981969),\n",
        " (1260, 0.97280306),\n",
        " (1265, 0.97847605),\n",
        " (1267, 0.95747411),\n",
        " (1271, 0.99694806),\n",
        " (1272, 0.99997836),\n",
        " (1273, 0.99211681),\n",
        " (1274, 0.99046028),\n",
        " (1275, 0.98337162),\n",
        " (1276, 0.95761085),\n",
        " (1277, 0.98870379),\n",
        " (1278, 0.99709445),\n",
        " (1279, 0.99414009),\n",
        " (1280, 0.98208153),\n",
        " (1281, 0.99774599),\n",
        " (1283, 0.97250545),\n",
        " (1285, 0.98043132),\n",
        " (1287, 0.96671534),\n",
        " (1290, 0.9696064),\n",
        " (1294, 0.97434801),\n",
        " (1304, 0.97459316),\n",
        " (1309, 0.97199845),\n",
        " (1331, 0.95426106),\n",
        " (1337, 0.95517164),\n",
        " (1341, 0.99548864),\n",
        " (1342, 0.9567222),\n",
        " (1343, 0.96344638),\n",
        " (1344, 0.98212844),\n",
        " (1346, 0.97477502),\n",
        " (1347, 0.99018598),\n",
        " (1348, 0.97477502),\n",
        " (1349, 0.98646039),\n",
        " (1350, 0.99337149),\n",
        " (1351, 0.95207202),\n",
        " (1352, 0.9596231),\n",
        " (1354, 0.99929339),\n",
        " (1355, 0.95289117),\n",
        " (1357, 0.99910527),\n",
        " (1360, 0.99987),\n",
        " (1364, 0.99700701),\n",
        " (1365, 0.96115208),\n",
        " (1387, 0.98540497),\n",
        " (1398, 0.99850488),\n",
        " (1399, 0.98322552),\n",
        " (1400, 0.98005903),\n",
        " (1401, 0.96670032),\n",
        " (1402, 0.97698128),\n",
        " (1403, 0.95839471),\n",
        " (1404, 0.99385625),\n",
        " (1405, 0.99788225),\n",
        " (1406, 0.96212608),\n",
        " (1407, 0.97040462),\n",
        " (1408, 0.98999614),\n",
        " (1409, 0.99461037),\n",
        " (1412, 0.96090358),\n",
        " (1413, 0.98557371),\n",
        " (1416, 0.95758319),\n",
        " (1424, 0.97993129),\n",
        " (1425, 0.98338401),\n",
        " (1426, 0.96567732),\n",
        " (1427, 0.99342072),\n",
        " (1432, 0.96586508),\n",
        " (1434, 0.98600864),\n",
        " (1438, 0.97535503),\n",
        " (1439, 0.99028844),\n",
        " (1440, 0.97077829),\n",
        " (1443, 0.97795457),\n",
        " (1448, 0.96432978),\n",
        " (1449, 0.99757224),\n",
        " (1453, 0.99466658),\n",
        " (1454, 0.99953699),\n",
        " (1455, 0.9505502),\n",
        " (1458, 0.95049405),\n",
        " (1463, 0.99623054),\n",
        " (1464, 0.9986285),\n",
        " (1465, 0.99409807),\n",
        " (1466, 0.99749023),\n",
        " (1467, 0.99111497),\n",
        " (1468, 0.99999785),\n",
        " (1469, 0.99702644),\n",
        " (1470, 0.98826557),\n",
        " (1473, 0.9817304),\n",
        " (1474, 0.99671745),\n",
        " (1475, 0.9988721),\n",
        " (1476, 0.98395866),\n",
        " (1477, 0.97477192),\n",
        " (1478, 0.9818325),\n",
        " (1479, 0.99458307),\n",
        " (1480, 0.99116671),\n",
        " (1481, 0.96038276),\n",
        " (1483, 0.97954816),\n",
        " (1484, 0.98854899),\n",
        " (1486, 0.98868537),\n",
        " (1488, 0.97375083),\n",
        " (1489, 0.9720698),\n",
        " (1491, 0.99489498),\n",
        " (1492, 0.99409992),\n",
        " (1493, 0.95308167),\n",
        " (1494, 0.99728149),\n",
        " (1495, 0.95035434),\n",
        " (1500, 0.97847205),\n",
        " (1501, 0.96705943),\n",
        " (1504, 0.99087948),\n",
        " (1505, 0.97424835),\n",
        " (1506, 0.95665389),\n",
        " (1507, 0.9558568),\n",
        " (1510, 0.9511416),\n",
        " (1516, 0.98241872),\n",
        " (1519, 0.99980581),\n",
        " (1520, 0.98580819),\n",
        " (1521, 0.99280792),\n",
        " (1525, 0.98992836),\n",
        " (1526, 0.98813587),\n",
        " (1528, 0.98469031),\n",
        " (1529, 0.9749887),\n",
        " (1530, 0.99904042),\n",
        " (1531, 0.98427224),\n",
        " (1532, 0.98029333),\n",
        " (1533, 0.99782211),\n",
        " (1534, 0.98329985),\n",
        " (1536, 0.9633007),\n",
        " (1537, 0.97096455),\n",
        " (1538, 0.95667756),\n",
        " (1539, 0.9656859),\n",
        " (1540, 0.99723917),\n",
        " (1541, 0.99139845),\n",
        " (1542, 0.99249429),\n",
        " (1543, 0.97102273),\n",
        " (1544, 0.98606688),\n",
        " (1545, 0.96819973),\n",
        " (1546, 0.98392636),\n",
        " (1547, 0.99266571),\n",
        " (1548, 0.99033606),\n",
        " (1550, 0.99596632),\n",
        " (1551, 0.99749577),\n",
        " (1552, 0.99780548),\n",
        " (1560, 0.95017362),\n",
        " (1571, 0.96451753),\n",
        " (1575, 0.96427459),\n",
        " (1577, 0.99695098),\n",
        " (1578, 0.9585973),\n",
        " (1579, 0.95846981),\n",
        " (1580, 0.96931255),\n",
        " (1584, 0.98210549),\n",
        " (1591, 0.98637885),\n",
        " (1592, 0.97729915),\n",
        " (1594, 0.99956751),\n",
        " (1595, 0.9774003),\n",
        " (1599, 0.97263831),\n",
        " (1605, 0.96339023),\n",
        " (1609, 0.97348082),\n",
        " (1610, 0.96004945),\n",
        " (1612, 0.96219707),\n",
        " (1613, 0.97208929),\n",
        " (1614, 0.96366495),\n",
        " (1618, 0.95678294),\n",
        " (1620, 0.95701808),\n",
        " (1622, 0.96844524),\n",
        " (1623, 0.9982338),\n",
        " (1624, 0.96730679),\n",
        " (1625, 0.98833966),\n",
        " (1627, 0.95505512),\n",
        " (1628, 0.97796679),\n",
        " (1629, 0.98451293),\n",
        " (1630, 0.99361491),\n",
        " (1633, 0.97811824),\n",
        " (1634, 0.9585914),\n",
        " (1636, 0.96545237),\n",
        " (1638, 0.95290166),\n",
        " (1639, 0.97455209),\n",
        " (1640, 0.96097797),\n",
        " (1647, 0.98616379),\n",
        " (1648, 0.95295674),\n",
        " (1649, 0.99748635),\n",
        " (1650, 0.95901144),\n",
        " (1653, 0.96916378),\n",
        " (1654, 0.97127581),\n",
        " (1655, 0.97578043),\n",
        " (1656, 0.99890387),\n",
        " (1657, 0.99216056),\n",
        " (1659, 0.97008848),\n",
        " (1660, 0.96634012),\n",
        " (1661, 0.96662515),\n",
        " (1662, 0.97823125),\n",
        " (1663, 0.9713791),\n",
        " (1664, 0.95319188),\n",
        " (1665, 0.96504456),\n",
        " (1668, 0.99048883),\n",
        " (1669, 0.98838949),\n",
        " (1670, 0.99799103),\n",
        " (1671, 0.99721164),\n",
        " (1673, 0.98584384),\n",
        " (1674, 0.97395194),\n",
        " (1675, 0.98327702),\n",
        " (1676, 0.97217721),\n",
        " (1677, 0.98847485),\n",
        " (1678, 0.98812401),\n",
        " (1679, 0.99861878),\n",
        " (1680, 0.97853529),\n",
        " (1681, 0.99982101),\n",
        " (1682, 0.97135067),\n",
        " (1684, 0.96768564),\n",
        " (1686, 0.96633434),\n",
        " (1687, 0.95935386),\n",
        " (1689, 0.96903658),\n",
        " (1690, 0.99604011),\n",
        " (1691, 0.96754575),\n",
        " (1696, 0.98301697),\n",
        " (1697, 0.95557725),\n",
        " (1701, 0.9999429),\n",
        " (1702, 0.97084212),\n",
        " (1703, 0.98216391),\n",
        " (1704, 0.99840069),\n",
        " (1705, 0.95999926),\n",
        " (1706, 0.99510008),\n",
        " (1707, 0.99547279),\n",
        " (1708, 0.99847436),\n",
        " (1709, 0.99968952),\n",
        " (1710, 0.9999736),\n",
        " (1711, 0.99344903),\n",
        " (1712, 0.9952113),\n",
        " (1713, 0.99700254),\n",
        " (1714, 0.99978232),\n",
        " (1715, 0.99923539),\n",
        " (1716, 0.9993732),\n",
        " (1717, 0.97665632),\n",
        " (1718, 0.99379331),\n",
        " (1719, 0.9812904),\n",
        " (1720, 0.97606623),\n",
        " (1721, 0.99887258),\n",
        " (1722, 0.99965918),\n",
        " (1723, 0.99406773),\n",
        " (1724, 0.98301274),\n",
        " (1725, 0.99997318),\n",
        " (1726, 0.99070132),\n",
        " (1727, 0.9992764),\n",
        " (1728, 0.9974221),\n",
        " (1729, 0.99846733),\n",
        " (1730, 0.9984104),\n",
        " (1731, 0.99980903),\n",
        " (1732, 0.98885047),\n",
        " (1733, 0.97755867),\n",
        " (1734, 0.99051434),\n",
        " (1735, 0.99974203),\n",
        " (1736, 0.99630821),\n",
        " (1737, 0.97294712),\n",
        " (1738, 0.96749622),\n",
        " (1739, 0.99634165),\n",
        " (1740, 0.98213506),\n",
        " (1742, 0.97691303),\n",
        " (1743, 0.98277336),\n",
        " (1744, 0.98493934),\n",
        " (1745, 0.97698879),\n",
        " (1747, 0.98535138),\n",
        " (1748, 0.98119015),\n",
        " (1749, 0.98037624),\n",
        " (1750, 0.99285704),\n",
        " (1751, 0.95016605),\n",
        " (1752, 0.97661299),\n",
        " (1753, 0.97884858),\n",
        " (1754, 0.95989507),\n",
        " (1755, 0.99095386),\n",
        " (1756, 0.99698192),\n",
        " (1757, 0.98352659),\n",
        " (1758, 0.99920213),\n",
        " (1760, 0.95569158),\n",
        " (1762, 0.99361509),\n",
        " (1763, 0.97720492),\n",
        " (1764, 0.99580759),\n",
        " (1765, 0.99861526),\n",
        " (1766, 0.99976945),\n",
        " (1767, 0.99843103),\n",
        " (1768, 0.98923558),\n",
        " (1769, 0.99990141),\n",
        " (1770, 0.99900359),\n",
        " (1771, 0.99922717),\n",
        " (1772, 0.99633718),\n",
        " (1773, 0.9995752),\n",
        " (1774, 0.98990417),\n",
        " (1775, 0.99891293),\n",
        " (1776, 0.99016881),\n",
        " (1777, 0.98037815),\n",
        " (1778, 0.98641789),\n",
        " (1779, 0.98865592),\n",
        " (1780, 0.99819875),\n",
        " (1781, 0.98814315),\n",
        " (1784, 0.95589757),\n",
        " (1785, 0.97902822),\n",
        " (1786, 0.98961759),\n",
        " (1787, 0.98114121),\n",
        " (1788, 0.99119401),\n",
        " (1790, 0.99797255),\n",
        " (1791, 0.99326336),\n",
        " (1792, 0.96948737),\n",
        " (1793, 0.99955422),\n",
        " (1794, 0.99929476),\n",
        " (1795, 0.99999583),\n",
        " (1796, 0.99945885),\n",
        " (1797, 0.99878025),\n",
        " (1798, 0.99990332),\n",
        " (1799, 0.98497039),\n",
        " (1800, 0.9878419),\n",
        " (1801, 0.9999969),\n",
        " (1802, 0.99675161),\n",
        " (1803, 0.97887522),\n",
        " (1805, 0.99780476),\n",
        " (1806, 0.99918115),\n",
        " (1807, 0.99999309),\n",
        " (1808, 0.97020006),\n",
        " (1809, 0.98465735),\n",
        " (1810, 0.99811202),\n",
        " (1811, 0.99656665),\n",
        " (1812, 0.99701613),\n",
        " (1813, 0.99773735),\n",
        " (1814, 0.99839747),\n",
        " (1815, 0.96660638),\n",
        " (1816, 0.99428195),\n",
        " (1817, 0.99465412),\n",
        " (1818, 0.98339623),\n",
        " (1819, 0.985075),\n",
        " (1820, 0.99367487),\n",
        " (1821, 0.99996495),\n",
        " (1822, 0.97356528),\n",
        " (1824, 0.99780703),\n",
        " (1825, 0.98201811),\n",
        " (1826, 0.99999678),\n",
        " (1827, 0.98770827),\n",
        " (1828, 0.99898374),\n",
        " (1829, 0.97141576),\n",
        " (1830, 0.97985578),\n",
        " (1831, 0.9992367),\n",
        " (1832, 0.98057288),\n",
        " (1833, 0.97025412),\n",
        " (1834, 0.99791253),\n",
        " (1835, 0.98739588),\n",
        " (1836, 0.99940997),\n",
        " (1837, 0.96639049),\n",
        " (1838, 0.98868263),\n",
        " (1839, 0.99626279),\n",
        " (1840, 0.99890363),\n",
        " (1841, 0.98954904),\n",
        " (1843, 0.98986858),\n",
        " (1844, 0.99769992),\n",
        " (1845, 0.99241871),\n",
        " (1846, 0.9897567),\n",
        " (1847, 0.99999863),\n",
        " (1848, 0.99244994),\n",
        " (1849, 0.99977827),\n",
        " (1850, 0.99032307),\n",
        " (1851, 0.99947673),\n",
        " (1854, 0.99861491),\n",
        " (1855, 0.99867332),\n",
        " (1856, 0.99684995),\n",
        " (1858, 0.99115664),\n",
        " (1859, 0.98178959),\n",
        " (1860, 0.99247664),\n",
        " (1861, 0.99266142),\n",
        " (1862, 0.97114551),\n",
        " (1863, 0.96371067),\n",
        " (1864, 0.99144715),\n",
        " (1866, 0.95735461),\n",
        " (1867, 0.96917307),\n",
        " (1870, 0.97741944),\n",
        " (1871, 0.99862963),\n",
        " (1872, 0.96586365),\n",
        " (1873, 0.99994618),\n",
        " (1874, 0.97840774),\n",
        " (1875, 0.96221805),\n",
        " (1876, 0.99987733),\n",
        " (1877, 0.95633972),\n",
        " (1878, 0.9927687),\n",
        " (1879, 0.99531859),\n",
        " (1882, 0.99042034),\n",
        " (1883, 0.99995482),\n",
        " (1884, 0.99983048),\n",
        " (1885, 0.98861867),\n",
        " (1886, 0.98817986),\n",
        " (1888, 0.97999561),\n",
        " (1889, 0.99539328),\n",
        " (1891, 0.99570328),\n",
        " (1892, 0.99502468),\n",
        " (1893, 0.99990195),\n",
        " (1894, 0.99282616),\n",
        " (1895, 0.99147624),\n",
        " (1897, 0.9998737),\n",
        " (1898, 0.99799371),\n",
        " (1899, 0.99892008),\n",
        " (1900, 0.99999863),\n",
        " (1901, 0.99472558),\n",
        " (1902, 0.98923814),\n",
        " (1903, 0.99914366),\n",
        " (1904, 0.99969125),\n",
        " (1905, 0.99377155),\n",
        " (1906, 0.99927598),\n",
        " (1907, 0.99916399),\n",
        " (1908, 0.99746293),\n",
        " (1909, 0.97203773),\n",
        " (1910, 0.99946749),\n",
        " (1911, 0.99970305),\n",
        " (1912, 0.99405372),\n",
        " (1913, 0.99978781),\n",
        " (1914, 0.99881369),\n",
        " (1915, 0.98812836),\n",
        " (1916, 0.9882341),\n",
        " (1917, 0.99481803),\n",
        " (1919, 0.96999073),\n",
        " (1920, 0.99991894),\n",
        " (1922, 0.99315202),\n",
        " (1923, 0.99873126),\n",
        " (1924, 0.96708524),\n",
        " (1925, 0.99485183),\n",
        " (1926, 0.99545133),\n",
        " (1927, 0.99904644),\n",
        " (1928, 0.99820352),\n",
        " (1929, 0.9999904),\n",
        " (1930, 0.99978381),\n",
        " (1931, 0.96563756),\n",
        " (1932, 0.99001539),\n",
        " (1934, 0.9760083),\n",
        " (1935, 0.97335494),\n",
        " (1936, 0.96075869),\n",
        " (1938, 0.95677435),\n",
        " (1940, 0.99594873),\n",
        " (1941, 0.99843472),\n",
        " (1942, 0.9968214),\n",
        " (1943, 0.9603008),\n",
        " (1944, 0.99608886),\n",
        " (1945, 0.98386347),\n",
        " (1946, 0.98023993),\n",
        " (1949, 0.99932957),\n",
        " (1950, 0.99007994),\n",
        " (1952, 0.9814536),\n",
        " (1953, 0.98822784),\n",
        " (1955, 0.95848519),\n",
        " (1959, 0.99563211),\n",
        " (1960, 0.98807722),\n",
        " (1961, 0.99479723),\n",
        " (1962, 0.99992067),\n",
        " (1963, 0.99894488),\n",
        " (1964, 0.98746687),\n",
        " (1966, 0.98886323),\n",
        " (1968, 0.99252063),\n",
        " (1970, 0.99791372),\n",
        " (1974, 0.9888947),\n",
        " (1975, 0.9999336),\n",
        " (1977, 0.99949366),\n",
        " (1981, 0.99985361),\n",
        " (1986, 0.99552715),\n",
        " (1988, 0.9601751),\n",
        " (1989, 0.99256188),\n",
        " (1992, 0.99993593),\n",
        " (1993, 0.99552035),\n",
        " (1997, 0.99909949),\n",
        " (1999, 0.98939645)]"
       ]
      }
     ],
     "prompt_number": 145
    },
    {
     "cell_type": "code",
     "collapsed": false,
     "input": [
      "#lets actually look a a few of these docs\n",
      "path_iter = filefilter.get_paths(text_base_path, get_iter=True)\n",
      "texts = []\n",
      "i = 0\n",
      "for path in path_iter:\n",
      "    with open(path) as f:\n",
      "        text = f.read()\n",
      "        texts.append(text)\n",
      "        i+=1\n",
      "        if i==5: break\n",
      "#print texts      "
     ],
     "language": "python",
     "metadata": {},
     "outputs": [
      {
       "output_type": "stream",
       "stream": "stdout",
       "text": [
        "['  \\n', \"  \\n  \\n  PP WTES \\n  DE WTE 2 \\n  Received \\n  252316 \\n  Z \\n  DE ESI \\n  P 25225332 \\n  FM DIRECTOR CIA \\n  TO WHITE HOUSE \\n  PASS PRESIDENTIAL PARTY, AT HYANNISPORT, ATTENTION COL. MC HUGH, \\n  FOR DELIVERY TO PRESIDENT KENNEDY \\n  FOLLOWING MEMORANDUM ON QUADROS\\\\' RESIGNATION PREPARED BY CIA: \\n  \\n 1. QUADROS\\\\' ATTENTIONS TO THE CHE GUEVARA AND GAGARIN, AND \\n  MORE GENERALLY HIS MANIFEST TENDENCIES TO DRAW CLOSER TO THE \\n  BLOC, HAVE AROUSED STRONG EXPRESSIONS OF DISAPPROVAL FROM THE \\n  ARMY AND FROM CONSERVATIVE ELEMENTS IN BRAZIL. WE THINK IT \\n  LIKELY THAT HE RESIGNED IN THE EXPECTATION OF PROVOKING A STRONG \\n  MANIFESTATION OF POPULAR SUPPORT, IN RESPONSE TO WHICH HE WOULD \\n  PAGE 1 \\n   *FOOTER*  \\n  2 \\n  Received \\n  252316 Z \\n  CONFIDENTIAL \\n  Declassified by \\n  date 27 NOV 1975 \\n  \\n  \\n  \\n  \\n\", '  \\n  \\n  PAGE TWO WTE 2 \\n  RETURN TO OFFICE IN A BETTER POSITION AGAINST HIS OPPONENTS. \\n  (FIDEL CASTRO RESIGNED ONCE FOR THIS PURPOSE, AND PERON MORE THAN \\n  ONCE). ALTHOUGH THE HIGHER RANKS OF THE ARMY DISLIKE QUADROS, \\n  THEY WOULD IROBABLY NOT BLOCK. HIS RETURN IN SUCH CIRCUMSTANCES. \\n  \\n 2. IF QUADROS DOES NOT COME BACK, WE BELIEVE, THAT THE NEXT \\n  GOVERNMENT WILL FOLLOW CONSERVATIVE THOUGH NATIONALIST POLICIES, \\n  BECAUSE THE ARMY WILL NOT TOLERATE ANYTHING ELSE. \\n  \\n 3. VICE PRESIDENT GOULART, THE CONSTITUTIONAL SUCCESSOR, HAD \\n  JUST LEFT BY SEA FROM COMMUNIST CHINA, AND WILL, NOT BE ON HAND FOR \\n  AT LEAST A FEW DAYS. HE IS STRONGLY LEFTIST, AND THE ARMY, WOULD \\n  BE UNL IKELY TO ALLOW HIM TO EXERT REAL CONTROL OF BRAZILIAN POLICY. \\n  \\n 4. THE POSSIBILITY OF TROUBLE IN BRAZIL, DUE TO QUADROS\\\\\\' \\n  FLIRTATION WITH THE BLOC AND HIS TENDENCY TO HASTY AND DRAMATIC \\n  ACTION, HAS BEEN RECOGNIZED FOR SOME TIME; USIB DREW ATTENTION \\n  TO IT ON 24 AUGUST, IN A \"SURVEY OF COLD WAR CRISIS SITUATIONS\", \\n  AND IN A NATIONAL INTELLIGENCE ESTIMATE ON 8 AUGUST. \\n  \\n 1812 1812 \\n  25/23032 AUG \\n  \\n PAGE 2 \\n   *FOOTER*  \\n  CONFIDENTIAL \\n  CONFIDENTIAL \\n   \\n  \\n', '  \\n', \"  \\n  \\n  CENTRAL INTELLIGENCE AGENCY \\n  WASHINGTON 25. D. C. \\n  OFFICE OF THE DIRECTOR \\n  28 August 1961 \\n  MEMORANDUM \\n  SUBJECT: The Situation in Brazil \\n  \\n 1. The political situation in Brazil has deteriorated rapidly \\n  since the resignation of President Quadros on August 25. The \\n  causes for the resignation were probably various, and included \\n  the peculiar temperament of Quadros himself, who is known for \\n  hasty and dramatic moves. \\n  \\n 2. One contributing factor to Quadros resignation was the \\n  public allegation by the Governor of Guanabara (Rio de Janeiro) \\n  that Quadros was trying to strengthen his own power at the expense \\n  of the legislature. During the preceding week or two, moreover, \\n  there had been noticeably increased grumbling about Quadros\\\\' \\n  foreign policy, in particular his flirtation with the Communist bloc. \\n  \\n  *FOOTER*  \\n  SANITIZED COPY \\n  \\n  \\n  \\n  \\n\"]\n"
       ]
      }
     ],
     "prompt_number": 150
    },
    {
     "cell_type": "markdown",
     "metadata": {},
     "source": [
      "---\n",
      "\n",
      "# Scratch work\n",
      "\n",
      "---"
     ]
    },
    {
     "cell_type": "code",
     "collapsed": false,
     "input": [
      "print dictionary"
     ],
     "language": "python",
     "metadata": {},
     "outputs": [
      {
       "output_type": "stream",
       "stream": "stdout",
       "text": [
        "Dictionary(1461280 unique tokens)\n"
       ]
      }
     ],
     "prompt_number": 328
    },
    {
     "cell_type": "code",
     "collapsed": false,
     "input": [
      "dictionary.filter_extremes?"
     ],
     "language": "python",
     "metadata": {},
     "outputs": [],
     "prompt_number": 329
    },
    {
     "cell_type": "code",
     "collapsed": false,
     "input": [
      "dictionary.filter_extremes(no_below=5, no_above=0.5)"
     ],
     "language": "python",
     "metadata": {},
     "outputs": [],
     "prompt_number": 330
    },
    {
     "cell_type": "code",
     "collapsed": false,
     "input": [
      "print dictionary"
     ],
     "language": "python",
     "metadata": {},
     "outputs": [
      {
       "output_type": "stream",
       "stream": "stdout",
       "text": [
        "Dictionary(100000 unique tokens)\n"
       ]
      }
     ],
     "prompt_number": 331
    },
    {
     "cell_type": "code",
     "collapsed": false,
     "input": [
      "dictionary.filter_extremes(no_above=0.3)"
     ],
     "language": "python",
     "metadata": {},
     "outputs": [],
     "prompt_number": 332
    },
    {
     "cell_type": "code",
     "collapsed": false,
     "input": [
      "print dictionary"
     ],
     "language": "python",
     "metadata": {},
     "outputs": [
      {
       "output_type": "stream",
       "stream": "stdout",
       "text": [
        "Dictionary(99997 unique tokens)\n"
       ]
      }
     ],
     "prompt_number": 333
    }
   ],
   "metadata": {}
  }
 ]
}