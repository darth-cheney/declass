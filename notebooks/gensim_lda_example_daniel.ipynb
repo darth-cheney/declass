{
 "metadata": {
  "name": ""
 },
 "nbformat": 3,
 "nbformat_minor": 0,
 "worksheets": [
  {
   "cells": [
    {
     "cell_type": "markdown",
     "metadata": {},
     "source": [
      "# Gensim example\n",
      "\n",
      "* The [gensim tutorial](http://radimrehurek.com/gensim/tut1.html) shows you many ways of doing things...and gives reasons and explanations.\n",
      "* This notebook gives a step-by-step cookbook that will work if have a directory structure with flat files\n",
      "  * Use IPython's object introspection and help displays to learn about the objects created\n",
      "  * The custom classes are located in the `declass` repo, so you can also look at the source code."
     ]
    },
    {
     "cell_type": "markdown",
     "metadata": {},
     "source": [
      "---\n",
      "\n",
      "## Set up\n",
      "\n",
      "---"
     ]
    },
    {
     "cell_type": "code",
     "collapsed": false,
     "input": [
      "import os\n",
      "\n",
      "import pandas as pd\n",
      "import matplotlib.pylab as plt\n",
      "\n",
      "from gensim import corpora, models, similarities\n",
      "import gensim\n",
      "\n",
      "from jrl_utils.src import nlp\n",
      "from declass.utils import text_processors, filefilter, gensim_helpers"
     ],
     "language": "python",
     "metadata": {},
     "outputs": [],
     "prompt_number": 6
    },
    {
     "cell_type": "code",
     "collapsed": false,
     "input": [
      "# Every time you change the source code you need to reload it\n",
      "reload(text_processors)\n",
      "reload(filefilter)\n",
      "reload(gensim_helpers)"
     ],
     "language": "python",
     "metadata": {},
     "outputs": [
      {
       "metadata": {},
       "output_type": "pyout",
       "prompt_number": 7,
       "text": [
        "<module 'declass.utils.gensim_helpers' from '/Users/danielkrasner/JRL/declass/declass/utils/gensim_helpers.pyc'>"
       ]
      }
     ],
     "prompt_number": 7
    },
    {
     "cell_type": "code",
     "collapsed": false,
     "input": [
      "# Set paths         \n",
      "# I use environment variables to set my base paths\n",
      "DATA = os.environ['DATA']                                                                 \n",
      "ME = os.environ['ME']                                                                     \n",
      "MYDATA = os.path.join(DATA, ME, 'ddrs-01')                                           \n",
      "RAW = os.path.join(MYDATA, 'raw')                                                         \n",
      "PROCESSED = os.path.join(MYDATA, 'processed')\n",
      "\n",
      "# You only need to set these paths below...any way you can\n",
      "metafile_path = os.path.join(RAW, 'ddrs_meta.csv')\n",
      "text_base_path = os.path.join(RAW, 'ddrs')\n",
      "corpus_path = os.path.join(PROCESSED, 'corpus', 'ddrs-gensim.svmlight')"
     ],
     "language": "python",
     "metadata": {},
     "outputs": [],
     "prompt_number": 8
    },
    {
     "cell_type": "markdown",
     "metadata": {},
     "source": [
      "---\n",
      "\n",
      "## Making a dictionary and a corpus\n",
      "\n",
      "* In gensim, a *dictionary* stores the mapping between strings (e.g. the words in text) and their integer representation (tokenid).  This can be accessed via `dictionary.token2id`.  It also has a function `doc2bow` that transforms tokens to a *bag of words*.\n",
      "* In gensim, a *bag of words* is a list of tuples $$[(tokenid_1, value_1),...,(tokenid_k, value_k)]$$ where $tokenid_j$ is an integer, and $value_k$ is a real number.\n",
      "* In gensim, a *corpus* is an [iterable](http://stackoverflow.com/questions/9884132/understanding-pythons-iterator-iterable-and-iteration-protocols-what-exact) over *bag of words* representations of documents.\n",
      "\n",
      "---"
     ]
    },
    {
     "cell_type": "code",
     "collapsed": false,
     "input": [
      "# Limit analysis to these lines of the corpus.  This is very useful for learning.\n",
      "# Set == None for no limit.  Set to 5000 to finish in a reasonable amount of time.\n",
      "limit = 2000"
     ],
     "language": "python",
     "metadata": {},
     "outputs": [],
     "prompt_number": 9
    },
    {
     "cell_type": "code",
     "collapsed": false,
     "input": [
      "# The tokenizer turns strings of text such as \"hi bye\" into lists of tokens, e.g. ['hi', 'bye']\n",
      "# You can add your own tokenizers to text_processors.  Give them the same API as TokenizerBasic.\n",
      "tokenizer = text_processors.TokenizerBasic()"
     ],
     "language": "python",
     "metadata": {},
     "outputs": [],
     "prompt_number": 10
    },
    {
     "cell_type": "code",
     "collapsed": false,
     "input": [
      "# Define a TokenStreamer over a set of paths\n",
      "# token_stream will read text from each path and return tokens\n",
      "path_iter = filefilter.get_paths(text_base_path, get_iter=True)\n",
      "token_stream = text_processors.TokenStreamer(tokenizer, paths=path_iter, limit=limit)"
     ],
     "language": "python",
     "metadata": {},
     "outputs": [],
     "prompt_number": 11
    },
    {
     "cell_type": "code",
     "collapsed": false,
     "input": [
      "# Convert the token stream into a dictionary\n",
      "# Note that nothing was read from disk until this point!  \n",
      "# Previously, we had simply defined iterators over files, \n",
      "# but we only here do we tell the iterators to start their iterations.\n",
      "dictionary = corpora.Dictionary(token_stream)\n",
      "print dictionary"
     ],
     "language": "python",
     "metadata": {},
     "outputs": [
      {
       "output_type": "stream",
       "stream": "stdout",
       "text": [
        "Dictionary(24537 unique tokens)\n"
       ]
      }
     ],
     "prompt_number": 12
    },
    {
     "cell_type": "code",
     "collapsed": false,
     "input": [
      "dictionary.dfs?"
     ],
     "language": "python",
     "metadata": {},
     "outputs": [],
     "prompt_number": 15
    },
    {
     "cell_type": "code",
     "collapsed": false,
     "input": [
      "# Filter extreme words using the built-in method filter_extremes()\n",
      "dictionary.filter_extremes()\n",
      "\n",
      "# You can also do a custom filter, e.g.\n",
      "# Remove some words that occur less than 5 times from dict:\n",
      "low_freq_ids = [tokenid for tokenid, docfreq in dictionary.dfs.iteritems() if docfreq < 5]\n",
      "dictionary.filter_tokens(low_freq_ids)"
     ],
     "language": "python",
     "metadata": {},
     "outputs": [],
     "prompt_number": 17
    },
    {
     "cell_type": "code",
     "collapsed": false,
     "input": [
      "# Compactify and save to disk\n",
      "# ALWAYS compactify since this removes gaps and allows for a decent matrix representation (useful later)\n",
      "dictionary.compactify()\n",
      "dictionary.save(os.path.join(PROCESSED, 'dict', 'ddrs.dict'))\n",
      "print dictionary"
     ],
     "language": "python",
     "metadata": {},
     "outputs": [
      {
       "output_type": "stream",
       "stream": "stdout",
       "text": [
        "Dictionary(5952 unique tokens)\n"
       ]
      }
     ],
     "prompt_number": 18
    },
    {
     "cell_type": "code",
     "collapsed": false,
     "input": [
      "# Create and then serialize (save to disk in a compact format) a corpus\n",
      "corpus = gensim_helpers.TextFilesCorpus(tokenizer, dictionary, base_path=text_base_path, limit=limit)\n",
      "corpora.SvmLightCorpus.serialize(corpus_path, corpus)"
     ],
     "language": "python",
     "metadata": {},
     "outputs": [],
     "prompt_number": 19
    },
    {
     "cell_type": "markdown",
     "metadata": {},
     "source": [
      "## Do some EDA on the dictionary\n",
      "\n",
      "* You could also modify the dictionary here"
     ]
    },
    {
     "cell_type": "code",
     "collapsed": false,
     "input": [
      "id2token = dict(dictionary.items())  # dictionary.id2token is not populated by default!!!\n",
      "words = pd.DataFrame(\n",
      "                {id2token[tokenid]: [tokenid, docfreq] \n",
      "                 for tokenid, docfreq in dictionary.dfs.iteritems()},\n",
      "                index=['tokenid', 'docfreq']).T"
     ],
     "language": "python",
     "metadata": {},
     "outputs": [],
     "prompt_number": 28
    },
    {
     "cell_type": "code",
     "collapsed": false,
     "input": [
      "words = words.sort_index(by='docfreq', ascending=False)\n",
      "words.head()"
     ],
     "language": "python",
     "metadata": {},
     "outputs": [
      {
       "html": [
        "<div style=\"max-height:1000px;max-width:1500px;overflow:auto;\">\n",
        "<table border=\"1\" class=\"dataframe\">\n",
        "  <thead>\n",
        "    <tr style=\"text-align: right;\">\n",
        "      <th></th>\n",
        "      <th>tokenid</th>\n",
        "      <th>docfreq</th>\n",
        "    </tr>\n",
        "  </thead>\n",
        "  <tbody>\n",
        "    <tr>\n",
        "      <th>secret</th>\n",
        "      <td> 3957</td>\n",
        "      <td> 828</td>\n",
        "    </tr>\n",
        "    <tr>\n",
        "      <th>one</th>\n",
        "      <td>  534</td>\n",
        "      <td> 541</td>\n",
        "    </tr>\n",
        "    <tr>\n",
        "      <th>information</th>\n",
        "      <td>  835</td>\n",
        "      <td> 481</td>\n",
        "    </tr>\n",
        "    <tr>\n",
        "      <th>two</th>\n",
        "      <td> 3763</td>\n",
        "      <td> 464</td>\n",
        "    </tr>\n",
        "    <tr>\n",
        "      <th>used</th>\n",
        "      <td> 2511</td>\n",
        "      <td> 463</td>\n",
        "    </tr>\n",
        "  </tbody>\n",
        "</table>\n",
        "</div>"
       ],
       "metadata": {},
       "output_type": "pyout",
       "prompt_number": 29,
       "text": [
        "             tokenid  docfreq\n",
        "secret          3957      828\n",
        "one              534      541\n",
        "information      835      481\n",
        "two             3763      464\n",
        "used            2511      463"
       ]
      }
     ],
     "prompt_number": 29
    },
    {
     "cell_type": "code",
     "collapsed": false,
     "input": [
      "# Log plot of distribution shows rapidly decaying tail\n",
      "words.docfreq.apply(np.log10).hist(bins=200)"
     ],
     "language": "python",
     "metadata": {},
     "outputs": [
      {
       "metadata": {},
       "output_type": "pyout",
       "prompt_number": 30,
       "text": [
        "<matplotlib.axes.AxesSubplot at 0x113b46210>"
       ]
      },
      {
       "metadata": {
        "png": {
         "height": 252,
         "width": 378
        }
       },
       "output_type": "display_data",
       "png": "[encoded data removed]",
       "text": [
        "<matplotlib.figure.Figure at 0x113b46390>"
       ]
      }
     ],
     "prompt_number": 30
    },
    {
     "cell_type": "markdown",
     "metadata": {},
     "source": [
      "## Simple topic modeling"
     ]
    },
    {
     "cell_type": "code",
     "collapsed": false,
     "input": [
      "# Load the corpus from disk \n",
      "# You should start all analysis with this step\n",
      "corpus = corpora.SvmLightCorpus(corpus_path)"
     ],
     "language": "python",
     "metadata": {},
     "outputs": [],
     "prompt_number": 32
    },
    {
     "cell_type": "markdown",
     "metadata": {},
     "source": [
      "## LSI"
     ]
    },
    {
     "cell_type": "code",
     "collapsed": false,
     "input": [
      "lsi = models.LsiModel(corpus, id2word=dictionary, num_topics=2)"
     ],
     "language": "python",
     "metadata": {},
     "outputs": [],
     "prompt_number": 33
    },
    {
     "cell_type": "code",
     "collapsed": false,
     "input": [
      "lsi.print_topics(2)"
     ],
     "language": "python",
     "metadata": {},
     "outputs": [
      {
       "metadata": {},
       "output_type": "pyout",
       "prompt_number": 34,
       "text": [
        "['0.161*\"soviet\" + 0.153*\"forces\" + 0.153*\"military\" + 0.153*\"units\" + 0.150*\"army\" + 0.149*\"secret\" + 0.142*\"control\" + 0.138*\"chinese\" + 0.135*\"general\" + 0.131*\"north\"',\n",
        " '0.257*\"fnu\" + 0.255*\"formerly\" + 0.237*\"missile\" + -0.180*\"chinese\" + -0.177*\"china\" + -0.173*\"government\" + 0.171*\"ing\" + 0.167*\"engineer\" + -0.149*\"communist\" + 0.148*\"secret\"']"
       ]
      }
     ],
     "prompt_number": 34
    },
    {
     "cell_type": "code",
     "collapsed": false,
     "input": [
      "lsi.print_topics?\n"
     ],
     "language": "python",
     "metadata": {},
     "outputs": [],
     "prompt_number": 37
    },
    {
     "cell_type": "markdown",
     "metadata": {},
     "source": [
      "## LDA"
     ]
    },
    {
     "cell_type": "code",
     "collapsed": false,
     "input": [
      "num_words = len(dictionary.items())"
     ],
     "language": "python",
     "metadata": {},
     "outputs": [],
     "prompt_number": 114
    },
    {
     "cell_type": "code",
     "collapsed": false,
     "input": [
      "# Standard settings\n",
      "alpha = None # same as alpha = 1\n",
      "eta = None  # same as eta = 1\n",
      "num_topics = 5"
     ],
     "language": "python",
     "metadata": {},
     "outputs": [],
     "prompt_number": 115
    },
    {
     "cell_type": "code",
     "collapsed": false,
     "input": [
      "# Screwball alpha setting\n",
      "# pdf(topic) is peaked near 1 for topic 0, and uniform in topics 1 to 4\n",
      "# ...so topic 1 is the most likely topic.  See the histogram of df_corpus below\n",
      "alpha = [10, 1, 1, 1, 1]\n",
      "eta = None"
     ],
     "language": "python",
     "metadata": {},
     "outputs": [],
     "prompt_number": 79
    },
    {
     "cell_type": "code",
     "collapsed": false,
     "input": [
      "# Screwball eta setting\n",
      "# pdf(word | topic) is peaked near 1 for word 0, and near 0 for the other words\n",
      "# so word 0 is the most likely word.  You can find \"word 0\" using dictionary.id2token[0] \n",
      "# See the topic printout below and you should find that word 0 is in every topic!\n",
      "alpha = None\n",
      "eta = np.r_[1000, 0.1 * np.ones(num_words - 1)]"
     ],
     "language": "python",
     "metadata": {},
     "outputs": [],
     "prompt_number": 80
    },
    {
     "cell_type": "code",
     "collapsed": false,
     "input": [
      "# Train the LDA model\n",
      "lda = models.LdaModel(corpus, id2word=dictionary, num_topics=num_topics, passes=1, alpha=alpha, eta=eta, chunksize=4000)"
     ],
     "language": "python",
     "metadata": {},
     "outputs": [],
     "prompt_number": 116
    },
    {
     "cell_type": "code",
     "collapsed": false,
     "input": [
      "# Print the top 6 words for every topic\n",
      "for i in range(num_topics):\n",
      "    print\n",
      "    print \"topic\", i\n",
      "    print lda.print_topic(i, topn=6)"
     ],
     "language": "python",
     "metadata": {},
     "outputs": [
      {
       "output_type": "stream",
       "stream": "stdout",
       "text": [
        "\n",
        "topic 0\n",
        "0.009*forces + 0.009*secret + 0.008*air + 0.006*enemy + 0.006*area + 0.006*north\n",
        "\n",
        "topic 1\n",
        "0.010*secret + 0.007*nsc + 0.006*intelligence + 0.006*security + 0.005*defense + 0.005*military\n",
        "\n",
        "topic 2\n",
        "0.009*soviet + 0.007*states + 0.007*united + 0.006*economic + 0.005*communist + 0.005*countries\n",
        "\n",
        "topic 3\n",
        "0.007*secret + 0.007*copy + 0.006*library + 0.005*text + 0.004*lbj + 0.004*illegible\n",
        "\n",
        "topic 4\n",
        "0.017*mr + 0.009*president + 0.008*secretary + 0.006*secret + 0.005*confidential + 0.004*date\n"
       ]
      }
     ],
     "prompt_number": 117
    },
    {
     "cell_type": "code",
     "collapsed": false,
     "input": [
      "# Print the topic distribution for the first document in the corpus\n",
      "one_doc = corpus.docbyoffset(corpus.index[0])\n",
      "vec_lda = lda[one_doc]\n",
      "print vec_lda"
     ],
     "language": "python",
     "metadata": {},
     "outputs": [
      {
       "output_type": "stream",
       "stream": "stdout",
       "text": [
        "[(1, 0.59096718057923237), (4, 0.40576017444218088)]\n"
       ]
      }
     ],
     "prompt_number": 118
    },
    {
     "cell_type": "code",
     "collapsed": false,
     "input": [
      "# Store the topic score for every doc in the corpus\n",
      "df_corpus = pd.concat([pd.Series(dict(doc)) for doc in lda[corpus]], axis=1).fillna(0).T"
     ],
     "language": "python",
     "metadata": {},
     "outputs": [],
     "prompt_number": 119
    },
    {
     "cell_type": "code",
     "collapsed": false,
     "input": [
      "# Look at histograms of each topic over the corpus\n",
      "fig = df_corpus.hist()"
     ],
     "language": "python",
     "metadata": {},
     "outputs": [
      {
       "metadata": {},
       "output_type": "display_data",
       "png": "[encoded data removed]",
       "text": [
        "<matplotlib.figure.Figure at 0x9e40150>"
       ]
      }
     ],
     "prompt_number": 120
    },
    {
     "cell_type": "code",
     "collapsed": false,
     "input": [
      "# Look at similarity between one_doc and all the other docs in the corpus\n",
      "# MatrixSimilarity uses a regular matrix...not good for memory\n",
      "# See http://radimrehurek.com/gensim/tut3.html  for different similarity matrix types (e.g. sparse)\n",
      "#\n",
      "# Of course this doc is most similar (score = 1) with itself.\n",
      "index = similarities.MatrixSimilarity(lda[corpus])\n",
      "doc_zero = corpus.docbyoffset(corpus.index[0])\n",
      "sims = index[lda[doc_zero]]\n",
      "print sims[:5]"
     ],
     "language": "python",
     "metadata": {},
     "outputs": [
      {
       "output_type": "stream",
       "stream": "stdout",
       "text": [
        "[ 1.          0.62181062  0.65315092  0.81168163  0.        ]\n"
       ]
      }
     ],
     "prompt_number": 121
    },
    {
     "cell_type": "code",
     "collapsed": false,
     "input": [
      "# Compare a new doc to the existing docs\n",
      "# This time, store the similarity in a pandas Series for easy plotting\n",
      "new_doc = dictionary.doc2bow(['hello', 'my', 'name', 'is', 'richard', 'nixon'])\n",
      "new_doc_sims = pd.Series(index[lda[new_doc]])\n",
      "fig = new_doc_sims.hist()"
     ],
     "language": "python",
     "metadata": {},
     "outputs": [
      {
       "metadata": {},
       "output_type": "display_data",
       "png": "[encoded data removed]",
       "text": [
        "<matplotlib.figure.Figure at 0x83d9090>"
       ]
      }
     ],
     "prompt_number": 122
    },
    {
     "cell_type": "markdown",
     "metadata": {},
     "source": [
      "---\n",
      "\n",
      "# Performance considerations\n",
      "\n",
      "* Walking through a directory structure and tokenizing every file is slow\n",
      "  * You can tokenize once (quickly) and then re-load these tokens\n",
      "\n",
      "* LDA is slow\n",
      "  * Not sure what to do...I am linked against MKL...maybe VW is the only way\n",
      "  \n",
      "---"
     ]
    },
    {
     "cell_type": "markdown",
     "metadata": {},
     "source": [
      "### Quick parallel tokenization\n",
      "\n",
      "Use the command line utility `cmd/files_to_vw.py` to tokenize and save to a sparse format.  Use the `n_jobs` option to do this in parallel.  Note that this utility requires the [parallel_easy](https://github.com/langmore/parallel_easy) library."
     ]
    },
    {
     "cell_type": "markdown",
     "metadata": {},
     "source": [
      "### Quick (VW) corpus streaming\n",
      "\n",
      "1. Use `VWFormatter.sfile_to_token_iter()` to convert the sparse files to a stream of token lists.\n",
      "2. Convert this stream to a dictionary\n",
      "3. Modify the dictionary if necessary\n",
      "4. Create the stream once again\n",
      "5. Serialize into the sparse SvmLightCorpus\n",
      "\n",
      "Note that we store the original corpus in VW format since this is much richer than SvmLight.  In particular, you can use actual strings to save the tokens, rather than tokenid (as required by SvmLight)."
     ]
    },
    {
     "cell_type": "code",
     "collapsed": false,
     "input": [
      "vw_corpus_path = os.path.join(PROCESSED, 'corpus', 'ddrs-vw')"
     ],
     "language": "python",
     "metadata": {},
     "outputs": [],
     "prompt_number": 323
    },
    {
     "cell_type": "code",
     "collapsed": false,
     "input": [
      "# Build a dictionary from a sparse (VW) representation of a corpus\n",
      "# About 2x faster than tokenizing on the fly using the BasicTokenizer\n",
      "# Even faster if your tokenizer is slow\n",
      "token_stream = text_processors.VWFormatter().sfile_to_token_iter(vw_corpus_path)\n",
      "dictionary = corpora.Dictionary(token_stream)"
     ],
     "language": "python",
     "metadata": {},
     "outputs": [],
     "prompt_number": 325
    },
    {
     "cell_type": "code",
     "collapsed": false,
     "input": [
      "# Note:  This interface is experimental\n",
      "token_stream = text_processors.VWFormatter().sfile_to_token_iter(vw_corpus_path)\n",
      "\n",
      "class MyCorpus(object):\n",
      "    \"\"\"\n",
      "    A simple corpus built with a dictionary and a token stream. \n",
      "    \"\"\"\n",
      "    def __init__(self, dictionary, token_stream):\n",
      "        self.token_stream = token_stream\n",
      "        self.dictionary = dictionary\n",
      "    \n",
      "    def __iter__(self):\n",
      "        \"\"\"\n",
      "        This method returns an iterator.\n",
      "        This method is automatically called when you use MyCorpus in a for loop.  The returned value becomes the loop iterator.\n",
      "        \"\"\"\n",
      "        for token_list in token_stream:\n",
      "            yield self.dictionary.doc2bow(token_list)\n",
      "\n",
      "%timeit -n1 -r1 corpora.SvmLightCorpus.serialize(corpus_path, MyCorpus(dictionary, token_stream))"
     ],
     "language": "python",
     "metadata": {},
     "outputs": [
      {
       "output_type": "stream",
       "stream": "stdout",
       "text": [
        "1 loops, best of 1: 5min 52s per loop\n"
       ]
      }
     ],
     "prompt_number": 340
    },
    {
     "cell_type": "markdown",
     "metadata": {},
     "source": [
      "### Similarities\n"
     ]
    },
    {
     "cell_type": "code",
     "collapsed": false,
     "input": [
      "#In case you have not run the above this session, load the dictionary and corpus from disk\n",
      "dictionary = corpora.Dictionary.load(os.path.join(PROCESSED, 'dict', 'ddrs.dict'))\n",
      "corpus = corpora.SvmLightCorpus(corpus_path)"
     ],
     "language": "python",
     "metadata": {},
     "outputs": [],
     "prompt_number": 44
    },
    {
     "cell_type": "code",
     "collapsed": false,
     "input": [
      "#first define an LSI space\n",
      "lsi = models.LsiModel(corpus, id2word=dictionary, num_topics=2)"
     ],
     "language": "python",
     "metadata": {},
     "outputs": [],
     "prompt_number": 52
    },
    {
     "cell_type": "code",
     "collapsed": false,
     "input": [
      "#lets pick a query and find documents which match or are similar to it\n",
      "query = 'Cold war threat'\n",
      "query_dict = corpora.Dictionary(tokenizer.text_to_token_list(query))"
     ],
     "language": "python",
     "metadata": {},
     "outputs": [],
     "prompt_number": 64
    },
    {
     "cell_type": "code",
     "collapsed": false,
     "input": [
      "query_dict.items()"
     ],
     "language": "python",
     "metadata": {},
     "outputs": [
      {
       "metadata": {},
       "output_type": "pyout",
       "prompt_number": 65,
       "text": [
        "[(4, 'a'),\n",
        " (0, 'c'),\n",
        " (7, 'e'),\n",
        " (1, 'd'),\n",
        " (8, 'h'),\n",
        " (2, 'l'),\n",
        " (3, 'o'),\n",
        " (5, 'r'),\n",
        " (9, 't'),\n",
        " (6, 'w')]"
       ]
      }
     ],
     "prompt_number": 65
    },
    {
     "cell_type": "markdown",
     "metadata": {},
     "source": [
      "---\n",
      "\n",
      "# Scratch work\n",
      "\n",
      "---"
     ]
    },
    {
     "cell_type": "code",
     "collapsed": false,
     "input": [
      "print dictionary"
     ],
     "language": "python",
     "metadata": {},
     "outputs": [
      {
       "output_type": "stream",
       "stream": "stdout",
       "text": [
        "Dictionary(1461280 unique tokens)\n"
       ]
      }
     ],
     "prompt_number": 328
    },
    {
     "cell_type": "code",
     "collapsed": false,
     "input": [
      "dictionary.filter_extremes?"
     ],
     "language": "python",
     "metadata": {},
     "outputs": [],
     "prompt_number": 329
    },
    {
     "cell_type": "code",
     "collapsed": false,
     "input": [
      "dictionary.filter_extremes(no_below=5, no_above=0.5)"
     ],
     "language": "python",
     "metadata": {},
     "outputs": [],
     "prompt_number": 330
    },
    {
     "cell_type": "code",
     "collapsed": false,
     "input": [
      "print dictionary"
     ],
     "language": "python",
     "metadata": {},
     "outputs": [
      {
       "output_type": "stream",
       "stream": "stdout",
       "text": [
        "Dictionary(100000 unique tokens)\n"
       ]
      }
     ],
     "prompt_number": 331
    },
    {
     "cell_type": "code",
     "collapsed": false,
     "input": [
      "dictionary.filter_extremes(no_above=0.3)"
     ],
     "language": "python",
     "metadata": {},
     "outputs": [],
     "prompt_number": 332
    },
    {
     "cell_type": "code",
     "collapsed": false,
     "input": [
      "print dictionary"
     ],
     "language": "python",
     "metadata": {},
     "outputs": [
      {
       "output_type": "stream",
       "stream": "stdout",
       "text": [
        "Dictionary(99997 unique tokens)\n"
       ]
      }
     ],
     "prompt_number": 333
    }
   ],
   "metadata": {}
  }
 ]
}